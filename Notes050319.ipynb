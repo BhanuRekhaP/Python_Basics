{
 "cells": [
  {
   "cell_type": "markdown",
   "metadata": {},
   "source": [
    "# Receiving Inputs:"
   ]
  },
  {
   "cell_type": "code",
   "execution_count": 3,
   "metadata": {},
   "outputs": [
    {
     "name": "stdout",
     "output_type": "stream",
     "text": [
      "Enter two value: 1 2\n",
      "First Number is:  1\n",
      "Second Number is:  2\n",
      "\n",
      "Enter three value: 1 2 3\n",
      "First Number is:  1\n",
      "Second Number is:  2\n",
      "Third Number is:  3\n",
      "\n",
      "Enter two value: 1 2\n",
      "First number is 1 and second number is 2\n",
      "\n",
      "Enter multiple value: 1 2 3 4\n",
      "Number of list is:  [1, 2, 3, 4]\n"
     ]
    }
   ],
   "source": [
    "# Python program showing \n",
    "# how to take multiple input \n",
    "# using List comprehension \n",
    "  \n",
    "# taking two input at a time \n",
    "x, y = [int(x) for x in input(\"Enter two value: \").split()] \n",
    "print(\"First Number is: \", x) \n",
    "print(\"Second Number is: \", y) \n",
    "print() \n",
    "  \n",
    "# taking three input at a time \n",
    "x, y, z = [int(x) for x in input(\"Enter three value: \").split()] \n",
    "print(\"First Number is: \", x) \n",
    "print(\"Second Number is: \", y) \n",
    "print(\"Third Number is: \", z) \n",
    "print() \n",
    "  \n",
    "# taking two inputs at a time \n",
    "x, y = [int(x) for x in input(\"Enter two value: \").split()] \n",
    "print(\"First number is {} and second number is {}\".format(x, y)) \n",
    "print() \n",
    "  \n",
    "# taking multiple inputs at a time  \n",
    "x = [int(x) for x in input(\"Enter multiple value: \").split()] \n",
    "print(\"Number of list is: \", x)  "
   ]
  },
  {
   "cell_type": "code",
   "execution_count": 2,
   "metadata": {},
   "outputs": [
    {
     "name": "stdout",
     "output_type": "stream",
     "text": [
      "Enter two value: 9 9\n",
      "9,9  \n"
     ]
    }
   ],
   "source": [
    "# taking two inputs at a time \n",
    "x, y = [int(x) for x in input(\"Enter two value: \").split()] \n",
    "#print(\"First number is {} and second number is {}\".format(x, y)) \n",
    "print(\"{},{}  \".format(x, y))"
   ]
  },
  {
   "cell_type": "markdown",
   "metadata": {},
   "source": [
    "# Logical operations"
   ]
  },
  {
   "cell_type": "code",
   "execution_count": 4,
   "metadata": {},
   "outputs": [
    {
     "data": {
      "text/plain": [
       "True"
      ]
     },
     "execution_count": 4,
     "metadata": {},
     "output_type": "execute_result"
    }
   ],
   "source": [
    "#and operation\n",
    "#if we use and no need to use paranthesis \n",
    "# if we use & operatoe we have to use parathesis\n",
    "a,b,c=1,2,3\n",
    "c>a and c>b\n",
    "(c>a) & (c>b)"
   ]
  },
  {
   "cell_type": "code",
   "execution_count": 10,
   "metadata": {},
   "outputs": [
    {
     "data": {
      "text/plain": [
       "False"
      ]
     },
     "execution_count": 10,
     "metadata": {},
     "output_type": "execute_result"
    }
   ],
   "source": [
    "#or operation\n",
    "x,y,z = 3,4,5\n",
    "x>y or y>z\n"
   ]
  },
  {
   "cell_type": "code",
   "execution_count": 11,
   "metadata": {},
   "outputs": [
    {
     "data": {
      "text/plain": [
       "True"
      ]
     },
     "execution_count": 11,
     "metadata": {},
     "output_type": "execute_result"
    }
   ],
   "source": [
    "city = \"banglore\"\n",
    "gender = \"male\"\n",
    "city == \"banglore\" or \"gender == female\""
   ]
  },
  {
   "cell_type": "code",
   "execution_count": 14,
   "metadata": {},
   "outputs": [
    {
     "name": "stdout",
     "output_type": "stream",
     "text": [
      "Enter any number:22\n"
     ]
    },
    {
     "data": {
      "text/plain": [
       "True"
      ]
     },
     "execution_count": 14,
     "metadata": {},
     "output_type": "execute_result"
    }
   ],
   "source": [
    "#even or odd\n",
    "i=int(input(\"Enter any number:\"))\n",
    "i%2 == 0"
   ]
  },
  {
   "cell_type": "code",
   "execution_count": 1,
   "metadata": {},
   "outputs": [
    {
     "name": "stdout",
     "output_type": "stream",
     "text": [
      "Enter any number:90\n"
     ]
    },
    {
     "data": {
      "text/plain": [
       "True"
      ]
     },
     "execution_count": 1,
     "metadata": {},
     "output_type": "execute_result"
    }
   ],
   "source": [
    "#not operator\n",
    "i=int(input(\"Enter any number:\"))\n",
    "not(i<20)"
   ]
  },
  {
   "cell_type": "code",
   "execution_count": 6,
   "metadata": {},
   "outputs": [
    {
     "name": "stdout",
     "output_type": "stream",
     "text": [
      "You are most welcome : Bhanu\n",
      "Yor anr not welcome Bhanu \n",
      "Bhanu you are welcome ! !\n",
      "You are welcome Bhanu here\n",
      "bhanu and Rekha are good people\n",
      "Venu has 4 years of experience\n"
     ]
    }
   ],
   "source": [
    "nm = \"Bhanu\"\n",
    "print(\"You are most welcome :\", nm)  # type 1 of printing\n",
    "print (\"Yor anr not welcome %s \" %nm) # type 2 of printing\n",
    "greet = (\"%s you are welcome ! !\")\n",
    "print(greet%(nm))\n",
    "greet1 = (\"You are welcome %s here\")\n",
    "print(greet1%(nm))\n",
    "#passing two arguments\n",
    "msg = \"%s and %s are good people\"\n",
    "print(msg%(\"bhanu\",\"Rekha\"))\n",
    "exp = \"%s has %d years of experience\"\n",
    "print(exp%(\"Venu\",4))"
   ]
  },
  {
   "cell_type": "markdown",
   "metadata": {},
   "source": [
    "# Advanced Data Types\n",
    "#1.Tuples - same or mixed data types & use small braces & allows duplicate & sort the data & non mutable(can not add delete or modify partial values) "
   ]
  },
  {
   "cell_type": "code",
   "execution_count": 47,
   "metadata": {},
   "outputs": [
    {
     "name": "stdout",
     "output_type": "stream",
     "text": [
      "(1, 2, 3, 4, 5) its data type is  <class 'tuple'>\n",
      "('apple', 'orange', 'cherry', 'grapes', 'apple')\n",
      "<class 'tuple'>\n",
      "5\n",
      "('orange', 'cherry', 'grapes')\n",
      "('orange', 'cherry', 'grapes')\n",
      "('apple', 'grapes', 'cherry', 'orange', 'apple')\n",
      "('cherry', 'grapes', 'apple')\n",
      "('cherry', 'grapes', 'apple')\n"
     ]
    }
   ],
   "source": [
    "a=(1,2,3,4,5)\n",
    "print(a,\"its data type is \",type(a))\n",
    "\n",
    "fruits=(\"apple\",\"orange\",\"cherry\",\"grapes\",\"apple\")\n",
    "print(fruits)\n",
    "print(type(fruits))\n",
    "print(len(fruits))\n",
    "#tuple slicing\n",
    "print(fruits[1:-1])\n",
    "print(fruits[1:(len(fruits)-1)])\n",
    "print(fruits[::-1])\n",
    "print(fruits[-3:])\n",
    "print(fruits[2:])"
   ]
  },
  {
   "cell_type": "code",
   "execution_count": 8,
   "metadata": {},
   "outputs": [
    {
     "name": "stdout",
     "output_type": "stream",
     "text": [
      "<class 'tuple'>\n",
      "['g', 'e', 'a']\n",
      "(23, 21, 22, 20, 19)\n"
     ]
    }
   ],
   "source": [
    "data=(\"Bhanu\",25,5.9)\n",
    "print(type(data))\n",
    "#sorting\n",
    "age=(23,21,22,20,19)\n",
    "print(sorted(\"age\",reverse=True))\n",
    "print(age)"
   ]
  },
  {
   "cell_type": "code",
   "execution_count": 67,
   "metadata": {},
   "outputs": [
    {
     "name": "stdout",
     "output_type": "stream",
     "text": [
      "(1, 2, 3, 4, 5)\n",
      "5\n"
     ]
    }
   ],
   "source": [
    "#tuple addition\n",
    "a=(1,2,3)\n",
    "b=(4,5)\n",
    "c=a+b\n",
    "print(c)\n",
    "print(len(c))\n",
    "del c #can not delete from a tuple\n",
    "#print(c)\n",
    "\n"
   ]
  },
  {
   "cell_type": "markdown",
   "metadata": {},
   "source": [
    "# SET"
   ]
  },
  {
   "cell_type": "code",
   "execution_count": null,
   "metadata": {},
   "outputs": [],
   "source": [
    "#denoted ny{} \n",
    "#does not allow duplicated or allows only unique values\n",
    "#mutable (can modify part of set)"
   ]
  },
  {
   "cell_type": "code",
   "execution_count": 77,
   "metadata": {},
   "outputs": [
    {
     "name": "stdout",
     "output_type": "stream",
     "text": [
      "{'banana', 'apple', 'grapes', 'cherry'}\n",
      "<class 'set'>\n",
      "{'cherry', 'grapes', 'banana', 'apple', 29, 'mango'}\n",
      "{'cherry', 'grapes', 'banana', 'apple', 'mango'}\n"
     ]
    }
   ],
   "source": [
    "fruit_s = {\"apple\",\"banana\",\"apple\",\"grapes\",\"cherry\"}\n",
    "print(fruit_s)\n",
    "print(type(fruit_s))\n",
    "fruit_s.add(\"mango\")              # adding objects to a set\n",
    "fruit_s.add(29)\n",
    "print(fruit_s)\n",
    "fruit_s.remove(29)               # removing objects to a set\n",
    "print(fruit_s)"
   ]
  },
  {
   "cell_type": "markdown",
   "metadata": {},
   "source": [
    "# List"
   ]
  },
  {
   "cell_type": "code",
   "execution_count": 78,
   "metadata": {},
   "outputs": [],
   "source": [
    "# uses [] , allows mixed data types\n",
    "#allows append, insert, replace, remove\n",
    "#allows duplicatesss\n",
    "#can sort\n"
   ]
  },
  {
   "cell_type": "code",
   "execution_count": 95,
   "metadata": {},
   "outputs": [
    {
     "name": "stdout",
     "output_type": "stream",
     "text": [
      "['cherry', 'grapes', 'banana', 'apple', 'mango']\n",
      "<class 'list'>\n",
      "['cherry', 'grapes', 'banana', 'apple', 'mango', 'candy']\n",
      "['cherry', 'grapes', 'banana', 'apple', 'mango', 'candy', 29]\n",
      "['cherry', 'grapes', 'yellow', 'banana', 'apple', 'mango', 'candy', 29]\n",
      "['cherry', 'grapes', 'black', 'banana', 'apple', 'mango', 'candy', 29]\n",
      "['cherry', 'grapes', 'black', 'banana', 'apple', 'mango', 'candy', 29, 'cherry', 'grapes', 'black', 'banana', 'apple', 'mango', 'candy', 29]\n",
      "{'black', 'cherry', 'grapes', 29, 'banana', 'apple', 'candy', 'mango'}\n",
      "candy\n",
      "choco\n",
      "biscuit\n",
      "lolly\n"
     ]
    }
   ],
   "source": [
    "b = ['cherry', 'grapes', 'banana', 'apple', 'mango']\n",
    "print(b)\n",
    "print(type(b))\n",
    "b.append(\"candy\")                          # add to the end of the list\n",
    "print(b)\n",
    "b.append(29)\n",
    "print(b)\n",
    "b.insert(2,\"yellow\")                       # inserts in a particular location\n",
    "print(b)\n",
    "b[2]= \"black\"                              #replaces an element\n",
    "print(b)\n",
    "c = b + b\n",
    "print(c)\n",
    "d = set(c)\n",
    "print(d)\n",
    "aw=[\"candy\",\"choco\",\"biscuit\",\"lolly\"]\n",
    "qw= \"\\n\".join(aw)\n",
    "print(qw)"
   ]
  },
  {
   "cell_type": "markdown",
   "metadata": {},
   "source": [
    "# Dictionary\n"
   ]
  },
  {
   "cell_type": "code",
   "execution_count": 96,
   "metadata": {},
   "outputs": [],
   "source": [
    "#uses {}\n",
    "# it has key value for each match\n",
    "#key must be unique values if it is duplicated holds only the last value\n",
    "#items means each key along withis value"
   ]
  },
  {
   "cell_type": "code",
   "execution_count": 111,
   "metadata": {},
   "outputs": [
    {
     "name": "stdout",
     "output_type": "stream",
     "text": [
      "{1: 'bhanu', 2: 'venu', 3: 'steve', 4: 'maggie'} \n",
      " <class 'dict'>\n",
      "venu\n",
      "{1: 'bhanu', 2: 'venuhya', 3: 'steve', 4: 'maggie'} \n",
      " dict_keys([1, 2, 3, 4]) \n",
      " dict_values(['bhanu', 'venuhya', 'steve', 'maggie']) \n",
      " dict_items([(1, 'bhanu'), (2, 'venuhya'), (3, 'steve'), (4, 'maggie')])\n",
      "{1: 'bhanu', 2: 'venuhya', 3: 'steve'}\n",
      "dict_items([(1, 'bhanu'), (2, 'venuhya'), (3, 'steve')])\n"
     ]
    }
   ],
   "source": [
    "dict= {1:\"bhanu\",2:\"venu\",3:\"steve\",4:\"maggie\"}\n",
    "print(dict,\"\\n\",type(dict))\n",
    "print(dict[2])\n",
    "dict[2] = \"venuhya\"\n",
    "print(dict,\"\\n\",dict.keys(),\"\\n\",dict.values(),\"\\n\",dict.items())\n",
    "del dict[4]\n",
    "print(dict)\n",
    "print(dict.items())"
   ]
  },
  {
   "cell_type": "code",
   "execution_count": 116,
   "metadata": {},
   "outputs": [
    {
     "name": "stdout",
     "output_type": "stream",
     "text": [
      "He\n"
     ]
    }
   ],
   "source": [
    "#Nested dictionary\n",
    "\n",
    "elements= {'hydrogen':{'number':1,'weight':1.00794,'symbol':'H'},\n",
    "           'helium':{'number':2,'weight':4.002602,'symbol':'He'}}\n",
    "\n",
    "print(elements['helium']['symbol'])\n"
   ]
  },
  {
   "cell_type": "code",
   "execution_count": 117,
   "metadata": {},
   "outputs": [],
   "source": [
    "#Case studies"
   ]
  },
  {
   "cell_type": "code",
   "execution_count": 120,
   "metadata": {},
   "outputs": [
    {
     "name": "stdout",
     "output_type": "stream",
     "text": [
      "G\n",
      "r\n",
      "e\n",
      "a\n",
      "t\n",
      "l\n",
      "e\n",
      "a\n",
      "r\n",
      "n\n",
      "i\n",
      "n\n",
      "g\n",
      "G\tr\te\ta\tt\tl\te\ta\tr\tn\ti\tn\tg\n",
      "Goopsroopseoopsaoopstoopsloopseoopsaoopsroopsnoopsioopsnoopsg\n"
     ]
    }
   ],
   "source": [
    "l=\"Greatlearning\"\n",
    "print(\"\\n\".join(l))\n",
    "print(\"\\t\".join(l))\n",
    "print(\"oops\".join(l))\n"
   ]
  },
  {
   "cell_type": "markdown",
   "metadata": {},
   "source": [
    "# Loops"
   ]
  },
  {
   "cell_type": "code",
   "execution_count": 124,
   "metadata": {},
   "outputs": [
    {
     "name": "stdout",
     "output_type": "stream",
     "text": [
      "inside else loop\n"
     ]
    }
   ],
   "source": [
    "#Conditional statement\n",
    "# if loop and if-else loop and if-elif-else\n",
    "# for loop\n",
    "#\n",
    "if(3>5):\n",
    "    print(\"inside if loop\")\n",
    "else:\n",
    "    print(\"inside else loop\")"
   ]
  },
  {
   "cell_type": "code",
   "execution_count": 125,
   "metadata": {},
   "outputs": [
    {
     "name": "stdout",
     "output_type": "stream",
     "text": [
      "Validation success\n"
     ]
    }
   ],
   "source": [
    "user=\"greatlearning\"\n",
    "pwd=\"pwd\"\n",
    "if (user==\"greatlearning\") & (pwd==\"pwd\"):\n",
    "    print(\"Validation success\")\n",
    "else:\n",
    "    print(\"enter your right username and password\")\n",
    "    \n"
   ]
  },
  {
   "cell_type": "code",
   "execution_count": 128,
   "metadata": {},
   "outputs": [
    {
     "name": "stdout",
     "output_type": "stream",
     "text": [
      "enter your right username and password\n"
     ]
    }
   ],
   "source": [
    "user=\"gratlearning\"\n",
    "pwd=\"pwd\"\n",
    "if (user==\"greatlearning\") & (pwd==\"pwd\"):\n",
    "    print(\"Validation success\")\n",
    "else:\n",
    "    print(\"enter your right username and password\")\n",
    "    \n"
   ]
  },
  {
   "cell_type": "code",
   "execution_count": 134,
   "metadata": {},
   "outputs": [
    {
     "name": "stdout",
     "output_type": "stream",
     "text": [
      "enter a number2\n",
      "even\n"
     ]
    }
   ],
   "source": [
    "i=int(input(\"enter a number\"))\n",
    "if((i%2)==0):\n",
    "    print(\"even\")\n",
    "else:\n",
    "    print(\"odd\")"
   ]
  },
  {
   "cell_type": "code",
   "execution_count": 138,
   "metadata": {},
   "outputs": [
    {
     "name": "stdout",
     "output_type": "stream",
     "text": [
      "enter a number1\n",
      "enter a number0\n",
      "enter a number1\n",
      "enter a value greater than 0\n"
     ]
    }
   ],
   "source": [
    "a=int(input(\"enter a number\"))\n",
    "b=int(input(\"enter a number\"))\n",
    "c=int(input(\"enter a number\"))\n",
    "\n",
    "if (a==0 or b==0 or c==0):\n",
    "    print(\"enter a value greater than 0\")\n",
    "else:\n",
    "    if(a>b and a>c):\n",
    "        print(\"a is greatest\")\n",
    "    elif(b>a and b>c):\n",
    "        print(\"b is greatest\")\n",
    "    else:\n",
    "        print(\"c is greatest\")"
   ]
  },
  {
   "cell_type": "code",
   "execution_count": 9,
   "metadata": {},
   "outputs": [
    {
     "name": "stdout",
     "output_type": "stream",
     "text": [
      "enter a number1\n",
      "enter a number2\n",
      "enter a number3\n",
      "c is greatest\n"
     ]
    }
   ],
   "source": [
    "a=int(input(\"enter a number\"))\n",
    "if(a==0):\n",
    "    print(\"enter a value greater than 0\")\n",
    "b=int(input(\"enter a number\"))\n",
    "if(b==0):\n",
    "    print(\"enter a value greater than 0\")\n",
    "c=int(input(\"enter a number\"))\n",
    "\n",
    "if (a==0 or b==0 or c==0):\n",
    "    print(\"enter a value greater than 0\")\n",
    "else:\n",
    "    if(a>b and a>c):\n",
    "        print(\"a is greatest\")\n",
    "    elif(b>a and b>c):\n",
    "        print(\"b is greatest\")\n",
    "    else:\n",
    "        print(\"c is greatest\")"
   ]
  },
  {
   "cell_type": "code",
   "execution_count": 143,
   "metadata": {},
   "outputs": [
    {
     "name": "stdout",
     "output_type": "stream",
     "text": [
      "enter the amount75000\n",
      "Your a Diamond\n"
     ]
    }
   ],
   "source": [
    "amount=int(input(\"enter the amount\"))\n",
    "if(amount>=50000):\n",
    "    print(\"Your a Diamond\")\n",
    "elif(amount>=25000 and amount<=50000):\n",
    "    print(\"You are a Gold\")\n",
    "elif(amount>=10000 and amount<=25000):\n",
    "    print(\"You are a silver\")\n",
    "else:\n",
    "    print(\"You are a Bronze\")\n",
    "    "
   ]
  },
  {
   "cell_type": "code",
   "execution_count": 154,
   "metadata": {},
   "outputs": [
    {
     "name": "stdout",
     "output_type": "stream",
     "text": [
      "enter the number of days15\n",
      "We have  2  weeks  1  days\n"
     ]
    }
   ],
   "source": [
    "days=int(input(\"enter the number of days\"))\n",
    "d=days%7\n",
    "w=days//7\n",
    "print(\"We have \",w,\" weeks \",d,\" days\")\n",
    "\n"
   ]
  },
  {
   "cell_type": "code",
   "execution_count": 10,
   "metadata": {},
   "outputs": [
    {
     "name": "stdout",
     "output_type": "stream",
     "text": [
      "[1, 2, 3, 4, 9]\n",
      "1\n",
      "2\n",
      "3\n",
      "4\n",
      "9\n"
     ]
    }
   ],
   "source": [
    "# for loop\n",
    "a=[1,2,3,4,9]\n",
    "print(a)\n",
    "for k in a:\n",
    "    print(k)"
   ]
  },
  {
   "cell_type": "code",
   "execution_count": 160,
   "metadata": {},
   "outputs": [
    {
     "name": "stdout",
     "output_type": "stream",
     "text": [
      "4\n",
      "5\n",
      "6\n",
      "7\n",
      "8\n",
      "9\n"
     ]
    }
   ],
   "source": [
    "for i in range(4,10):\n",
    "    print(i)"
   ]
  },
  {
   "cell_type": "code",
   "execution_count": 161,
   "metadata": {},
   "outputs": [
    {
     "name": "stdout",
     "output_type": "stream",
     "text": [
      "0\n",
      "2\n",
      "4\n",
      "6\n",
      "8\n",
      "10\n"
     ]
    }
   ],
   "source": [
    "for i in range(0,11,2):\n",
    "    print(i)"
   ]
  },
  {
   "cell_type": "code",
   "execution_count": 164,
   "metadata": {},
   "outputs": [
    {
     "name": "stdout",
     "output_type": "stream",
     "text": [
      "1\n",
      "4\n",
      "7\n",
      "10\n"
     ]
    }
   ],
   "source": [
    "for i in range(1,11,3):\n",
    "    print(i)"
   ]
  },
  {
   "cell_type": "code",
   "execution_count": 167,
   "metadata": {},
   "outputs": [
    {
     "name": "stdout",
     "output_type": "stream",
     "text": [
      "4\n",
      "9\n",
      "16\n",
      "25\n",
      "36\n",
      "49\n",
      "64\n",
      "81\n",
      "100\n"
     ]
    }
   ],
   "source": [
    "for i in range(2,11):\n",
    "    i=i**2 \n",
    "    print(i)"
   ]
  },
  {
   "cell_type": "code",
   "execution_count": 16,
   "metadata": {},
   "outputs": [
    {
     "name": "stdout",
     "output_type": "stream",
     "text": [
      "greatlearninggreatlearninggreatlearninggreatlearninggreatlearninggreatlearninggreatlearninggreatlearninggreatlearninggreatlearning\n",
      "g\tr\te\ta\tt\tl\te\ta\tr\tn\ti\tn\tg\tg\tr\te\ta\tt\tl\te\ta\tr\tn\ti\tn\tg\tg\tr\te\ta\tt\tl\te\ta\tr\tn\ti\tn\tg\tg\tr\te\ta\tt\tl\te\ta\tr\tn\ti\tn\tg\tg\tr\te\ta\tt\tl\te\ta\tr\tn\ti\tn\tg\tg\tr\te\ta\tt\tl\te\ta\tr\tn\ti\tn\tg\tg\tr\te\ta\tt\tl\te\ta\tr\tn\ti\tn\tg\tg\tr\te\ta\tt\tl\te\ta\tr\tn\ti\tn\tg\tg\tr\te\ta\tt\tl\te\ta\tr\tn\ti\tn\tg\tg\tr\te\ta\tt\tl\te\ta\tr\tn\ti\tn\tg\n",
      "greatlearning\n",
      "greatlearning\n",
      "greatlearning\n",
      "greatlearning\n",
      "greatlearning\n",
      "greatlearning\n",
      "greatlearning\n",
      "greatlearning\n",
      "greatlearning\n"
     ]
    }
   ],
   "source": [
    "g=\"greatlearning\"\n",
    "print(g*10)\n",
    "print(\"\\t\".join(g*10))\n",
    "for i in range(1,10):\n",
    "    print(\"greatlearning\")"
   ]
  },
  {
   "cell_type": "code",
   "execution_count": 3,
   "metadata": {},
   "outputs": [
    {
     "name": "stdout",
     "output_type": "stream",
     "text": [
      "odd :  1\n",
      "even :  2\n",
      "odd :  3\n",
      "even :  4\n",
      "odd :  5\n",
      "even :  6\n",
      "odd :  7\n",
      "even :  8\n",
      "odd :  9\n",
      "even :  10\n",
      "even list :  [2, 4, 6, 8, 10]\n",
      "odd list :  [1, 3, 5, 7, 9]\n"
     ]
    }
   ],
   "source": [
    "x = []\n",
    "y= []\n",
    "for i in range(1,11):\n",
    "\n",
    "    if((i%2)==0):\n",
    "        print(\"even : \",i)\n",
    "        x.append(i)  \n",
    "    else:\n",
    "        print(\"odd : \",i)\n",
    "        y.append(i)\n",
    "        \n",
    "print(\"even list : \",x)\n",
    "print(\"odd list : \",y)"
   ]
  },
  {
   "cell_type": "code",
   "execution_count": 4,
   "metadata": {},
   "outputs": [
    {
     "name": "stdout",
     "output_type": "stream",
     "text": [
      "2\n",
      "10\n",
      "30\n"
     ]
    }
   ],
   "source": [
    "print(min(x))\n",
    "print(max(x))\n",
    "print(sum(x))\n"
   ]
  },
  {
   "cell_type": "code",
   "execution_count": 1,
   "metadata": {},
   "outputs": [
    {
     "name": "stdout",
     "output_type": "stream",
     "text": [
      "cumulative sum :  105\n",
      "cumulative sum :  245\n",
      "cumulative sum :  420\n",
      "total sum :  420\n"
     ]
    }
   ],
   "source": [
    "z=[]\n",
    "for i in range(100,198):\n",
    "    if((i%5)==0) and ((i%7)==0):\n",
    "        #print(i)\n",
    "        z.append(i)\n",
    "        print(\"cumulative sum : \",sum(z))\n",
    "\n",
    "print(\"total sum : \",sum(z))\n",
    "        \n",
    "        "
   ]
  },
  {
   "cell_type": "code",
   "execution_count": 211,
   "metadata": {},
   "outputs": [
    {
     "name": "stdout",
     "output_type": "stream",
     "text": [
      "x =  1\n",
      "x =  2\n",
      "x =  3\n",
      "x =  4\n",
      "I have exited the loop\n"
     ]
    }
   ],
   "source": [
    "#break\n",
    "for x in range(1,10):\n",
    "    print(\"x = \",x)\n",
    "    if(x==4):\n",
    "        break\n",
    "\n",
    "print(\"I have exited the loop\")        "
   ]
  },
  {
   "cell_type": "code",
   "execution_count": 213,
   "metadata": {},
   "outputs": [
    {
     "name": "stdout",
     "output_type": "stream",
     "text": [
      "x =  1\n",
      "x =  2\n",
      "x =  3\n",
      "x =  4\n",
      "I have found a match\n",
      "x =  5\n",
      "x =  6\n",
      "x =  7\n",
      "x =  8\n",
      "x =  9\n"
     ]
    }
   ],
   "source": [
    "#continue\n",
    "for x in range(1,10):\n",
    "    print(\"x = \",x)\n",
    "    if(x==4):\n",
    "        print(\"I have found a match\")  \n",
    "        continue"
   ]
  },
  {
   "cell_type": "code",
   "execution_count": 215,
   "metadata": {},
   "outputs": [
    {
     "name": "stdout",
     "output_type": "stream",
     "text": [
      "1\n",
      "2\n",
      "3\n",
      "4\n",
      "5\n"
     ]
    }
   ],
   "source": [
    "count=1\n",
    "while(count<=5):\n",
    "    print(count)\n",
    "    count +=1"
   ]
  },
  {
   "cell_type": "code",
   "execution_count": 217,
   "metadata": {},
   "outputs": [
    {
     "name": "stdout",
     "output_type": "stream",
     "text": [
      "Hello world\n",
      "Hello world\n",
      "Hello world\n",
      "Hello world\n",
      "Hello world\n"
     ]
    }
   ],
   "source": [
    "count=1\n",
    "while(count<=10):\n",
    "    print(\"Hello world\")\n",
    "    if(count==5):\n",
    "        break\n",
    "    count +=1"
   ]
  },
  {
   "cell_type": "markdown",
   "metadata": {},
   "source": [
    "#Case Studies:"
   ]
  },
  {
   "cell_type": "code",
   "execution_count": 223,
   "metadata": {},
   "outputs": [
    {
     "name": "stdout",
     "output_type": "stream",
     "text": [
      "1\n",
      "2\n",
      "3\n",
      "4\n",
      "5\n",
      "[1, 2, 3, 4, 5]\n"
     ]
    }
   ],
   "source": [
    "#Print the numbers from start till specified number eg: 0 till 5\n",
    "    \n",
    "x=[]\n",
    "for i in range(1,6):\n",
    "    print(i)\n",
    "    x.append(i)\n",
    "print(x)"
   ]
  },
  {
   "cell_type": "code",
   "execution_count": 222,
   "metadata": {},
   "outputs": [
    {
     "name": "stdout",
     "output_type": "stream",
     "text": [
      "3\n",
      "4\n",
      "5\n",
      "6\n"
     ]
    }
   ],
   "source": [
    "#print the number with specific start and end eg:3,4,5,6\n",
    "\n",
    "for i in range(3,7):\n",
    "    print(i)"
   ]
  },
  {
   "cell_type": "code",
   "execution_count": 228,
   "metadata": {},
   "outputs": [
    {
     "name": "stdout",
     "output_type": "stream",
     "text": [
      "10\n",
      "15\n",
      "20\n",
      "25\n",
      "30\n",
      "35\n",
      "40\n",
      "45\n",
      "50\n",
      "[10, 15, 20, 25, 30, 35, 40, 45, 50]\n",
      "270\n"
     ]
    }
   ],
   "source": [
    "#print the number with start , end and interval \n",
    "\n",
    "m=[]\n",
    "for i in range(10,51,5):\n",
    "    print(i)\n",
    "    m.append(i)\n",
    "    \n",
    "print(m)\n",
    "print(sum(m))"
   ]
  },
  {
   "cell_type": "code",
   "execution_count": 235,
   "metadata": {},
   "outputs": [
    {
     "name": "stdout",
     "output_type": "stream",
     "text": [
      "g\n",
      "r\n",
      "e\n",
      "a\n",
      "t\n",
      "l\n",
      "e\n",
      "a\n",
      "r\n",
      "n\n",
      "i\n",
      "n\n",
      "g\n"
     ]
    }
   ],
   "source": [
    "#print all the elements l = 'greatlearning' in a new line\n",
    "\n",
    "m=\"greatlearning\"\n",
    "length=len(m)\n",
    "for i in range(0,length):\n",
    "    print(m[i])"
   ]
  },
  {
   "cell_type": "code",
   "execution_count": 238,
   "metadata": {},
   "outputs": [
    {
     "name": "stdout",
     "output_type": "stream",
     "text": [
      "g\n",
      "r\n",
      "e\n",
      "a\n",
      "t\n",
      "l\n",
      "e\n",
      "a\n",
      "r\n",
      "n\n",
      "i\n",
      "n\n",
      "g\n",
      "['g', 'r', 'e', 'a', 't', 'l', 'e', 'a', 'r', 'n', 'i', 'n', 'g']\n"
     ]
    }
   ],
   "source": [
    "t=[]\n",
    "l=\"greatlearning\"\n",
    "for i in l:\n",
    "    print(i)\n",
    "    t.append(i)\n",
    "    \n",
    "print(t)"
   ]
  },
  {
   "cell_type": "code",
   "execution_count": 239,
   "metadata": {},
   "outputs": [
    {
     "name": "stdout",
     "output_type": "stream",
     "text": [
      "ann\n",
      "works\n",
      "annworks\n"
     ]
    }
   ],
   "source": [
    "l=(\"ann\",\"works\",\"annworks\")\n",
    "for i in l:\n",
    "    print(i)"
   ]
  },
  {
   "cell_type": "code",
   "execution_count": 240,
   "metadata": {},
   "outputs": [
    {
     "name": "stdout",
     "output_type": "stream",
     "text": [
      "ann\n",
      "works\n",
      "annworks\n"
     ]
    }
   ],
   "source": [
    "l=[\"ann\",\"works\",\"annworks\"]\n",
    "for i in l:\n",
    "    print(i)"
   ]
  },
  {
   "cell_type": "code",
   "execution_count": 243,
   "metadata": {},
   "outputs": [
    {
     "name": "stdout",
     "output_type": "stream",
     "text": [
      "dict_values([26, 23, 28])\n",
      "dict_keys(['ann', 'works', 'annworks'])\n",
      "dict_items([('ann', 26), ('works', 23), ('annworks', 28)])\n"
     ]
    }
   ],
   "source": [
    "l={\"ann\":26,\"works\":23,\"annworks\":28}\n",
    "\n",
    "print(l.values())\n",
    "print(l.keys())\n",
    "print(l.items())"
   ]
  },
  {
   "cell_type": "code",
   "execution_count": 245,
   "metadata": {},
   "outputs": [
    {
     "name": "stdout",
     "output_type": "stream",
     "text": [
      "ann\n",
      "works\n",
      "annworks\n"
     ]
    }
   ],
   "source": [
    "#iterate the list based on index\n",
    "l=[\"ann\",\"works\",\"annworks\"]\n",
    "for i in range(len(l)):\n",
    "    print(l[i])"
   ]
  },
  {
   "cell_type": "code",
   "execution_count": 7,
   "metadata": {},
   "outputs": [
    {
     "name": "stdout",
     "output_type": "stream",
     "text": [
      "48\n"
     ]
    },
    {
     "ename": "TypeError",
     "evalue": "'int' object is not callable",
     "output_type": "error",
     "traceback": [
      "\u001b[1;31m---------------------------------------------------------------------------\u001b[0m",
      "\u001b[1;31mTypeError\u001b[0m                                 Traceback (most recent call last)",
      "\u001b[1;32m<ipython-input-7-68941221cba6>\u001b[0m in \u001b[0;36m<module>\u001b[1;34m\u001b[0m\n\u001b[0;32m      5\u001b[0m \u001b[1;33m\u001b[0m\u001b[0m\n\u001b[0;32m      6\u001b[0m \u001b[0mprint\u001b[0m\u001b[1;33m(\u001b[0m\u001b[0msum\u001b[0m\u001b[1;33m)\u001b[0m\u001b[1;33m\u001b[0m\u001b[1;33m\u001b[0m\u001b[0m\n\u001b[1;32m----> 7\u001b[1;33m \u001b[0mprint\u001b[0m\u001b[1;33m(\u001b[0m\u001b[0msum\u001b[0m\u001b[1;33m(\u001b[0m\u001b[0mn\u001b[0m\u001b[1;33m)\u001b[0m\u001b[1;33m)\u001b[0m\u001b[1;33m\u001b[0m\u001b[1;33m\u001b[0m\u001b[0m\n\u001b[0m",
      "\u001b[1;31mTypeError\u001b[0m: 'int' object is not callable"
     ]
    }
   ],
   "source": [
    "n=[6,5,3,8,4,2,5,4,11]\n",
    "sum=0\n",
    "for i in range(len(n)):\n",
    "    sum=sum+n[i]\n",
    "    \n",
    "print(sum)\n"
   ]
  },
  {
   "cell_type": "code",
   "execution_count": 248,
   "metadata": {},
   "outputs": [
    {
     "name": "stdout",
     "output_type": "stream",
     "text": [
      "48\n"
     ]
    }
   ],
   "source": [
    "n=[6,5,3,8,4,2,5,4,11]\n",
    "sum=0\n",
    "for i in n:\n",
    "    sum=sum+i\n",
    "    \n",
    "print(sum)"
   ]
  },
  {
   "cell_type": "code",
   "execution_count": 6,
   "metadata": {},
   "outputs": [
    {
     "name": "stdout",
     "output_type": "stream",
     "text": [
      "enter any number :-1\n",
      "1\n"
     ]
    }
   ],
   "source": [
    "#find the factorial\n",
    "\n",
    "i=int(input(\"enter any number :\"))\n",
    "fact=1\n",
    "while(i>0):\n",
    "    fact=fact*i\n",
    "    i=i-1\n",
    "print(fact)"
   ]
  },
  {
   "cell_type": "code",
   "execution_count": 8,
   "metadata": {},
   "outputs": [
    {
     "name": "stdout",
     "output_type": "stream",
     "text": [
      "enter any number :3\n",
      "prime\n"
     ]
    }
   ],
   "source": [
    "#find the given number is a prime number or not\n",
    "\n",
    "n=int(input(\"enter any number :\"))\n",
    "count=0\n",
    "factors=[]\n",
    "for i in range(1,n+1):\n",
    "    \n",
    "    if(n%i)==0:\n",
    "        count=count+1\n",
    "        factors.append(i)\n",
    "        \n",
    "if count>2:\n",
    "    print(\"not prime\")\n",
    "    print(\"its factors are: \",factors)        \n",
    "else:\n",
    "    print(\"prime\")\n",
    "    \n"
   ]
  },
  {
   "cell_type": "code",
   "execution_count": 9,
   "metadata": {},
   "outputs": [
    {
     "name": "stdout",
     "output_type": "stream",
     "text": [
      "even list :  [4, 16, 36, 64]\n",
      "odd list :  [1, 9, 25, 49, 81]\n"
     ]
    }
   ],
   "source": [
    "x = []\n",
    "y= []\n",
    "for i in range(1,10):\n",
    "\n",
    "    if((i%2)==0):\n",
    "        #print(\"even : \",i)\n",
    "        x.append(i**2)  \n",
    "    else:\n",
    "        #print(\"odd : \",i)\n",
    "        y.append(i**2)\n",
    "        \n",
    "print(\"even list : \",x)\n",
    "print(\"odd list : \",y)"
   ]
  },
  {
   "cell_type": "code",
   "execution_count": 36,
   "metadata": {},
   "outputs": [],
   "source": [
    "num=2\n",
    "\n",
    "\n",
    "if num>1:\n",
    "    for i in range(2,num):\n",
    "        if (num%i) ==0 :\n",
    "            print(num,\"is not a prime\")\n",
    "            break\n",
    "       \n",
    "        else:\n",
    "            print(num,\"is a prime\")\n",
    "            break\n",
    "            \n",
    "else:\n",
    "    print(num,\"is not a prime\")"
   ]
  },
  {
   "cell_type": "code",
   "execution_count": 10,
   "metadata": {},
   "outputs": [
    {
     "name": "stdout",
     "output_type": "stream",
     "text": [
      "[1, 2, 3, 4]\n",
      "36\n"
     ]
    }
   ],
   "source": [
    "c=list(range(1,5))\n",
    "print(c)\n",
    "print(sum(list(range(1,15,5))+list(range(1,15,5))))"
   ]
  },
  {
   "cell_type": "code",
   "execution_count": 10,
   "metadata": {},
   "outputs": [
    {
     "data": {
      "text/plain": [
       "list"
      ]
     },
     "execution_count": 10,
     "metadata": {},
     "output_type": "execute_result"
    }
   ],
   "source": [
    "l=[1,\"bhanu\"]\n",
    "type(l)"
   ]
  },
  {
   "cell_type": "code",
   "execution_count": 11,
   "metadata": {},
   "outputs": [
    {
     "name": "stdout",
     "output_type": "stream",
     "text": [
      "18\n"
     ]
    }
   ],
   "source": [
    "count=0\n",
    "for i in range(2,11):\n",
    "    if(i%3==0):\n",
    "        count=count+i\n",
    "        \n",
    "print(count)\n",
    "        "
   ]
  },
  {
   "cell_type": "code",
   "execution_count": 21,
   "metadata": {},
   "outputs": [
    {
     "name": "stdout",
     "output_type": "stream",
     "text": [
      "sum = 1225\n"
     ]
    }
   ],
   "source": [
    "#20.Find the sum of first 50 natural numbers\n",
    "sum=0\n",
    "for i in range(1,50):\n",
    "    sum=sum+i\n",
    "print(\"sum =\",sum)"
   ]
  },
  {
   "cell_type": "code",
   "execution_count": 23,
   "metadata": {},
   "outputs": [
    {
     "name": "stdout",
     "output_type": "stream",
     "text": [
      "I am BHanuI am BHanuI am BHanuI am BHanuI am BHanu\n"
     ]
    }
   ],
   "source": [
    "#21. Display the text, n number of time\n",
    "text=\"I am BHanu\"\n",
    "print(text*5)"
   ]
  },
  {
   "cell_type": "code",
   "execution_count": 29,
   "metadata": {},
   "outputs": [
    {
     "name": "stdout",
     "output_type": "stream",
     "text": [
      "enter two numbers: 0\n",
      "0\n",
      "enter any numbers other than 0\n"
     ]
    }
   ],
   "source": [
    "#22. Program to Print Fibonacci Series\n",
    "\n",
    "a,b=int(input(\"enter two numbers: \")),int(input())\n",
    "if a==0 and b==0:\n",
    "    print(\"enter any numbers other than 0\")\n",
    "else:\n",
    "    feb_s=[]\n",
    "    i=int(input(\"enter the length of seris\"))\n",
    "    \n",
    "    feb_s.append(a)\n",
    "    feb_s.append(b)\n",
    "    for x in range(2,i):\n",
    "       feb_s.append(feb_s[x-1]+feb_s[x-2])\n",
    "    print(feb_s)"
   ]
  },
  {
   "cell_type": "code",
   "execution_count": 18,
   "metadata": {},
   "outputs": [
    {
     "name": "stdout",
     "output_type": "stream",
     "text": [
      "Enter a number: -1\n",
      "the given number  -1  is negitive\n"
     ]
    }
   ],
   "source": [
    "#24. check if a given number is positive, negative or zero\n",
    "num=int(input(\"Enter a number: \"))\n",
    "\n",
    "if(num>0):\n",
    "    print(\"the given number \",num,\" is positive\")\n",
    "elif(num<0):\n",
    "    print(\"the given number \",num,\" is negitive\")\n",
    "else:\n",
    "    print(\"its a zero\")"
   ]
  },
  {
   "cell_type": "code",
   "execution_count": 22,
   "metadata": {},
   "outputs": [
    {
     "name": "stdout",
     "output_type": "stream",
     "text": [
      "1\n",
      "2\n",
      "3\n",
      "4\n",
      "5\n",
      "its a multiple of 5\n",
      "6\n",
      "7\n",
      "8\n",
      "9\n",
      "10\n",
      "its a multiple of 5\n",
      "11\n",
      "12\n",
      "13\n",
      "14\n",
      "15\n",
      "its a multiple of 5\n",
      "16\n",
      "17\n",
      "18\n",
      "19\n"
     ]
    }
   ],
   "source": [
    "#25.Print the range of number and also print seperate message if there is a multiple of 5\n",
    "for i in range(1,20):\n",
    "    print(i)\n",
    "    if(i%5 ==0):\n",
    "        print('its a multiple of 5')\n"
   ]
  },
  {
   "cell_type": "code",
   "execution_count": 63,
   "metadata": {},
   "outputs": [
    {
     "name": "stdout",
     "output_type": "stream",
     "text": [
      "A\n",
      "BB\n",
      "CCC\n",
      "DDDD\n",
      "EEEEE\n",
      "FFFFFF\n",
      "GGGGGGG\n",
      "HHHHHHHH\n",
      "IIIIIIIII\n",
      "JJJJJJJJJJ\n",
      "KKKKKKKKKKK\n",
      "LLLLLLLLLLLL\n",
      "MMMMMMMMMMMMM\n",
      "NNNNNNNNNNNNNN\n",
      "OOOOOOOOOOOOOOO\n",
      "PPPPPPPPPPPPPPPP\n",
      "QQQQQQQQQQQQQQQQQ\n",
      "RRRRRRRRRRRRRRRRRR\n",
      "SSSSSSSSSSSSSSSSSSS\n",
      "TTTTTTTTTTTTTTTTTTTT\n",
      "UUUUUUUUUUUUUUUUUUUUU\n",
      "VVVVVVVVVVVVVVVVVVVVVV\n",
      "WWWWWWWWWWWWWWWWWWWWWWW\n",
      "XXXXXXXXXXXXXXXXXXXXXXXX\n",
      "YYYYYYYYYYYYYYYYYYYYYYYYY\n",
      "ZZZZZZZZZZZZZZZZZZZZZZZZZZ\n"
     ]
    }
   ],
   "source": [
    "#26. Print all the alphabets in a cummulative way or in a triangular format\n",
    "\n",
    "\n",
    "alphabets=[]\n",
    "for l in range(ord('A'),ord('Z')+1):\n",
    "    alphabets.append(chr(l))\n",
    "    \n",
    "    \n",
    "for i in (alphabets):\n",
    "    print(i*(alphabets.index(i)+1))\n"
   ]
  },
  {
   "cell_type": "code",
   "execution_count": 35,
   "metadata": {},
   "outputs": [
    {
     "name": "stdout",
     "output_type": "stream",
     "text": [
      "         *\n",
      "        **\n",
      "       ***\n",
      "      ****\n",
      "     *****\n",
      "    ******\n",
      "   *******\n",
      "  ********\n",
      " *********\n"
     ]
    }
   ],
   "source": [
    "for i in range(1,10):\n",
    "    print(\"{0:>10}\".format('*'*i))"
   ]
  },
  {
   "cell_type": "code",
   "execution_count": 39,
   "metadata": {},
   "outputs": [
    {
     "name": "stdout",
     "output_type": "stream",
     "text": [
      "         *          \n",
      "        ***         \n",
      "       *****        \n",
      "      *******       \n",
      "     *********      \n",
      "    ***********     \n",
      "   *************    \n",
      "  ***************   \n",
      " *****************  \n",
      "******************* \n"
     ]
    }
   ],
   "source": [
    "for i in range(1,20):\n",
    "    if not (i%2 == 0):\n",
    "         print(\"{0:^20}\".format('*'*i))"
   ]
  },
  {
   "cell_type": "code",
   "execution_count": 37,
   "metadata": {},
   "outputs": [
    {
     "name": "stdout",
     "output_type": "stream",
     "text": [
      "                   1                    \n",
      "                  111                   \n",
      "                 11111                  \n",
      "                1111111                 \n",
      "               111111111                \n",
      "              11111111111               \n",
      "             1111111111111              \n",
      "            111111111111111             \n",
      "           11111111111111111            \n",
      "          1111111111111111111           \n"
     ]
    }
   ],
   "source": [
    "for i in range(1,20):\n",
    "    for j in range(1,10):\n",
    "        if not (i%2 == 0):\n",
    "            print(\"{0:^40}\".format(str(j)*i))\n",
    "            break"
   ]
  },
  {
   "cell_type": "code",
   "execution_count": null,
   "metadata": {},
   "outputs": [],
   "source": []
  },
  {
   "cell_type": "code",
   "execution_count": 79,
   "metadata": {},
   "outputs": [
    {
     "name": "stdout",
     "output_type": "stream",
     "text": [
      "A\n",
      "\n",
      "AB\n",
      "\n",
      "ABC\n",
      "\n",
      "ABCD\n",
      "\n",
      "ABCDE\n",
      "\n",
      "ABCDEF\n",
      "\n",
      "ABCDEFG\n",
      "\n",
      "ABCDEFGH\n",
      "\n",
      "ABCDEFGHI\n",
      "\n",
      "ABCDEFGHIJ\n",
      "\n",
      "ABCDEFGHIJK\n",
      "\n",
      "ABCDEFGHIJKL\n",
      "\n",
      "ABCDEFGHIJKLM\n",
      "\n",
      "ABCDEFGHIJKLMN\n",
      "\n",
      "ABCDEFGHIJKLMNO\n",
      "\n",
      "ABCDEFGHIJKLMNOP\n",
      "\n",
      "ABCDEFGHIJKLMNOPQ\n",
      "\n",
      "ABCDEFGHIJKLMNOPQR\n",
      "\n",
      "ABCDEFGHIJKLMNOPQRS\n",
      "\n",
      "ABCDEFGHIJKLMNOPQRST\n",
      "\n",
      "ABCDEFGHIJKLMNOPQRSTU\n",
      "\n",
      "ABCDEFGHIJKLMNOPQRSTUV\n",
      "\n",
      "ABCDEFGHIJKLMNOPQRSTUVW\n",
      "\n",
      "ABCDEFGHIJKLMNOPQRSTUVWX\n",
      "\n",
      "ABCDEFGHIJKLMNOPQRSTUVWXY\n",
      "\n",
      "ABCDEFGHIJKLMNOPQRSTUVWXYZ\n",
      "\n"
     ]
    }
   ],
   "source": [
    "#26. Print all the alphabets in a cummulative way or in a triangular format\n",
    "\n",
    "\n",
    "alphabets=[]\n",
    "for l in range(ord('A'),ord('Z')+1):\n",
    "    alphabets.append(chr(l))\n",
    "    \n",
    "    \n",
    "for i in (alphabets):\n",
    "    #print(i*(alphabets.index(i)+1))\n",
    "    for i in range(0,(alphabets.index(i)+1)):\n",
    "        print(alphabets[i],end=\"\")\n",
    "    print('\\n')"
   ]
  },
  {
   "cell_type": "code",
   "execution_count": 32,
   "metadata": {},
   "outputs": [
    {
     "name": "stdout",
     "output_type": "stream",
     "text": [
      "                          \n",
      "            A             \n",
      "            AB            \n",
      "           ABC            \n",
      "           ABCD           \n",
      "          ABCDE           \n",
      "          ABCDEF          \n",
      "         ABCDEFG          \n",
      "         ABCDEFGH         \n",
      "        ABCDEFGHI         \n",
      "        ABCDEFGHIJ        \n",
      "       ABCDEFGHIJK        \n",
      "       ABCDEFGHIJKL       \n",
      "      ABCDEFGHIJKLM       \n",
      "      ABCDEFGHIJKLMN      \n",
      "     ABCDEFGHIJKLMNO      \n",
      "     ABCDEFGHIJKLMNOP     \n",
      "    ABCDEFGHIJKLMNOPQ     \n",
      "    ABCDEFGHIJKLMNOPQR    \n",
      "   ABCDEFGHIJKLMNOPQRS    \n",
      "   ABCDEFGHIJKLMNOPQRST   \n",
      "  ABCDEFGHIJKLMNOPQRSTU   \n",
      "  ABCDEFGHIJKLMNOPQRSTUV  \n",
      " ABCDEFGHIJKLMNOPQRSTUVW  \n",
      " ABCDEFGHIJKLMNOPQRSTUVWX \n",
      "ABCDEFGHIJKLMNOPQRSTUVWXY \n"
     ]
    }
   ],
   "source": [
    "#26. Print all the alphabets in a cummulative way or in a triangular format\n",
    "\n",
    "\n",
    "alphabets=[]\n",
    "for l in range(ord('A'),ord('Z')+1):\n",
    "    alphabets.append(chr(l))\n",
    "    \n",
    "    \n",
    "for i in (alphabets):\n",
    "    for i in range(0,(alphabets.index(i))):\n",
    "        temp =temp+alphabets[i]\n",
    "    print(\"{0:^26}\".format(temp))\n",
    "    temp=''"
   ]
  },
  {
   "cell_type": "code",
   "execution_count": 54,
   "metadata": {},
   "outputs": [
    {
     "name": "stdout",
     "output_type": "stream",
     "text": [
      "                   0                    \n",
      "                  012                   \n",
      "                 01234                  \n",
      "                0123456                 \n",
      "               012345678                \n",
      "              012345678910              \n",
      "            0123456789101112            \n",
      "          01234567891011121314          \n",
      "        012345678910111213141516        \n",
      "      0123456789101112131415161718      \n"
     ]
    }
   ],
   "source": [
    "for i in range(1,20):\n",
    "    if not (i%2 == 0):\n",
    "        s=''\n",
    "        for j in range(0,i):\n",
    "            s=s+str(j)\n",
    "        print(\"{0:^40}\".format(s))\n",
    "        "
   ]
  },
  {
   "cell_type": "code",
   "execution_count": 57,
   "metadata": {},
   "outputs": [
    {
     "name": "stdout",
     "output_type": "stream",
     "text": [
      "      0123456789101112131415161718      \n",
      "        012345678910111213141516        \n",
      "          01234567891011121314          \n",
      "            0123456789101112            \n",
      "              012345678910              \n",
      "               012345678                \n",
      "                0123456                 \n",
      "                 01234                  \n",
      "                  012                   \n",
      "                   0                    \n"
     ]
    }
   ],
   "source": [
    "i=20\n",
    "while i > 0:\n",
    "    if not (i%2 == 0):\n",
    "        s=''\n",
    "        for j in range(0,i):\n",
    "            s=s+str(j)\n",
    "        print(\"{0:^40}\".format(s))\n",
    "    i=i-1"
   ]
  },
  {
   "cell_type": "code",
   "execution_count": 58,
   "metadata": {},
   "outputs": [
    {
     "name": "stdout",
     "output_type": "stream",
     "text": [
      "                   0                    \n",
      "                  012                   \n",
      "                 01234                  \n",
      "                0123456                 \n",
      "               012345678                \n",
      "              012345678910              \n",
      "            0123456789101112            \n",
      "          01234567891011121314          \n",
      "        012345678910111213141516        \n",
      "      0123456789101112131415161718      \n",
      "      0123456789101112131415161718      \n",
      "        012345678910111213141516        \n",
      "          01234567891011121314          \n",
      "            0123456789101112            \n",
      "              012345678910              \n",
      "               012345678                \n",
      "                0123456                 \n",
      "                 01234                  \n",
      "                  012                   \n",
      "                   0                    \n"
     ]
    }
   ],
   "source": [
    "for i in range(1,20):\n",
    "    if not (i%2 == 0):\n",
    "        s=''\n",
    "        for j in range(0,i):\n",
    "            s=s+str(j)\n",
    "        print(\"{0:^40}\".format(s))\n",
    "        i=20\n",
    "while i > 0:\n",
    "    if not (i%2 == 0):\n",
    "        s=''\n",
    "        for j in range(0,i):\n",
    "            s=s+str(j)\n",
    "        print(\"{0:^40}\".format(s))\n",
    "    i=i-1"
   ]
  },
  {
   "cell_type": "code",
   "execution_count": 67,
   "metadata": {},
   "outputs": [
    {
     "name": "stdout",
     "output_type": "stream",
     "text": [
      "Its :     count:   1\n",
      "too :     count:   1\n",
      "good :     count:   4\n",
      "to :     count:   1\n",
      "be :     count:   1\n",
      "good :     count:   4\n",
      " :     count:   1\n",
      "being :     count:   1\n",
      "good :     count:   4\n",
      "is :     count:   1\n",
      "always :     count:   1\n",
      "good :     count:   4\n"
     ]
    }
   ],
   "source": [
    "#33. Findn how many time word has been repeated in the text, \n",
    "import re\n",
    "text = 'Its too good to be good, being good is always good'\n",
    "list1 = re.split('\\s|\\,',text)\n",
    "for i in list1:\n",
    "    print(i,':     count:  ',list1.count(i))"
   ]
  },
  {
   "cell_type": "code",
   "execution_count": 73,
   "metadata": {},
   "outputs": [
    {
     "data": {
      "text/plain": [
       "['banurekha11', 'gmail.com']"
      ]
     },
     "execution_count": 73,
     "metadata": {},
     "output_type": "execute_result"
    }
   ],
   "source": [
    "#Strip only the name from email id terry@gmail.com\n",
    "email='banurekha11@gmail.com'\n",
    "name=re.split('@',email)\n",
    "name"
   ]
  },
  {
   "cell_type": "code",
   "execution_count": 76,
   "metadata": {},
   "outputs": [
    {
     "data": {
      "text/plain": [
       "['bhanu', 'rekha', 'gmail', 'com']"
      ]
     },
     "execution_count": 76,
     "metadata": {},
     "output_type": "execute_result"
    }
   ],
   "source": [
    "#Strip all the fiels like first name, last name, domain and extension seperately  from email id terry.jason@gmail.com\n",
    "email='bhanu.rekha@gmail.com'\n",
    "name=re.split('\\.|\\@',email)\n",
    "name"
   ]
  },
  {
   "cell_type": "code",
   "execution_count": 85,
   "metadata": {},
   "outputs": [
    {
     "name": "stdout",
     "output_type": "stream",
     "text": [
      "22\n",
      "56\n",
      "43\n",
      "12\n"
     ]
    }
   ],
   "source": [
    "#Extract all the numbers from the given text\n",
    "text='I have 22 pens. and 56 balls and 43 bananas and 12 appeles'\n",
    "split_text = re.split('\\s',text)\n",
    "for i in split_text:\n",
    "    if i.isnumeric():\n",
    "        print(i)"
   ]
  },
  {
   "cell_type": "code",
   "execution_count": 95,
   "metadata": {},
   "outputs": [
    {
     "name": "stdout",
     "output_type": "stream",
     "text": [
      "16\n"
     ]
    }
   ],
   "source": [
    "#create 2 separate lists , combine all the elements in the list. Remove the duplicate and get the count of elements\n",
    "text1='I have 22 pens. and 56 balls and 43 bananas and 12 appeles'\n",
    "text2='I have 7287287 appel. and 56 balls LSO 43 HAI and NONE appeles'\n",
    "list1=re.split(' ',text1)\n",
    "list2=re.split(' ',text2)\n",
    "list3=list1+list2\n",
    "list4=list(set(list3))\n",
    "print(len(list4))"
   ]
  },
  {
   "cell_type": "code",
   "execution_count": 98,
   "metadata": {},
   "outputs": [
    {
     "name": "stdout",
     "output_type": "stream",
     "text": [
      "Program to print half pyramid: \n",
      "Enter number of rows 10\n",
      "**********\n",
      "*********\n",
      "********\n",
      "*******\n",
      "******\n",
      "*****\n",
      "****\n",
      "***\n",
      "**\n",
      "*\n"
     ]
    }
   ],
   "source": [
    "# 31. Program to print inverted half pyramid using an asterisk (star)\n",
    "\n",
    "print(\"Program to print half pyramid: \")\n",
    "rows = input(\"Enter number of rows \")\n",
    "rows = int (rows)\n",
    "for i in range (rows,0,-1):\n",
    "#     for j in range(0, i ):\n",
    "#         print(\"*\", end=' ')\n",
    "    print('*'*i)\n",
    "#    print(\"\\r\")"
   ]
  },
  {
   "cell_type": "code",
   "execution_count": 99,
   "metadata": {},
   "outputs": [
    {
     "name": "stdout",
     "output_type": "stream",
     "text": [
      "1 \n",
      "2 1 \n",
      "3 2 1 \n",
      "4 3 2 1 \n",
      "5 4 3 2 1 \n",
      "6 5 4 3 2 1 \n"
     ]
    }
   ],
   "source": [
    "# 29. Print a number pattern and reverse the order using a for loop and range function. \n",
    "\n",
    "## give the start and end position\n",
    "f_num = 1\n",
    "l_num = 6\n",
    "for row in range(f_num, l_num+1):\n",
    "    for column in range(row, 0,-1):\n",
    "        print(column, end=' ')\n",
    "    print(\"\")"
   ]
  }
 ],
 "metadata": {
  "kernelspec": {
   "display_name": "Python 3",
   "language": "python",
   "name": "python3"
  },
  "language_info": {
   "codemirror_mode": {
    "name": "ipython",
    "version": 3
   },
   "file_extension": ".py",
   "mimetype": "text/x-python",
   "name": "python",
   "nbconvert_exporter": "python",
   "pygments_lexer": "ipython3",
   "version": "3.7.3"
  }
 },
 "nbformat": 4,
 "nbformat_minor": 2
}
