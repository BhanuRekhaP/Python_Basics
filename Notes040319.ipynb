{
 "cells": [
  {
   "cell_type": "markdown",
   "metadata": {},
   "source": [
    "# Intoduction to python"
   ]
  },
  {
   "cell_type": "code",
   "execution_count": 5,
   "metadata": {},
   "outputs": [
    {
     "data": {
      "text/plain": [
       "[1, 2, 3, 4, 5, 6]"
      ]
     },
     "execution_count": 5,
     "metadata": {},
     "output_type": "execute_result"
    }
   ],
   "source": [
    "st=[1,2,3,4]\n",
    "st.extend([5,6])\n",
    "st"
   ]
  },
  {
   "cell_type": "code",
   "execution_count": 1,
   "metadata": {},
   "outputs": [
    {
     "data": {
      "text/plain": [
       "2"
      ]
     },
     "execution_count": 1,
     "metadata": {},
     "output_type": "execute_result"
    }
   ],
   "source": [
    "st=[1,2,3,4]\n",
    "st.pop(1)"
   ]
  },
  {
   "cell_type": "code",
   "execution_count": 11,
   "metadata": {},
   "outputs": [
    {
     "data": {
      "text/plain": [
       "(2, 3)"
      ]
     },
     "execution_count": 11,
     "metadata": {},
     "output_type": "execute_result"
    }
   ],
   "source": [
    "a=(1,2,3,4)\n",
    "a[1:-1]"
   ]
  },
  {
   "cell_type": "code",
   "execution_count": 2,
   "metadata": {},
   "outputs": [
    {
     "data": {
      "text/plain": [
       "(2, 3)"
      ]
     },
     "execution_count": 2,
     "metadata": {},
     "output_type": "execute_result"
    }
   ],
   "source": [
    "a=(1,2,3,4)\n",
    "a[1:-1]"
   ]
  },
  {
   "cell_type": "code",
   "execution_count": 3,
   "metadata": {},
   "outputs": [
    {
     "data": {
      "text/plain": [
       "['c', 'h', 'e', 'n', 'n', 'a']"
      ]
     },
     "execution_count": 3,
     "metadata": {},
     "output_type": "execute_result"
    }
   ],
   "source": [
    "lst=list('chennai')\n",
    "lst.remove('i')\n",
    "lst"
   ]
  },
  {
   "cell_type": "code",
   "execution_count": 21,
   "metadata": {},
   "outputs": [
    {
     "data": {
      "text/plain": [
       "['e', 'n', 'n', 'a']"
      ]
     },
     "execution_count": 21,
     "metadata": {},
     "output_type": "execute_result"
    }
   ],
   "source": [
    "lst[2:]"
   ]
  },
  {
   "cell_type": "code",
   "execution_count": 23,
   "metadata": {},
   "outputs": [
    {
     "data": {
      "text/plain": [
       "{'a': 'alpha', 'b': 'beta'}"
      ]
     },
     "execution_count": 23,
     "metadata": {},
     "output_type": "execute_result"
    }
   ],
   "source": [
    "dic1={'a':'alpha'}\n",
    "dic2={'b':'beta'}\n",
    "dic1.update(dic2)\n",
    "dic1"
   ]
  },
  {
   "cell_type": "code",
   "execution_count": 38,
   "metadata": {},
   "outputs": [
    {
     "name": "stdout",
     "output_type": "stream",
     "text": [
      "\"he said Its' a great movie\"\n"
     ]
    }
   ],
   "source": [
    "print('''\"he said Its' a great movie\"''')"
   ]
  },
  {
   "cell_type": "code",
   "execution_count": 45,
   "metadata": {},
   "outputs": [
    {
     "name": "stdout",
     "output_type": "stream",
     "text": [
      "Inverse of  1  is  1.0\n",
      "Inverse of  2  is  0.5\n",
      "Inverse of  3  is  0.33\n",
      "Inverse of  4  is  0.25\n",
      "Inverse of  5  is  0.2\n",
      "Inverse of  6  is  0.17\n",
      "Inverse of  7  is  0.14\n",
      "Inverse of  8  is  0.12\n",
      "Inverse of  9  is  0.11\n",
      "Inverse of  10  is  0.1\n"
     ]
    }
   ],
   "source": [
    "for i in range(1,11):\n",
    "    print('Inverse of ',i,' is ',round(1/i,2))"
   ]
  },
  {
   "cell_type": "code",
   "execution_count": 11,
   "metadata": {},
   "outputs": [
    {
     "data": {
      "text/plain": [
       "0.33"
      ]
     },
     "execution_count": 11,
     "metadata": {},
     "output_type": "execute_result"
    }
   ],
   "source": [
    "round(0.3333,2)"
   ]
  },
  {
   "cell_type": "code",
   "execution_count": 17,
   "metadata": {},
   "outputs": [
    {
     "data": {
      "text/plain": [
       "2"
      ]
     },
     "execution_count": 17,
     "metadata": {},
     "output_type": "execute_result"
    }
   ],
   "source": [
    "import math\n",
    "math.trunc(2.98)"
   ]
  },
  {
   "cell_type": "code",
   "execution_count": 18,
   "metadata": {},
   "outputs": [
    {
     "data": {
      "text/plain": [
       "array([[ 3,  5,  9],\n",
       "       [11,  6,  2]])"
      ]
     },
     "execution_count": 18,
     "metadata": {},
     "output_type": "execute_result"
    }
   ],
   "source": [
    "import numpy as np\n",
    "arr=np.array([[3,5,9],[11,6,2]])\n",
    "arr"
   ]
  },
  {
   "cell_type": "code",
   "execution_count": 19,
   "metadata": {},
   "outputs": [
    {
     "name": "stdout",
     "output_type": "stream",
     "text": [
      "[[ 1  2  3  4  5]\n",
      " [ 6  7  8  9 10]\n",
      " [11 12 13 14 15]\n",
      " [16 17 18 19 20]\n",
      " [21 22 23 24 25]]\n",
      "[1 2 3 4 5]\n",
      "19\n",
      "[ 2  7 12 17 22]\n"
     ]
    }
   ],
   "source": [
    "arr=np.arange(1,26)\n",
    "b=arr.reshape(5,5)\n",
    "print(b)\n",
    "\n",
    "print(b[0,])\n",
    "\n",
    "print(b[3,3])\n",
    "\n",
    "print(b[:,1])"
   ]
  },
  {
   "cell_type": "code",
   "execution_count": 20,
   "metadata": {},
   "outputs": [
    {
     "name": "stdout",
     "output_type": "stream",
     "text": [
      "[[ 1  2  3  4  5]\n",
      " [ 6  7  8  9 10]\n",
      " [11 12 13 14 15]\n",
      " [16 17 18 19 20]\n",
      " [21 22 23 24 25]]\n",
      "[1 2 3 4 5]\n",
      "19\n",
      "[[ 2]\n",
      " [ 7]\n",
      " [12]\n",
      " [17]\n",
      " [22]]\n",
      "[[ 6  7  8  9 10]\n",
      " [11 12 13 14 15]]\n",
      "[ 6  7  8  9 10]\n"
     ]
    }
   ],
   "source": [
    "arr=np.arange(1,26)\n",
    "b=arr.reshape(5,5)\n",
    "print(b)\n",
    "\n",
    "print(b[0,])\n",
    "\n",
    "print(b[3,3])\n",
    "\n",
    "print(b[:,[1]])\n",
    "\n",
    "print(b[1:3,])\n",
    "\n",
    "print(b[:][1])"
   ]
  },
  {
   "cell_type": "code",
   "execution_count": 21,
   "metadata": {},
   "outputs": [
    {
     "name": "stdout",
     "output_type": "stream",
     "text": [
      "[[ 1  2  3  4  5]\n",
      " [ 6  7  8  9 10]\n",
      " [11 12 13 14 15]\n",
      " [16 17 18 19 20]\n",
      " [21 22 23 24 25]]\n",
      "[[ 6]\n",
      " [ 7]\n",
      " [ 8]\n",
      " [ 9]\n",
      " [10]]\n"
     ]
    }
   ],
   "source": [
    "print(b)\n",
    "print(b[1:2,:].T)"
   ]
  },
  {
   "cell_type": "code",
   "execution_count": 22,
   "metadata": {},
   "outputs": [
    {
     "name": "stdout",
     "output_type": "stream",
     "text": [
      "[1 2 3 4 5]\n"
     ]
    }
   ],
   "source": [
    "print(np.arange(1,26).reshape(5,5)[0])"
   ]
  },
  {
   "cell_type": "code",
   "execution_count": 31,
   "metadata": {},
   "outputs": [
    {
     "name": "stdout",
     "output_type": "stream",
     "text": [
      "3 4 3\n",
      "12 \t 5\n",
      "7 \t 6\n",
      "3 \t 4\n",
      "12 \t 8\n",
      "7 \t 7\n",
      "3 \t 5\n",
      "12 \t 1\n",
      "7 \t 3\n",
      "3 \t 9\n",
      "12 \t 2\n",
      "7 \t 0\n",
      "3 \t 1\n",
      "4 \t 5\n",
      "5 \t 6\n",
      "6 \t 4\n",
      "4 \t 8\n",
      "5 \t 7\n",
      "6 \t 5\n",
      "4 \t 1\n",
      "5 \t 3\n",
      "6 \t 9\n",
      "4 \t 2\n",
      "5 \t 0\n",
      "6 \t 1\n",
      "7 \t 5\n",
      "8 \t 6\n",
      "9 \t 4\n",
      "7 \t 8\n",
      "8 \t 7\n",
      "9 \t 5\n",
      "7 \t 1\n",
      "8 \t 3\n",
      "9 \t 9\n",
      "7 \t 2\n",
      "8 \t 0\n",
      "9 \t 1\n"
     ]
    }
   ],
   "source": [
    "# Program to multiply two matrices using nested loops\n",
    "\n",
    "# 3x3 matrix\n",
    "X = [[12,7,3],\n",
    "    [4 ,5,6],\n",
    "    [7 ,8,9]]\n",
    "# 3x4 matrix\n",
    "Y = [[5,8,1,2],\n",
    "    [6,7,3,0],\n",
    "    [4,5,9,1]]\n",
    "# result is 3x4\n",
    "result = [[0,0,0,0],\n",
    "         [0,0,0,0],\n",
    "         [0,0,0,0]]\n",
    "# [114, 160, 60, 27]\n",
    "# [74, 97, 73, 14]\n",
    "# [119, 157, 112, 23]\n",
    "print(len(X),len(Y[0]),len(Y))\n",
    "\n",
    "# iterate through rows of X\n",
    "for i in range(len(X)):\n",
    "   # iterate through columns of Y\n",
    "   for j in range(len(Y[0])):\n",
    "       # iterate through rows of Y\n",
    "       for k in range(len(Y)):\n",
    "            result[i][j] += X[i][k] * Y[k][j]\n",
    "            print( X[i][k],'\\t',Y[k][j])\n",
    "\n",
    "# for r in result:\n",
    "#    print(r)"
   ]
  },
  {
   "cell_type": "code",
   "execution_count": 22,
   "metadata": {},
   "outputs": [
    {
     "name": "stdout",
     "output_type": "stream",
     "text": [
      "[114, 160, 60, 27]\n",
      "[74, 97, 73, 14]\n",
      "[119, 157, 112, 23]\n"
     ]
    }
   ],
   "source": [
    "# Program to multiply two matrices using list comprehension\n",
    "\n",
    "# 3x3 matrix\n",
    "X = [[12,7,3],\n",
    "    [4 ,5,6],\n",
    "    [7 ,8,9]]\n",
    "\n",
    "# 3x4 matrix\n",
    "Y = [[5,8,1,2],\n",
    "    [6,7,3,0],\n",
    "    [4,5,9,1]]\n",
    "\n",
    "# result is 3x4\n",
    "result = [[sum(a*b for a,b in zip(X_row,Y_col)) for Y_col in zip(*Y)] for X_row in X]\n",
    "\n",
    "for r in result:\n",
    "   print(r)"
   ]
  },
  {
   "cell_type": "code",
   "execution_count": 20,
   "metadata": {},
   "outputs": [
    {
     "name": "stdout",
     "output_type": "stream",
     "text": [
      "(5, 6, 4)\n",
      "(8, 7, 5)\n",
      "(1, 3, 9)\n",
      "(2, 0, 1)\n",
      "[12, 7, 3]\n",
      "[4, 5, 6]\n",
      "[7, 8, 9]\n"
     ]
    }
   ],
   "source": [
    "for i in zip(*Y):\n",
    "    print(i)\n",
    "for i in X:\n",
    "    print(i)\n"
   ]
  },
  {
   "cell_type": "code",
   "execution_count": 38,
   "metadata": {},
   "outputs": [
    {
     "name": "stdout",
     "output_type": "stream",
     "text": [
      "([5, 8, 1, 2],)\n",
      "([6, 7, 3, 0],)\n",
      "([4, 5, 9, 1],)\n"
     ]
    }
   ],
   "source": [
    "Y = [[5,8,1,2],\n",
    "    [6,7,3,0],\n",
    "    [4,5,9,1]]\n",
    "\n",
    "for Y_row in zip(Y):\n",
    "    print(Y_row)"
   ]
  },
  {
   "cell_type": "code",
   "execution_count": 39,
   "metadata": {},
   "outputs": [
    {
     "name": "stdout",
     "output_type": "stream",
     "text": [
      "([5, 8, 1, 2],)\n",
      "([6, 7, 3, 0],)\n",
      "([4, 5, 9, 1],)\n"
     ]
    }
   ],
   "source": [
    "Y = [[5,8,1,2],\n",
    "    [6,7,3,0],\n",
    "    [4,5,9,1]]\n",
    "\n",
    "for Y_col in zip(*Y):\n",
    "    print(Y_col)"
   ]
  },
  {
   "cell_type": "code",
   "execution_count": 40,
   "metadata": {},
   "outputs": [
    {
     "ename": "SyntaxError",
     "evalue": "can't use starred expression here (cell_name, line 8)",
     "output_type": "error",
     "traceback": [
      "\u001b[1;36m  File \u001b[1;32m\"cell_name\"\u001b[1;36m, line \u001b[1;32m8\u001b[0m\n\u001b[1;31mSyntaxError\u001b[0m\u001b[1;31m:\u001b[0m can't use starred expression here\n"
     ]
    }
   ],
   "source": [
    "Y = [[5,8,1,2],\n",
    "    [6,7,3,0],\n",
    "    [4,5,9,1]]"
   ]
  },
  {
   "cell_type": "markdown",
   "metadata": {},
   "source": [
    "# Python practice"
   ]
  },
  {
   "cell_type": "raw",
   "metadata": {},
   "source": [
    "Day 1 Python programming"
   ]
  },
  {
   "attachments": {
    "image.png": {
     "image/png": "[encoded data removed]"
    }
   },
   "cell_type": "markdown",
   "metadata": {},
   "source": [
    "![image.png](attachment:image.png)"
   ]
  },
  {
   "cell_type": "code",
   "execution_count": 2,
   "metadata": {},
   "outputs": [
    {
     "name": "stdout",
     "output_type": "stream",
     "text": [
      "Bhanu\n",
      "name :\n"
     ]
    }
   ],
   "source": [
    "# This is a single line comment\n",
    "name = 'Bhanu'\n",
    "print (name)\n",
    "print(\"name :\")"
   ]
  },
  {
   "cell_type": "code",
   "execution_count": 11,
   "metadata": {},
   "outputs": [],
   "source": [
    "# Hello welcome to the programming world\n",
    "\n",
    "# Multi line comment \n",
    "\n",
    "# this \n",
    "\n",
    "# is \n",
    "\n",
    "# a comment \n",
    "\n",
    "# line \n",
    "\n",
    "# area \n",
    "\n",
    "# to be \n",
    "\n",
    "# commented\n",
    "\n"
   ]
  },
  {
   "cell_type": "code",
   "execution_count": 3,
   "metadata": {},
   "outputs": [
    {
     "name": "stdout",
     "output_type": "stream",
     "text": [
      "Myname is Bhanu Rekha\n"
     ]
    }
   ],
   "source": [
    "print('Myname is Bhanu Rekha')\n",
    "\n"
   ]
  },
  {
   "cell_type": "code",
   "execution_count": 13,
   "metadata": {},
   "outputs": [
    {
     "name": "stdout",
     "output_type": "stream",
     "text": [
      "Myname is Bhanu Rekha\n"
     ]
    }
   ],
   "source": [
    "print(\"Myname is Bhanu Rekha\")"
   ]
  },
  {
   "cell_type": "code",
   "execution_count": 15,
   "metadata": {},
   "outputs": [
    {
     "name": "stdout",
     "output_type": "stream",
     "text": [
      "Bhanu\n"
     ]
    }
   ],
   "source": [
    "f_nm=\"Bhanu\"\n",
    "print(f_nm)"
   ]
  },
  {
   "cell_type": "code",
   "execution_count": 28,
   "metadata": {},
   "outputs": [
    {
     "name": "stdout",
     "output_type": "stream",
     "text": [
      "Rekha\n"
     ]
    }
   ],
   "source": [
    "l_nm=\"Rekha\"\n",
    "print(l_nm)"
   ]
  },
  {
   "cell_type": "code",
   "execution_count": 22,
   "metadata": {},
   "outputs": [
    {
     "name": "stdout",
     "output_type": "stream",
     "text": [
      "age = 26\n"
     ]
    }
   ],
   "source": [
    "age=26\n",
    "print(\"age =\",age)"
   ]
  },
  {
   "cell_type": "code",
   "execution_count": 18,
   "metadata": {},
   "outputs": [
    {
     "name": "stdout",
     "output_type": "stream",
     "text": [
      "55.5\n"
     ]
    }
   ],
   "source": [
    "weight=55.5\n",
    "print(weight)"
   ]
  },
  {
   "cell_type": "code",
   "execution_count": 23,
   "metadata": {},
   "outputs": [
    {
     "data": {
      "text/plain": [
       "5"
      ]
     },
     "execution_count": 23,
     "metadata": {},
     "output_type": "execute_result"
    }
   ],
   "source": [
    "len(l_nm)"
   ]
  },
  {
   "cell_type": "code",
   "execution_count": 29,
   "metadata": {},
   "outputs": [
    {
     "data": {
      "text/plain": [
       "'Bhanu Rekha'"
      ]
     },
     "execution_count": 29,
     "metadata": {},
     "output_type": "execute_result"
    }
   ],
   "source": [
    "name = f_nm +\" \"+ l_nm\n",
    "name"
   ]
  },
  {
   "cell_type": "code",
   "execution_count": 31,
   "metadata": {},
   "outputs": [
    {
     "data": {
      "text/plain": [
       "str"
      ]
     },
     "execution_count": 31,
     "metadata": {},
     "output_type": "execute_result"
    }
   ],
   "source": [
    "type(name)"
   ]
  },
  {
   "cell_type": "code",
   "execution_count": 32,
   "metadata": {},
   "outputs": [
    {
     "data": {
      "text/plain": [
       "3"
      ]
     },
     "execution_count": 32,
     "metadata": {},
     "output_type": "execute_result"
    }
   ],
   "source": [
    "a=1\n",
    "b=2\n",
    "c=a+b\n",
    "c"
   ]
  },
  {
   "cell_type": "code",
   "execution_count": 5,
   "metadata": {},
   "outputs": [
    {
     "name": "stdout",
     "output_type": "stream",
     "text": [
      "10\n",
      "<class 'int'>\n"
     ]
    },
    {
     "data": {
      "text/plain": [
       "10.0"
      ]
     },
     "execution_count": 5,
     "metadata": {},
     "output_type": "execute_result"
    }
   ],
   "source": [
    "a=10\n",
    "print(a)\n",
    "print(type(a))\n",
    "\n",
    "float(a)"
   ]
  },
  {
   "cell_type": "code",
   "execution_count": 40,
   "metadata": {},
   "outputs": [
    {
     "name": "stdout",
     "output_type": "stream",
     "text": [
      "Enter the value of A: 1\n",
      "Enter the value of B: 1\n",
      "The value of c =  2\n"
     ]
    }
   ],
   "source": [
    "a = int(input(\"Enter the value of A: \"))\n",
    "b = int(input(\"Enter the value of B: \"))\n",
    "c= a + b\n",
    "print(\"The value of c = \",c)"
   ]
  },
  {
   "cell_type": "code",
   "execution_count": 45,
   "metadata": {},
   "outputs": [
    {
     "name": "stdout",
     "output_type": "stream",
     "text": [
      "<class 'float'>\n",
      "1.54\n",
      "<class 'int'>\n",
      "1\n",
      "Heighth\n"
     ]
    }
   ],
   "source": [
    "Height = 1.54\n",
    "print(type(Height))\n",
    "print(Height)\n",
    "h=int(Height)\n",
    "print(type(h))\n",
    "print(h)"
   ]
  },
  {
   "cell_type": "code",
   "execution_count": 10,
   "metadata": {},
   "outputs": [
    {
     "name": "stdout",
     "output_type": "stream",
     "text": [
      "Enter Salary:20\n",
      "Enter Bonus:20\n",
      "new_salary: 40\n"
     ]
    }
   ],
   "source": [
    "emp_id=51418910\n",
    "emp_fname=\"Bhanu\"\n",
    "emp_lname=\"Rekha\"\n",
    "#salary=29000.89\n",
    "#bonus=1000\n",
    "gender=\"Female\"\n",
    "city=\"Chennai\"\n",
    "pincode=600096\n",
    "\n",
    "salary=int(input(\"Enter Salary:\"))\n",
    "bonus = int(input(\"Enter Bonus:\"))\n",
    "new_salary=salary+bonus\n",
    "print(\"new_salary:\",new_salary)\n",
    "\n"
   ]
  },
  {
   "cell_type": "code",
   "execution_count": 11,
   "metadata": {},
   "outputs": [
    {
     "name": "stdout",
     "output_type": "stream",
     "text": [
      "Enter the value of a:1\n",
      "Enter the value of b:1\n",
      "output of c: 2\n",
      "output of d,e,f is 0 1 1.0\n"
     ]
    }
   ],
   "source": [
    "a=int(input(\"Enter the value of a:\"))\n",
    "b=int(input(\"Enter the value of b:\"))\n",
    "c=a+b\n",
    "d=a-b\n",
    "e=a*b\n",
    "f=a/b\n",
    "print(\"output of c:\",c)\n",
    "print(\"output of d,e,f is\",d,e,f)\n",
    "\n"
   ]
  },
  {
   "cell_type": "code",
   "execution_count": 4,
   "metadata": {},
   "outputs": [
    {
     "name": "stdout",
     "output_type": "stream",
     "text": [
      "Hello Pythonbhanu\n",
      "H\n",
      "Hello Python\n",
      "Hello PythonHello PythonHello PythonHello PythonHello Python\n",
      "llo\n"
     ]
    }
   ],
   "source": [
    "str = \"Hello Python\"\n",
    "\n",
    "print (str + 'bhanu')\n",
    "print (str[0])\n",
    "print (str[0:])\n",
    "print (str * 5 )\n",
    "print (str[2:5])"
   ]
  },
  {
   "cell_type": "code",
   "execution_count": 5,
   "metadata": {},
   "outputs": [
    {
     "name": "stdout",
     "output_type": "stream",
     "text": [
      "100 1000.0 John\n"
     ]
    }
   ],
   "source": [
    "counter = 100          # An integer assignment\n",
    "miles   = 1000.0       # A floating point\n",
    "name    = \"John\"       # A string\n",
    "\n",
    "print (counter,miles,name)"
   ]
  },
  {
   "cell_type": "code",
   "execution_count": null,
   "metadata": {},
   "outputs": [],
   "source": []
  },
  {
   "cell_type": "markdown",
   "metadata": {},
   "source": [
    "# Multiple assignment"
   ]
  },
  {
   "cell_type": "code",
   "execution_count": 61,
   "metadata": {},
   "outputs": [
    {
     "name": "stdout",
     "output_type": "stream",
     "text": [
      "enter the vqale of c1.2\n",
      "enter the vqale of d2.1\n",
      "3.3\n"
     ]
    }
   ],
   "source": [
    "c = float(input(\"enter the vqale of c\"))\n",
    "d = float(input(\"enter the vqale of d\"))\n",
    "out = c + d\n",
    "print(out)"
   ]
  },
  {
   "cell_type": "code",
   "execution_count": 65,
   "metadata": {},
   "outputs": [
    {
     "name": "stdout",
     "output_type": "stream",
     "text": [
      "1 2 3 6\n"
     ]
    }
   ],
   "source": [
    "x,y,z = 1,2,3\n",
    "print(x,y,z,x+y+z)"
   ]
  },
  {
   "cell_type": "code",
   "execution_count": 64,
   "metadata": {},
   "outputs": [
    {
     "name": "stdout",
     "output_type": "stream",
     "text": [
      "4 4 4\n"
     ]
    }
   ],
   "source": [
    "m=n=t=4\n",
    "print(m,n,t)"
   ]
  },
  {
   "cell_type": "code",
   "execution_count": 71,
   "metadata": {},
   "outputs": [
    {
     "name": "stdout",
     "output_type": "stream",
     "text": [
      "20 Bhanu Female SIETK 25 25.5\n",
      "Age = 20 Name = Bhanu gender = Female\n"
     ]
    }
   ],
   "source": [
    "age,name,gender,college,rank,weight=20,\"Bhanu\",\"Female\",\"SIETK\",25,25.5\n",
    "print(age,name,gender,college,rank,weight)\n",
    "print(\"Age =\",age,\"Name =\",name,\"gender =\",gender)"
   ]
  },
  {
   "cell_type": "markdown",
   "metadata": {},
   "source": [
    "Arithematic operatons"
   ]
  },
  {
   "cell_type": "code",
   "execution_count": 13,
   "metadata": {},
   "outputs": [
    {
     "name": "stdout",
     "output_type": "stream",
     "text": [
      "6 2 16 8 2.0 2 0\n"
     ]
    }
   ],
   "source": [
    "a= 4\n",
    "b=2\n",
    "print(a+b,a-b,a**b,a*b,a/b,a//b,a%b)\n"
   ]
  },
  {
   "cell_type": "code",
   "execution_count": 15,
   "metadata": {},
   "outputs": [
    {
     "name": "stdout",
     "output_type": "stream",
     "text": [
      "Enter the value of weight:65\n",
      "Enter the value of Height:1.87\n",
      "<class 'float'>\n"
     ]
    },
    {
     "data": {
      "text/plain": [
       "18.58789213303211"
      ]
     },
     "execution_count": 15,
     "metadata": {},
     "output_type": "execute_result"
    }
   ],
   "source": [
    "weight=float(input(\"Enter the value of weight:\"))\n",
    "height=float(input(\"Enter the value of Height:\"))\n",
    "BMI = (weight / (height ** 2))\n",
    "print(type(BMI))\n",
    "BMI\n",
    "\n"
   ]
  },
  {
   "cell_type": "code",
   "execution_count": 24,
   "metadata": {},
   "outputs": [
    {
     "name": "stdout",
     "output_type": "stream",
     "text": [
      "addition output is : 12.2\n",
      "addition output is : 12\n"
     ]
    }
   ],
   "source": [
    "one=1\n",
    "two=12.2\n",
    "\n",
    "\n",
    "print(\"addition output is :\", two)\n",
    "print(\"addition output is : %d\" %two )"
   ]
  },
  {
   "cell_type": "markdown",
   "metadata": {},
   "source": [
    "#Increment"
   ]
  },
  {
   "cell_type": "code",
   "execution_count": 26,
   "metadata": {},
   "outputs": [
    {
     "name": "stdout",
     "output_type": "stream",
     "text": [
      "7\n"
     ]
    },
    {
     "data": {
      "text/plain": [
       "9"
      ]
     },
     "execution_count": 26,
     "metadata": {},
     "output_type": "execute_result"
    }
   ],
   "source": [
    "a=5\n",
    "a=a+2\n",
    "print(a)\n",
    "a+=2\n",
    "a"
   ]
  },
  {
   "cell_type": "code",
   "execution_count": 3,
   "metadata": {},
   "outputs": [
    {
     "name": "stdout",
     "output_type": "stream",
     "text": [
      "BhanuBhanuBhanuBhanuBhanu\n"
     ]
    },
    {
     "data": {
      "text/plain": [
       "'print(\"sainath\")'"
      ]
     },
     "execution_count": 3,
     "metadata": {},
     "output_type": "execute_result"
    }
   ],
   "source": [
    "a,b=\"Bhanu\",5\n",
    "print(a*b)\n",
    "\"\"\"print(\"sainath\")\"\"\"\n"
   ]
  },
  {
   "cell_type": "code",
   "execution_count": 28,
   "metadata": {},
   "outputs": [
    {
     "name": "stdout",
     "output_type": "stream",
     "text": [
      "Bhanu Bhanu Bhanu Bhanu Bhanu \n",
      "5\n"
     ]
    }
   ],
   "source": [
    "nm=\"Bhanu\"\n",
    "print((nm+\" \")*5)\n",
    "print(len(nm))"
   ]
  },
  {
   "cell_type": "markdown",
   "metadata": {},
   "source": [
    "# Data Slicing in strings"
   ]
  },
  {
   "cell_type": "code",
   "execution_count": 38,
   "metadata": {},
   "outputs": [
    {
     "name": "stdout",
     "output_type": "stream",
     "text": [
      "GreatLearning\n",
      "13\n",
      "G\n",
      "eatLear\n",
      "atLearning\n",
      "atLearning\n",
      "GreatLearnin\n",
      "GreatLearni\n",
      "gninraeLtaerG\n",
      "  Hello world!  \n",
      "Hello world!\n"
     ]
    }
   ],
   "source": [
    "nm = \"GreatLearning\"\n",
    "print(nm)\n",
    "print(len(nm))\n",
    "print(nm[0])\n",
    "print(nm[2:9])\n",
    "print(nm[3:])\n",
    "print(nm[3:len(nm)])\n",
    "print(nm[:-1])   #print delete last letter\n",
    "print(nm[:-2])   #print delete last 2 letter\n",
    "print(nm[::-1])  #reverse"
   ]
  },
  {
   "cell_type": "markdown",
   "metadata": {},
   "source": [
    "# Methods in strings"
   ]
  },
  {
   "cell_type": "code",
   "execution_count": 39,
   "metadata": {},
   "outputs": [
    {
     "name": "stdout",
     "output_type": "stream",
     "text": [
      "  Hello world!  \n",
      "Hello world!\n"
     ]
    }
   ],
   "source": [
    "#strip() finction removes any white spaces from begining or at the end\n",
    "sentence = \"  Hello world!  \"\n",
    "print(sentence)\n",
    "print(sentence.strip())"
   ]
  },
  {
   "cell_type": "code",
   "execution_count": 45,
   "metadata": {},
   "outputs": [
    {
     "name": "stdout",
     "output_type": "stream",
     "text": [
      "bhanu rekha\n",
      "BHANU REKHA\n"
     ]
    }
   ],
   "source": [
    "#lower(), upper() converts to lower and upper cases\n",
    "name = \"Bhanu Rekha\"\n",
    "print(name.lower())\n",
    "print(name.upper())"
   ]
  },
  {
   "cell_type": "code",
   "execution_count": 42,
   "metadata": {},
   "outputs": [
    {
     "name": "stdout",
     "output_type": "stream",
     "text": [
      "11\n"
     ]
    }
   ],
   "source": [
    "#len() gives length of the string\n",
    "print(len(name))"
   ]
  },
  {
   "cell_type": "code",
   "execution_count": 47,
   "metadata": {},
   "outputs": [
    {
     "name": "stdout",
     "output_type": "stream",
     "text": [
      "Khanu Rekha\n"
     ]
    }
   ],
   "source": [
    "#replace() replaces a string with another\n",
    "print(name.replace(\"B\",\"K\"))"
   ]
  },
  {
   "cell_type": "code",
   "execution_count": 53,
   "metadata": {},
   "outputs": [
    {
     "name": "stdout",
     "output_type": "stream",
     "text": [
      "['Bhanu', 'Rekha']\n"
     ]
    }
   ],
   "source": [
    "#split() splits the strings into sub strings\n",
    "print(name.split(\" \"))"
   ]
  },
  {
   "cell_type": "markdown",
   "metadata": {},
   "source": [
    "# Palyndrome"
   ]
  },
  {
   "cell_type": "code",
   "execution_count": 35,
   "metadata": {},
   "outputs": [
    {
     "name": "stdout",
     "output_type": "stream",
     "text": [
      "True\n",
      "Its a palyndrome\n"
     ]
    }
   ],
   "source": [
    "v1=\"1001\"\n",
    "v2=v1[::-1]\n",
    "\n",
    "print(v1==v2)\n",
    "\n",
    "if v1 == v2:\n",
    "    print(\"Its a palyndrome\")\n",
    "else:\n",
    "    print(\"Its not a palyndrome\")\n"
   ]
  },
  {
   "cell_type": "code",
   "execution_count": 7,
   "metadata": {},
   "outputs": [
    {
     "name": "stdout",
     "output_type": "stream",
     "text": [
      "True\n",
      "Its a palyndrome\n"
     ]
    },
    {
     "data": {
      "text/plain": [
       "'1001'"
      ]
     },
     "execution_count": 7,
     "metadata": {},
     "output_type": "execute_result"
    }
   ],
   "source": [
    "v1=\"1001\"\n",
    "v2=''.join(reversed(v1))\n",
    "\n",
    "print(v1==v2)\n",
    "\n",
    "if v1 == v2:\n",
    "    print(\"Its a palyndrome\")\n",
    "else:\n",
    "    print(\"Its not a palyndrome\")\n",
    "v2"
   ]
  },
  {
   "cell_type": "code",
   "execution_count": 47,
   "metadata": {},
   "outputs": [
    {
     "name": "stdout",
     "output_type": "stream",
     "text": [
      "29000.0\n"
     ]
    }
   ],
   "source": [
    "principle=50000\n",
    "interest=7.25\n",
    "term_of_loan=8\n",
    "\n",
    "simple_interest = (principle * interest *term_of_loan)/100\n",
    "print(simple_interest)"
   ]
  },
  {
   "cell_type": "code",
   "execution_count": 50,
   "metadata": {},
   "outputs": [
    {
     "name": "stdout",
     "output_type": "stream",
     "text": [
      "Enter the value of R:12\n",
      "input rarius is  12.0 area of the citcle is 37.68\n",
      "Given input radius is 12.0 so area of circle is 37.68\n"
     ]
    }
   ],
   "source": [
    "r = float(input(\"Enter the value of R:\"))\n",
    "area = (3.14 * r)\n",
    "print(\"input rarius is \",r,\"area of the citcle is\", area)\n",
    "print(\"Given input radius is \"+str(r)+\" so area of circle is \"+str(area))"
   ]
  },
  {
   "attachments": {
    "image.png": {
     "image/png": "[encoded data removed]"
    }
   },
   "cell_type": "markdown",
   "metadata": {},
   "source": [
    "# Volume of Right cylinder\n",
    "![image.png](attachment:image.png)"
   ]
  },
  {
   "cell_type": "code",
   "execution_count": 52,
   "metadata": {},
   "outputs": [
    {
     "name": "stdout",
     "output_type": "stream",
     "text": [
      "Enter the value of Height:12.1\n",
      "Enter the value of Radius:12.1\n",
      "Volume of he Right Cylinder for the height 12.1 and weight 65.0 is 5562.70154\n"
     ]
    }
   ],
   "source": [
    "height=float(input(\"Enter the value of Height:\"))\n",
    "radius=float(input(\"Enter the value of Radius:\"))\n",
    "pie = 3.14\n",
    "volume = pie * (radius**2) * height\n",
    "print(\"Volume of the Right Cylinder for the height\",height,\"and weight\",weight,\"is\",volume)"
   ]
  },
  {
   "cell_type": "markdown",
   "metadata": {},
   "source": [
    "4*6+5"
   ]
  },
  {
   "cell_type": "code",
   "execution_count": 7,
   "metadata": {},
   "outputs": [
    {
     "data": {
      "text/plain": [
       "9.0"
      ]
     },
     "execution_count": 7,
     "metadata": {},
     "output_type": "execute_result"
    }
   ],
   "source": [
    "#Finding square root?\n",
    "\n",
    "#anything **0.5\n",
    "81**0.5"
   ]
  },
  {
   "cell_type": "code",
   "execution_count": 9,
   "metadata": {},
   "outputs": [
    {
     "data": {
      "text/plain": [
       "'o'"
      ]
     },
     "execution_count": 9,
     "metadata": {},
     "output_type": "execute_result"
    }
   ],
   "source": [
    "s='hello'\n",
    "s[-1]"
   ]
  },
  {
   "cell_type": "code",
   "execution_count": 12,
   "metadata": {},
   "outputs": [
    {
     "data": {
      "text/plain": [
       "'hu'"
      ]
     },
     "execution_count": 12,
     "metadata": {},
     "output_type": "execute_result"
    }
   ],
   "source": [
    "d={'k1':{'h3':'hu'}}\n",
    "d['k1']['h3']"
   ]
  },
  {
   "cell_type": "code",
   "execution_count": 14,
   "metadata": {},
   "outputs": [
    {
     "data": {
      "text/plain": [
       "['hello']"
      ]
     },
     "execution_count": 14,
     "metadata": {},
     "output_type": "execute_result"
    }
   ],
   "source": [
    "d={'k1':[{'nest':['this',['hello']]}]}\n",
    "d['k1'][0]['nest'][1]"
   ]
  },
  {
   "cell_type": "code",
   "execution_count": 17,
   "metadata": {},
   "outputs": [
    {
     "data": {
      "text/plain": [
       "True"
      ]
     },
     "execution_count": 17,
     "metadata": {},
     "output_type": "execute_result"
    }
   ],
   "source": [
    "'a'!='b'"
   ]
  },
  {
   "cell_type": "code",
   "execution_count": 19,
   "metadata": {},
   "outputs": [
    {
     "name": "stdout",
     "output_type": "stream",
     "text": [
      "smart\n",
      "sincere\n"
     ]
    }
   ],
   "source": [
    "st='bhanu is a smart and sincere girl'\n",
    "list=st.split(' ')\n",
    "for i in list: \n",
    "    if i[0].lower() == 's':\n",
    "        print(i)"
   ]
  },
  {
   "cell_type": "code",
   "execution_count": 25,
   "metadata": {},
   "outputs": [
    {
     "name": "stdout",
     "output_type": "stream",
     "text": [
      "0\n",
      "2\n",
      "4\n",
      "6\n",
      "8\n",
      "10\n"
     ]
    }
   ],
   "source": [
    "for i in range(0,12,2):\n",
    "    print(i)"
   ]
  },
  {
   "cell_type": "code",
   "execution_count": 27,
   "metadata": {},
   "outputs": [
    {
     "name": "stdout",
     "output_type": "stream",
     "text": [
      "[3, 6, 9, 12, 15, 18, 21, 24, 27, 30, 33, 36, 39, 42, 45, 48]\n"
     ]
    }
   ],
   "source": [
    "a=[i for i in range(1,50) if i%3==0]\n",
    "print(a)"
   ]
  },
  {
   "cell_type": "code",
   "execution_count": 34,
   "metadata": {},
   "outputs": [
    {
     "data": {
      "text/plain": [
       "['dbfudf', 'cneinfcein', 'ncuenfienf', 'ubfeunfn', 'vbufnenf', 'buenfeinfc']"
      ]
     },
     "execution_count": 34,
     "metadata": {},
     "output_type": "execute_result"
    }
   ],
   "source": [
    "st = 'dbfudf cnfefie cneinfcein ncuenfienf c ubfeunfn vbufnenf buenfeinfc fnefneinf'\n",
    "evn_lst = [i for i in st.split() if len(i)%2== 0]\n",
    "evn_lst"
   ]
  },
  {
   "cell_type": "code",
   "execution_count": 36,
   "metadata": {},
   "outputs": [
    {
     "name": "stdout",
     "output_type": "stream",
     "text": [
      "1\n",
      "2\n",
      "fizz\n",
      "4\n",
      "buzz\n",
      "fizz\n",
      "7\n",
      "8\n",
      "fizz\n",
      "buzz\n",
      "11\n",
      "fizz\n",
      "13\n",
      "14\n",
      "fizz buzz\n",
      "16\n",
      "17\n",
      "fizz\n",
      "19\n",
      "buzz\n",
      "fizz\n",
      "22\n",
      "23\n",
      "fizz\n",
      "buzz\n",
      "26\n",
      "fizz\n",
      "28\n",
      "29\n",
      "fizz buzz\n",
      "31\n",
      "32\n",
      "fizz\n",
      "34\n",
      "buzz\n",
      "fizz\n",
      "37\n",
      "38\n",
      "fizz\n",
      "buzz\n",
      "41\n",
      "fizz\n",
      "43\n",
      "44\n",
      "fizz buzz\n",
      "46\n",
      "47\n",
      "fizz\n",
      "49\n",
      "buzz\n",
      "fizz\n",
      "52\n",
      "53\n",
      "fizz\n",
      "buzz\n",
      "56\n",
      "fizz\n",
      "58\n",
      "59\n",
      "fizz buzz\n",
      "61\n",
      "62\n",
      "fizz\n",
      "64\n",
      "buzz\n",
      "fizz\n",
      "67\n",
      "68\n",
      "fizz\n",
      "buzz\n",
      "71\n",
      "fizz\n",
      "73\n",
      "74\n",
      "fizz buzz\n",
      "76\n",
      "77\n",
      "fizz\n",
      "79\n",
      "buzz\n",
      "fizz\n",
      "82\n",
      "83\n",
      "fizz\n",
      "buzz\n",
      "86\n",
      "fizz\n",
      "88\n",
      "89\n",
      "fizz buzz\n",
      "91\n",
      "92\n",
      "fizz\n",
      "94\n",
      "buzz\n",
      "fizz\n",
      "97\n",
      "98\n",
      "fizz\n"
     ]
    }
   ],
   "source": [
    "for i in range(1,100):\n",
    "    if i%3 == 0 and i%5==0:\n",
    "        print('fizz buzz')\n",
    "    elif i%3 ==0:\n",
    "        print('fizz')\n",
    "    elif i%5==0:\n",
    "        print('buzz')\n",
    "    else:\n",
    "        print(i)"
   ]
  },
  {
   "cell_type": "code",
   "execution_count": 40,
   "metadata": {},
   "outputs": [
    {
     "data": {
      "text/plain": [
       "1"
      ]
     },
     "execution_count": 40,
     "metadata": {},
     "output_type": "execute_result"
    }
   ],
   "source": [
    "def lesser(a,b):\n",
    "    if a%2==0 and b%2==0:\n",
    "        return a if a>b else b\n",
    "    if a%2!=0 or b%2!=0:\n",
    "        return b if a>b else a\n",
    "\n",
    "lesser(1,2)"
   ]
  },
  {
   "cell_type": "code",
   "execution_count": 42,
   "metadata": {},
   "outputs": [
    {
     "data": {
      "text/plain": [
       "4"
      ]
     },
     "execution_count": 42,
     "metadata": {},
     "output_type": "execute_result"
    }
   ],
   "source": [
    "lesser(2,4)"
   ]
  },
  {
   "cell_type": "code",
   "execution_count": 54,
   "metadata": {},
   "outputs": [],
   "source": [
    "def  animal_crackers(text):\n",
    "        if text.split()[0][0].upper() == text.split()[1][0].upper():\n",
    "            print('true')\n",
    "        else:\n",
    "            print('false')\n"
   ]
  },
  {
   "cell_type": "code",
   "execution_count": 55,
   "metadata": {},
   "outputs": [
    {
     "name": "stdout",
     "output_type": "stream",
     "text": [
      "true\n"
     ]
    }
   ],
   "source": [
    "animal_crackers('bhanu Bekha')"
   ]
  },
  {
   "cell_type": "code",
   "execution_count": 56,
   "metadata": {},
   "outputs": [],
   "source": [
    "def  animal_crackers(text):\n",
    "      return text.split()[0][0].upper() == text.split()[1][0].upper()\n"
   ]
  },
  {
   "cell_type": "code",
   "execution_count": 57,
   "metadata": {},
   "outputs": [
    {
     "data": {
      "text/plain": [
       "'Bhanu'"
      ]
     },
     "execution_count": 57,
     "metadata": {},
     "output_type": "execute_result"
    }
   ],
   "source": [
    "a='bhanu'\n",
    "a.capitalize()"
   ]
  },
  {
   "cell_type": "code",
   "execution_count": 63,
   "metadata": {},
   "outputs": [
    {
     "data": {
      "text/plain": [
       "'e m o h'"
      ]
     },
     "execution_count": 63,
     "metadata": {},
     "output_type": "execute_result"
    }
   ],
   "source": [
    "def rev_str(str1):\n",
    "    for i in str1.split():\n",
    "        j=' '.join(i[::-1])\n",
    "    return j\n",
    "        \n",
    "rev_str('I am home ')"
   ]
  },
  {
   "cell_type": "code",
   "execution_count": 2,
   "metadata": {},
   "outputs": [],
   "source": [
    "# Write a one-liner that will count the number of capital letters in a file. \n",
    "# our code should work even if the file is too big to fit in memory."
   ]
  },
  {
   "cell_type": "code",
   "execution_count": 7,
   "metadata": {},
   "outputs": [
    {
     "data": {
      "text/plain": [
       "2"
      ]
     },
     "execution_count": 7,
     "metadata": {},
     "output_type": "execute_result"
    }
   ],
   "source": [
    "a='BhanuRekha'\n",
    "count= 0\n",
    "for i in a:\n",
    "    if i.isupper():\n",
    "        count +=1\n",
    "count"
   ]
  }
 ],
 "metadata": {
  "kernelspec": {
   "display_name": "Python 3",
   "language": "python",
   "name": "python3"
  },
  "language_info": {
   "codemirror_mode": {
    "name": "ipython",
    "version": 3
   },
   "file_extension": ".py",
   "mimetype": "text/x-python",
   "name": "python",
   "nbconvert_exporter": "python",
   "pygments_lexer": "ipython3",
   "version": "3.7.3"
  }
 },
 "nbformat": 4,
 "nbformat_minor": 2
}
