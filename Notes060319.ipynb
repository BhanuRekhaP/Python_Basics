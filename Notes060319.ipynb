{
 "cells": [
  {
   "cell_type": "markdown",
   "metadata": {},
   "source": [
    "# Functions"
   ]
  },
  {
   "cell_type": "code",
   "execution_count": 2,
   "metadata": {},
   "outputs": [],
   "source": [
    "#Defining a function\n",
    "def helloworld():\n",
    "    print(\"Hello bhanu\")"
   ]
  },
  {
   "cell_type": "code",
   "execution_count": 3,
   "metadata": {},
   "outputs": [
    {
     "name": "stdout",
     "output_type": "stream",
     "text": [
      "Hello bhanu\n"
     ]
    }
   ],
   "source": [
    "#calling a function\n",
    "helloworld()"
   ]
  },
  {
   "cell_type": "code",
   "execution_count": 4,
   "metadata": {},
   "outputs": [],
   "source": [
    "#defining a function with parameter\n",
    "def hello(nm):\n",
    "    print(\"Hai : \",nm)"
   ]
  },
  {
   "cell_type": "code",
   "execution_count": 10,
   "metadata": {},
   "outputs": [
    {
     "name": "stdout",
     "output_type": "stream",
     "text": [
      "Hai :  bhanu\n"
     ]
    }
   ],
   "source": [
    "#calling a function with parameter\n",
    "hello(\"bhanu\")"
   ]
  },
  {
   "cell_type": "code",
   "execution_count": 19,
   "metadata": {},
   "outputs": [],
   "source": [
    "#Default parameter\n",
    "def py(nm=\"apple\"):\n",
    "    print(\"I am new \",nm)"
   ]
  },
  {
   "cell_type": "code",
   "execution_count": 22,
   "metadata": {},
   "outputs": [
    {
     "name": "stdout",
     "output_type": "stream",
     "text": [
      "I am new  apple\n",
      "I am new  banana\n"
     ]
    }
   ],
   "source": [
    "#calling function with default values\n",
    "py()\n",
    "py(\"banana\")"
   ]
  },
  {
   "cell_type": "code",
   "execution_count": 28,
   "metadata": {},
   "outputs": [],
   "source": [
    "def prg(f_name,l_name):\n",
    "    print(\"First name: \",f_name,\"\\n\",\"Last_name: \",l_name)"
   ]
  },
  {
   "cell_type": "code",
   "execution_count": 29,
   "metadata": {},
   "outputs": [
    {
     "name": "stdout",
     "output_type": "stream",
     "text": [
      "First name:  bhanu \n",
      " Last_name:  rekha\n"
     ]
    }
   ],
   "source": [
    "prg(\"bhanu\",\"rekha\")"
   ]
  },
  {
   "cell_type": "code",
   "execution_count": 16,
   "metadata": {},
   "outputs": [],
   "source": [
    "def addition(a,b):\n",
    "    print(\"addition= \",a+b)\n"
   ]
  },
  {
   "cell_type": "code",
   "execution_count": 18,
   "metadata": {},
   "outputs": [
    {
     "name": "stdout",
     "output_type": "stream",
     "text": [
      "addition=  3\n",
      "addition=  6\n"
     ]
    }
   ],
   "source": [
    "addition(1,2)\n",
    "#we can specify the values if we want to change the order\n",
    "addition(b=1,a=5)"
   ]
  },
  {
   "cell_type": "code",
   "execution_count": 7,
   "metadata": {},
   "outputs": [],
   "source": [
    "#calculate BMI \n",
    "def BMI():\n",
    "    weight=float(input(\"Enter the value of weight:\"))\n",
    "    height=float(input(\"Enter the value of Height:\"))\n",
    "    if weight<=0 or height<=0:\n",
    "       print(\"enter a value greater than zero\")\n",
    "    else:\n",
    "        BMI = (weight / (height ** 2))\n",
    "        print(BMI)\n",
    "\n",
    "\n"
   ]
  },
  {
   "cell_type": "code",
   "execution_count": 8,
   "metadata": {},
   "outputs": [
    {
     "name": "stdout",
     "output_type": "stream",
     "text": [
      "Enter the value of weight:68\n",
      "Enter the value of Height:189\n",
      "0.001903642115282327\n"
     ]
    }
   ],
   "source": [
    "BMI()"
   ]
  },
  {
   "cell_type": "code",
   "execution_count": 13,
   "metadata": {},
   "outputs": [],
   "source": [
    "#convert the given temparature in celcius to foreint heat\n",
    "def cels_to_foreign():\n",
    "    temp=float(input(\"Enter temparature in celcius: \"))\n",
    "    print(\"Foreigneit temp = : \", (temp*(9/5)+32))"
   ]
  },
  {
   "cell_type": "code",
   "execution_count": 14,
   "metadata": {},
   "outputs": [
    {
     "name": "stdout",
     "output_type": "stream",
     "text": [
      "Enter temparature in celcius: 98\n",
      "Foreigneit temp = :  208.4\n"
     ]
    }
   ],
   "source": [
    "cels_to_foreign()"
   ]
  },
  {
   "cell_type": "code",
   "execution_count": 19,
   "metadata": {},
   "outputs": [],
   "source": [
    "def func(nm,age):\n",
    "    print(\"name=\",nm)\n",
    "    print(\"age=\",age)"
   ]
  },
  {
   "cell_type": "code",
   "execution_count": 22,
   "metadata": {},
   "outputs": [
    {
     "name": "stdout",
     "output_type": "stream",
     "text": [
      "name= bhanu\n",
      "age= 25\n",
      "name= 25\n",
      "age= bhanu\n",
      "name= bhanu\n",
      "age= 25\n"
     ]
    }
   ],
   "source": [
    "#we can interchange the parameters but we need to specify the name defined \n",
    "func(\"bhanu\",25)\n",
    "func(25,\"bhanu\")\n",
    "func(age=25,nm=\"bhanu\")"
   ]
  },
  {
   "cell_type": "code",
   "execution_count": 26,
   "metadata": {},
   "outputs": [],
   "source": [
    "#get the list of even and odd numbers seperately for a given range\n",
    "def evenodd():\n",
    "    a=int(input(\"Enter range of numbers from :\"))\n",
    "    b=int(input(\"upto :\"))\n",
    "    even=[]\n",
    "    odd=[]\n",
    "    for i in range(a,b+1):\n",
    "        if(i%2==0):\n",
    "            even.append(i)\n",
    "        else:\n",
    "            odd.append(i)\n",
    "            \n",
    "    print(\"even list is : \",even)\n",
    "    print(\"odd list is : \",odd)\n",
    "            "
   ]
  },
  {
   "cell_type": "code",
   "execution_count": 27,
   "metadata": {},
   "outputs": [
    {
     "name": "stdout",
     "output_type": "stream",
     "text": [
      "Enter range of numbers from :30\n",
      "upto :150\n",
      "even list is :  [30, 32, 34, 36, 38, 40, 42, 44, 46, 48, 50, 52, 54, 56, 58, 60, 62, 64, 66, 68, 70, 72, 74, 76, 78, 80, 82, 84, 86, 88, 90, 92, 94, 96, 98, 100, 102, 104, 106, 108, 110, 112, 114, 116, 118, 120, 122, 124, 126, 128, 130, 132, 134, 136, 138, 140, 142, 144, 146, 148, 150]\n",
      "odd list is :  [31, 33, 35, 37, 39, 41, 43, 45, 47, 49, 51, 53, 55, 57, 59, 61, 63, 65, 67, 69, 71, 73, 75, 77, 79, 81, 83, 85, 87, 89, 91, 93, 95, 97, 99, 101, 103, 105, 107, 109, 111, 113, 115, 117, 119, 121, 123, 125, 127, 129, 131, 133, 135, 137, 139, 141, 143, 145, 147, 149]\n"
     ]
    }
   ],
   "source": [
    "evenodd()"
   ]
  },
  {
   "cell_type": "code",
   "execution_count": 30,
   "metadata": {},
   "outputs": [],
   "source": [
    "#calculate the number of weeks and number of days \n",
    "def weekdays():\n",
    "    days=int(input(\"Enter the number of days\"))\n",
    "    print(\"we have \",(days//7),\" weeks and \",(days%7),\" days\")\n",
    "        "
   ]
  },
  {
   "cell_type": "code",
   "execution_count": 34,
   "metadata": {},
   "outputs": [
    {
     "name": "stdout",
     "output_type": "stream",
     "text": [
      "Enter the number of days14\n",
      "we have  2  weeks and  0  days\n"
     ]
    }
   ],
   "source": [
    "weekdays()"
   ]
  },
  {
   "cell_type": "code",
   "execution_count": 35,
   "metadata": {},
   "outputs": [
    {
     "name": "stdout",
     "output_type": "stream",
     "text": [
      "[2, 3, 1, 2, 5, 6, 90, 4, 5, 67, 3, 4, 56, 2, 3, 4, 5, 889, 90]\n",
      "[1, 2, 2, 2, 3, 3, 3, 4, 4, 4, 5, 5, 5, 6, 56, 67, 90, 90, 889]\n"
     ]
    }
   ],
   "source": [
    "#sort\n",
    "a=[2,3,1,2,5,6,90,4,5,67,3,4,56,2,3,4,5,889,90]\n",
    "print(a)\n",
    "a.sort()\n",
    "print(a)"
   ]
  },
  {
   "cell_type": "code",
   "execution_count": 39,
   "metadata": {},
   "outputs": [
    {
     "name": "stdout",
     "output_type": "stream",
     "text": [
      "(2, 3, 1, 2, 5, 6, 90, 4, 5, 67, 3, 4, 56, 2, 3, 4, 5, 889, 90)\n",
      "[1, 2, 2, 2, 3, 3, 3, 4, 4, 4, 5, 5, 5, 6, 56, 67, 90, 90, 889]\n"
     ]
    }
   ],
   "source": [
    "a=(2,3,1,2,5,6,90,4,5,67,3,4,56,2,3,4,5,889,90)\n",
    "print(a)\n",
    "a=sorted(a)\n",
    "print(a)"
   ]
  },
  {
   "cell_type": "code",
   "execution_count": 10,
   "metadata": {},
   "outputs": [],
   "source": [
    "def decend(list):\n",
    "        #list.sort()\n",
    "        b=sorted(list,reverse=True)\n",
    "        print(\"decending order \",b)\n"
   ]
  },
  {
   "cell_type": "code",
   "execution_count": 11,
   "metadata": {},
   "outputs": [
    {
     "name": "stdout",
     "output_type": "stream",
     "text": [
      "decending order  [67, 45, 34, 23, 12, 3]\n"
     ]
    }
   ],
   "source": [
    "a=[23,34,12,3,45,67]\n",
    "decend(a)"
   ]
  },
  {
   "cell_type": "code",
   "execution_count": 68,
   "metadata": {},
   "outputs": [
    {
     "name": "stdout",
     "output_type": "stream",
     "text": [
      "decending order  [90, 67, 45, 23, 12, 3]\n"
     ]
    }
   ],
   "source": [
    "a=[23,90,12,3,45,67]\n",
    "decend(a)"
   ]
  },
  {
   "cell_type": "code",
   "execution_count": 88,
   "metadata": {},
   "outputs": [],
   "source": [
    "def biggest():\n",
    "    a=int(input(\"enter three numbers a: \"))\n",
    "    b=int(input(\"b: \"))\n",
    "    c=int(input(\"c: \"))\n",
    "    \n",
    "    if a<0 or b<0 or c<0:\n",
    "        print(\"enter a number greater than 0\")\n",
    "        biggest()\n",
    "    else:\n",
    "        if(a>b and a>c):\n",
    "            print(\"a is biggest\")\n",
    "        elif(b>c and b>a):\n",
    "            print(\"b is biggest\")\n",
    "        else:\n",
    "            print(\"c is biggest\")\n",
    "        \n",
    "        "
   ]
  },
  {
   "cell_type": "code",
   "execution_count": null,
   "metadata": {},
   "outputs": [
    {
     "name": "stdout",
     "output_type": "stream",
     "text": [
      "enter three numbers a: -1\n",
      "b: 2\n",
      "c: 3\n",
      "enter a number greater than 0\n"
     ]
    }
   ],
   "source": [
    "biggest()"
   ]
  },
  {
   "cell_type": "code",
   "execution_count": 4,
   "metadata": {},
   "outputs": [],
   "source": [
    "def fact():\n",
    "    num=int(input(\"enter a number: \"))\n",
    "    \n",
    "    res=1\n",
    "    for i in range(1,num+1):\n",
    "        res=res*i\n",
    "        \n",
    "    print(\"Factorial= \",res)"
   ]
  },
  {
   "cell_type": "code",
   "execution_count": 5,
   "metadata": {},
   "outputs": [
    {
     "name": "stdout",
     "output_type": "stream",
     "text": [
      "enter a number: 8\n",
      "Factorial=  40320\n"
     ]
    }
   ],
   "source": [
    "fact()"
   ]
  },
  {
   "cell_type": "code",
   "execution_count": 2,
   "metadata": {},
   "outputs": [],
   "source": [
    "#write a function to swap two variables\n",
    "def swap(x,y):\n",
    "        x,y=y,x\n"
   ]
  },
  {
   "cell_type": "code",
   "execution_count": 3,
   "metadata": {},
   "outputs": [
    {
     "name": "stdout",
     "output_type": "stream",
     "text": [
      "12 24\n"
     ]
    }
   ],
   "source": [
    "swap(a,b)\n",
    "print(a,b)"
   ]
  },
  {
   "cell_type": "code",
   "execution_count": 1,
   "metadata": {},
   "outputs": [
    {
     "name": "stdout",
     "output_type": "stream",
     "text": [
      "11\n",
      "10\n",
      "9\n",
      "8\n",
      "7\n",
      "6\n"
     ]
    }
   ],
   "source": [
    "a=11\n",
    "for i in range(1,3):\n",
    "    while True:\n",
    "        if a>5:\n",
    "            print(a)\n",
    "        else:\n",
    "            break\n",
    "\n",
    "            a-=1\n",
    "    "
   ]
  },
  {
   "cell_type": "code",
   "execution_count": 27,
   "metadata": {},
   "outputs": [
    {
     "name": "stdout",
     "output_type": "stream",
     "text": [
      "3\n",
      "5\n",
      "7\n"
     ]
    }
   ],
   "source": [
    "num=10\n",
    "\n",
    "for a in range(3,num+1):  #3 to 10\n",
    "    for b in range (2,a):\n",
    "        if(a%b==0):\n",
    "            #print(\"break\",a,b)\n",
    "            break\n",
    "    else:\n",
    "            print(a)\n",
    "\n",
    "\n"
   ]
  },
  {
   "cell_type": "code",
   "execution_count": 31,
   "metadata": {},
   "outputs": [],
   "source": [
    "def greet(country,nm):\n",
    "    \n",
    "    if(country==\"france\"):\n",
    "        print(\"welcome \",nm,\" to France\")"
   ]
  },
  {
   "cell_type": "code",
   "execution_count": 32,
   "metadata": {},
   "outputs": [
    {
     "name": "stdout",
     "output_type": "stream",
     "text": [
      "welcome  bhanu  to France\n"
     ]
    }
   ],
   "source": [
    "greet(\"france\",\"bhanu\")"
   ]
  },
  {
   "cell_type": "code",
   "execution_count": 38,
   "metadata": {},
   "outputs": [],
   "source": [
    "def f1():\n",
    "    lst_f = [1,2,3,4,5,6,7]\n",
    "    print(\"list with in function\",lst)"
   ]
  },
  {
   "cell_type": "code",
   "execution_count": 41,
   "metadata": {},
   "outputs": [
    {
     "name": "stdout",
     "output_type": "stream",
     "text": [
      "list with in function [11, 112, 345]\n"
     ]
    }
   ],
   "source": [
    "lst=[11,112,345]\n",
    "f1()"
   ]
  },
  {
   "cell_type": "code",
   "execution_count": 53,
   "metadata": {},
   "outputs": [],
   "source": [
    "def gl_fun():\n",
    "    #print(nm)\n",
    "    nm=\"great learning\"\n",
    "    print(nm)"
   ]
  },
  {
   "cell_type": "code",
   "execution_count": 54,
   "metadata": {},
   "outputs": [
    {
     "name": "stdout",
     "output_type": "stream",
     "text": [
      "great learning\n",
      "great not learning\n"
     ]
    }
   ],
   "source": [
    "nm=\"great not learning\"\n",
    "gl_fun()\n",
    "print(nm)"
   ]
  },
  {
   "cell_type": "code",
   "execution_count": 58,
   "metadata": {},
   "outputs": [
    {
     "name": "stdout",
     "output_type": "stream",
     "text": [
      "great learning\n",
      "Juzz awesome\n",
      "Juzz awesome\n"
     ]
    }
   ],
   "source": [
    "def f():\n",
    "    global s\n",
    "    print(s)\n",
    "    s=\"Juzz awesome\"\n",
    "    print(s)\n",
    "\n",
    "s=\"great learning\"\n",
    "f()\n",
    "print(s)"
   ]
  },
  {
   "cell_type": "code",
   "execution_count": 65,
   "metadata": {},
   "outputs": [
    {
     "name": "stdout",
     "output_type": "stream",
     "text": [
      "10\n",
      "20\n",
      "100\n",
      "100\n",
      "100\n"
     ]
    }
   ],
   "source": [
    "\n",
    "a=10\n",
    "def f1():\n",
    "    print(a)\n",
    "def f2():\n",
    "    a=20\n",
    "    print(a)\n",
    "def f3():\n",
    "    global a\n",
    "    a=100\n",
    "    print(a)    \n",
    "def f4():\n",
    "    print(a)\n",
    "f1()\n",
    "f2()\n",
    "f3()\n",
    "f4()\n",
    "print(a)"
   ]
  },
  {
   "cell_type": "code",
   "execution_count": 14,
   "metadata": {},
   "outputs": [
    {
     "name": "stdout",
     "output_type": "stream",
     "text": [
      "palyndrome\n"
     ]
    }
   ],
   "source": [
    "#palyndrome\n",
    "def pal(mystr):\n",
    "    a=mystr.casefold()\n",
    "    b=a[::-1]\n",
    "    #print(a,b)\n",
    "    if a==b:\n",
    "        print(\"palyndrome\")\n",
    "    else:\n",
    "        print(\"not\")\n",
    "pal(\"mom\")\n"
   ]
  },
  {
   "cell_type": "code",
   "execution_count": 15,
   "metadata": {},
   "outputs": [
    {
     "name": "stdout",
     "output_type": "stream",
     "text": [
      "unahb\n"
     ]
    }
   ],
   "source": [
    "a=\"bhanu\"\n",
    "b=a[::-1]\n",
    "print(b)"
   ]
  },
  {
   "cell_type": "code",
   "execution_count": 36,
   "metadata": {},
   "outputs": [
    {
     "data": {
      "text/plain": [
       "'ahkerunahb'"
      ]
     },
     "execution_count": 36,
     "metadata": {},
     "output_type": "execute_result"
    }
   ],
   "source": [
    "a=\"bhanurekha\"\n",
    "b= \"\".join(reversed(a))\n",
    "b"
   ]
  },
  {
   "cell_type": "markdown",
   "metadata": {},
   "source": [
    "# Lambda"
   ]
  },
  {
   "cell_type": "code",
   "execution_count": 85,
   "metadata": {},
   "outputs": [
    {
     "data": {
      "text/plain": [
       "3"
      ]
     },
     "execution_count": 85,
     "metadata": {},
     "output_type": "execute_result"
    }
   ],
   "source": [
    "lam = lambda a,b: a+b\n",
    "lam(1,2)"
   ]
  },
  {
   "cell_type": "code",
   "execution_count": 86,
   "metadata": {},
   "outputs": [
    {
     "data": {
      "text/plain": [
       "4"
      ]
     },
     "execution_count": 86,
     "metadata": {},
     "output_type": "execute_result"
    }
   ],
   "source": [
    "fun = lambda a,b,c:a*b*b\n",
    "fun(1,2,3)"
   ]
  },
  {
   "cell_type": "code",
   "execution_count": 92,
   "metadata": {},
   "outputs": [
    {
     "name": "stdout",
     "output_type": "stream",
     "text": [
      "6\n"
     ]
    }
   ],
   "source": [
    "def myfunc(n):\n",
    "    return lambda a:a*n\n",
    "mytripler = myfunc(3)\n",
    "print(mytripler(2))"
   ]
  },
  {
   "cell_type": "code",
   "execution_count": 93,
   "metadata": {},
   "outputs": [
    {
     "name": "stdout",
     "output_type": "stream",
     "text": [
      "False\n"
     ]
    }
   ],
   "source": [
    "f = lambda x:x>7\n",
    "\n",
    "print(f(1))"
   ]
  },
  {
   "cell_type": "markdown",
   "metadata": {},
   "source": [
    "# Filter"
   ]
  },
  {
   "cell_type": "code",
   "execution_count": 94,
   "metadata": {},
   "outputs": [
    {
     "name": "stdout",
     "output_type": "stream",
     "text": [
      "[2, 4, 6, 8, 0]\n"
     ]
    }
   ],
   "source": [
    "li=[1,2,3,4,55,6,7,8,9,9,0]\n",
    "final_list=list(filter(lambda x:(x%2 == 0),li))\n",
    "print(final_list)"
   ]
  },
  {
   "cell_type": "code",
   "execution_count": 100,
   "metadata": {},
   "outputs": [
    {
     "name": "stdout",
     "output_type": "stream",
     "text": [
      "[55, 7, 0]\n"
     ]
    }
   ],
   "source": [
    "li=[1,2,3,4,55,6,7,8,9,9,0]\n",
    "final_list=list(filter(lambda x:(x%5 == 0 or x%7 == 0),li))\n",
    "print(final_list)"
   ]
  },
  {
   "cell_type": "code",
   "execution_count": 104,
   "metadata": {},
   "outputs": [
    {
     "name": "stdout",
     "output_type": "stream",
     "text": [
      "[{'name': 'python', 'points': 10}]\n"
     ]
    }
   ],
   "source": [
    "dict_a = [{'name':'python','points':10},{'name':'java','points':8}]\n",
    "print(list(filter(lambda x :x['name'] == 'python',dict_a)))"
   ]
  },
  {
   "cell_type": "code",
   "execution_count": 106,
   "metadata": {},
   "outputs": [
    {
     "name": "stdout",
     "output_type": "stream",
     "text": [
      "[False, False, True, False, False, True, True, False, False, False, False, False]\n"
     ]
    }
   ],
   "source": [
    "numbers=[1,2,3,4,55,3,6,67,7,7,4,5]\n",
    "s=list(map(lambda x:x%3==0,numbers))\n",
    "print(s)"
   ]
  },
  {
   "cell_type": "code",
   "execution_count": 108,
   "metadata": {},
   "outputs": [
    {
     "name": "stdout",
     "output_type": "stream",
     "text": [
      "203\n"
     ]
    }
   ],
   "source": [
    "from functools import reduce\n",
    "li = [5,8,10,20,34,45,4,44,33]\n",
    "sum = reduce(lambda x,y:x+y,li)\n",
    "print(sum)"
   ]
  },
  {
   "cell_type": "code",
   "execution_count": 111,
   "metadata": {},
   "outputs": [
    {
     "name": "stdout",
     "output_type": "stream",
     "text": [
      "the sum is203\n"
     ]
    }
   ],
   "source": [
    "import functools\n",
    "import operator\n",
    "li = [5,8,10,20,34,45,4,44,33]\n",
    "\n",
    "\n",
    "print(\"the sum is\",end=\"\")\n",
    "print(functools.reduce(lambda a,b:a+b,li))"
   ]
  },
  {
   "cell_type": "code",
   "execution_count": 114,
   "metadata": {},
   "outputs": [
    {
     "name": "stdout",
     "output_type": "stream",
     "text": [
      "the multiply is  71089920000\n"
     ]
    }
   ],
   "source": [
    "import functools\n",
    "import operator\n",
    "li = [5,8,10,20,34,45,4,44,33]\n",
    "\n",
    "\n",
    "print(\"the multiply is  \",end=\"\")\n",
    "print(reduce(operator.mul,li))#add,sub,mul,truediv"
   ]
  },
  {
   "cell_type": "code",
   "execution_count": 23,
   "metadata": {},
   "outputs": [
    {
     "name": "stdout",
     "output_type": "stream",
     "text": [
      "6\n"
     ]
    }
   ],
   "source": [
    "f = lambda x,y,z : x+y+z\n",
    "print(f(1,2,3))"
   ]
  },
  {
   "cell_type": "code",
   "execution_count": 15,
   "metadata": {},
   "outputs": [
    {
     "name": "stdout",
     "output_type": "stream",
     "text": [
      "5\n",
      "10\n",
      "15\n",
      "20\n",
      "25\n",
      "30\n",
      "35\n",
      "40\n",
      "45\n",
      "50\n",
      "55\n",
      "60\n",
      "65\n",
      "70\n",
      "75\n",
      "80\n",
      "85\n",
      "90\n",
      "95\n",
      "100\n"
     ]
    }
   ],
   "source": [
    "#multiples of 5 from 1 to 100\n",
    "for i in range(0,101,5):\n",
    "    if i>0:\n",
    "        print(i)\n"
   ]
  },
  {
   "cell_type": "code",
   "execution_count": 19,
   "metadata": {},
   "outputs": [
    {
     "name": "stdout",
     "output_type": "stream",
     "text": [
      "5\n",
      "10\n",
      "15\n",
      "20\n",
      "25\n",
      "30\n",
      "35\n",
      "40\n",
      "45\n",
      "50\n",
      "55\n",
      "60\n",
      "65\n",
      "70\n",
      "75\n",
      "80\n",
      "85\n",
      "90\n",
      "95\n",
      "100\n"
     ]
    }
   ],
   "source": [
    "#multiples of 5 from 1 to 100\n",
    "mul=5\n",
    "for i in range(1,21):\n",
    "    print(i*mul)"
   ]
  },
  {
   "cell_type": "code",
   "execution_count": 24,
   "metadata": {},
   "outputs": [
    {
     "name": "stdout",
     "output_type": "stream",
     "text": [
      "1\n",
      "4\n",
      "9\n",
      "16\n",
      "25\n"
     ]
    }
   ],
   "source": [
    "a=[1,2,3,4,5]\n",
    "for i in a:\n",
    "    print(i*i)"
   ]
  },
  {
   "cell_type": "code",
   "execution_count": 31,
   "metadata": {},
   "outputs": [
    {
     "data": {
      "text/plain": [
       "[65, 45, 6, 4, 1]"
      ]
     },
     "execution_count": 31,
     "metadata": {},
     "output_type": "execute_result"
    }
   ],
   "source": [
    "a=[6,1,45,4,65]\n",
    "a=sorted(a,reverse=True)\n",
    "a\n",
    "\n"
   ]
  },
  {
   "cell_type": "code",
   "execution_count": 48,
   "metadata": {},
   "outputs": [
    {
     "name": "stdout",
     "output_type": "stream",
     "text": [
      "1 2\n",
      "2 3\n",
      "15 45\n",
      "[1, 2, 3, 15, 45]\n"
     ]
    }
   ],
   "source": [
    "a=[2,3,1,45,15]\n",
    "for i in range(0,len(a)):\n",
    "    for j in range(i+1,len(a)):\n",
    "        if a[i]>a[j]:\n",
    "            a[i],a[j]=a[j],a[i]\n",
    "            print(a[i],a[j])\n",
    "       \n",
    "print(a)"
   ]
  },
  {
   "cell_type": "code",
   "execution_count": 9,
   "metadata": {},
   "outputs": [
    {
     "name": "stdout",
     "output_type": "stream",
     "text": [
      "bhanu rekha sai\n",
      "['bhanu', 'rekha', 'sai']\n"
     ]
    },
    {
     "data": {
      "text/plain": [
       "list"
      ]
     },
     "execution_count": 9,
     "metadata": {},
     "output_type": "execute_result"
    }
   ],
   "source": [
    "values=input().split()\n",
    "\n",
    "#l=values.split(\" \")\n",
    "print(values)\n",
    "type(values)"
   ]
  },
  {
   "cell_type": "code",
   "execution_count": 12,
   "metadata": {},
   "outputs": [
    {
     "name": "stdout",
     "output_type": "stream",
     "text": [
      "1 2 3 4 5 6\n",
      "[1, 2, 3, 4, 5, 6]\n"
     ]
    },
    {
     "data": {
      "text/plain": [
       "list"
      ]
     },
     "execution_count": 12,
     "metadata": {},
     "output_type": "execute_result"
    }
   ],
   "source": [
    "numbers=list(map(int,input().split()))\n",
    "print(numbers)\n",
    "type(numbers)"
   ]
  },
  {
   "cell_type": "code",
   "execution_count": 4,
   "metadata": {},
   "outputs": [
    {
     "data": {
      "text/plain": [
       "'Sai Reddy'"
      ]
     },
     "execution_count": 4,
     "metadata": {},
     "output_type": "execute_result"
    }
   ],
   "source": [
    "## add the first name and second name given , \n",
    "#the first letter should be capital and other letters should be lower case and have space between the letters\n",
    "list=[\"sai nath\",\"REDDY\"]\n",
    "names = lambda x,y : x.split(' ')[0].title()+' '+y.split(' ')[0].title()\n",
    "names(\"sai nath\",\"REDDY\")"
   ]
  },
  {
   "cell_type": "code",
   "execution_count": 11,
   "metadata": {},
   "outputs": [
    {
     "name": "stdout",
     "output_type": "stream",
     "text": [
      "['Sravan Kumar Chirra', 'Mohan Reddy dabala', 'Sai Nath', 'Anu radha', ' Raja Reddy', 'Bhanu Rekha']\n"
     ]
    }
   ],
   "source": [
    "list=[\"Sai Nath\",\"Bhanu Rekha\",\" Raja Reddy\",\"Anu radha\",\"Mohan Reddy dabala\",\"Sravan Kumar Chirra\"]\n",
    "list.sort(key=lambda x: x.split(' ')[-1].title())\n",
    "print(list)"
   ]
  },
  {
   "cell_type": "code",
   "execution_count": 12,
   "metadata": {},
   "outputs": [
    {
     "data": {
      "text/plain": [
       "15"
      ]
     },
     "execution_count": 12,
     "metadata": {},
     "output_type": "execute_result"
    }
   ],
   "source": [
    "def func(a,b,c):\n",
    "    return lambda x : a*(x**2) + b*x +c\n",
    "\n",
    "exp = func(2,2,3)\n",
    "exp(2)"
   ]
  },
  {
   "cell_type": "code",
   "execution_count": 1,
   "metadata": {},
   "outputs": [
    {
     "data": {
      "text/plain": [
       "[('Berlin', 162.5),\n",
       " ('Cairo', 284.0),\n",
       " ('Aires', 167.0),\n",
       " ('Los Angels', 144.5),\n",
       " ('New York', 234.5),\n",
       " ('Wash Dc', 131.0)]"
      ]
     },
     "execution_count": 1,
     "metadata": {},
     "output_type": "execute_result"
    }
   ],
   "source": [
    "#convert celcius to foreign heat 9/2 * c+32\n",
    "temps=[(\"berlin\",29),(\"cairo\",56),(\"aires\",30),(\"los angels\",25),(\"new york\",45),(\"wash dc\",22)]\n",
    "list(map(lambda x: (x[0].title(),(9/2) * x[1]+32),temps))\n",
    "\n"
   ]
  },
  {
   "cell_type": "code",
   "execution_count": 12,
   "metadata": {},
   "outputs": [
    {
     "name": "stdout",
     "output_type": "stream",
     "text": [
      "15.333333333333334\n",
      "[45, 42]\n",
      "[5, 6, 8, 9, 7, 4, 12]\n"
     ]
    }
   ],
   "source": [
    "\n",
    "li=[5,45,6,8,9,7,4,42,12]\n",
    "avg=sum(li)/len(li)\n",
    "greater_mean = list(filter(lambda x: x > avg,li))\n",
    "print(avg)\n",
    "print(greater_mean)\n",
    "lesser_mean = list(filter(lambda x: x < avg,li))\n",
    "print(lesser_mean)\n"
   ]
  },
  {
   "cell_type": "code",
   "execution_count": 15,
   "metadata": {},
   "outputs": [
    {
     "name": "stdout",
     "output_type": "stream",
     "text": [
      "['india', 'pak', 'bangla', 'china']\n"
     ]
    }
   ],
   "source": [
    "countries=[\"india\",\"pak\",\"bangla\",\"\",\"china\",\"\"]\n",
    "new_list = list(filter(None,countries))\n",
    "print(new_list)"
   ]
  }
 ],
 "metadata": {
  "kernelspec": {
   "display_name": "Python 3",
   "language": "python",
   "name": "python3"
  },
  "language_info": {
   "codemirror_mode": {
    "name": "ipython",
    "version": 3
   },
   "file_extension": ".py",
   "mimetype": "text/x-python",
   "name": "python",
   "nbconvert_exporter": "python",
   "pygments_lexer": "ipython3",
   "version": "3.7.3"
  }
 },
 "nbformat": 4,
 "nbformat_minor": 2
}
