{
 "cells": [
  {
   "cell_type": "markdown",
   "metadata": {},
   "source": [
    "# Numpy"
   ]
  },
  {
   "cell_type": "code",
   "execution_count": 4,
   "metadata": {},
   "outputs": [
    {
     "name": "stdout",
     "output_type": "stream",
     "text": [
      "array: \n",
      " [1 2 3 4 5 6 7 8 9]\n",
      "shape:  (9,)\n",
      "ndim:  1\n",
      "size:  9\n",
      "itemsize:  4\n",
      "nbytes:  36\n"
     ]
    }
   ],
   "source": [
    "#Numerical Python\n",
    "\n",
    "import numpy as np\n",
    "\n",
    "#Create a tuple and convert it as an array using array\n",
    "\n",
    "tup=(1,2,3,4,5)\n",
    "arr2= np.array(tup)      #n dimentional array from tuple\n",
    "\n",
    "lis=[1,2,3]\n",
    "arrl=np.array(lis)       #n dimentional array from a list\n",
    "\n",
    "arr=np.array(range(1,10))          #n dimentional array from a range\n",
    "\n",
    "\n",
    "#display the properties of an array\n",
    "print(\"array: \\n\",arr)\n",
    "\n",
    "print(\"shape: \",arr.shape)         \n",
    "print(\"ndim: \",arr.ndim)\n",
    "print(\"size: \",arr.size)\n",
    "print(\"itemsize: \",arr.itemsize)\n",
    "print(\"nbytes: \",arr.nbytes)\n",
    "\n",
    "\n",
    "\n"
   ]
  },
  {
   "cell_type": "code",
   "execution_count": 6,
   "metadata": {},
   "outputs": [
    {
     "name": "stdout",
     "output_type": "stream",
     "text": [
      "<class 'numpy.ndarray'>\n",
      "shape:  [[1 2 3 4 5]] (1, 5)\n"
     ]
    }
   ],
   "source": [
    "#specify the dimensions\n",
    "\n",
    "tup=(1,2,3,4,5)\n",
    "arr= np.array(tup,ndmin=2)      #n dimentional array\n",
    "print(type(arr))\n",
    "\n",
    "print(\"shape: \",arr,arr.shape)"
   ]
  },
  {
   "cell_type": "code",
   "execution_count": 8,
   "metadata": {},
   "outputs": [
    {
     "name": "stdout",
     "output_type": "stream",
     "text": [
      "<class 'numpy.ndarray'>\n",
      "shape:  [[1.1 2.  3.  4.  5. ]] (1, 5)\n"
     ]
    }
   ],
   "source": [
    "#Typecasting in arrays\n",
    "\n",
    "tup=(1.1,2,3,4,5)\n",
    "arr= np.array(tup,ndmin=2,dtype=float)      #n dimentional array\n",
    "print(type(arr))\n",
    "\n",
    "print(\"shape: \",arr,arr.shape)"
   ]
  },
  {
   "cell_type": "code",
   "execution_count": 33,
   "metadata": {},
   "outputs": [
    {
     "name": "stdout",
     "output_type": "stream",
     "text": [
      "[[1. 2. 3. 4. 5. 6.]] (1, 6)\n"
     ]
    }
   ],
   "source": [
    "# create a list with 6 elements \n",
    "#convert to array numpy datatype\n",
    "#import numpy and alias as npy\n",
    "# find data type\n",
    "#print the values\n",
    "#find the dimensions of the elements\n",
    "\n",
    "import numpy as npy\n",
    "\n",
    "lis=[1,2,3,4,5,6]\n",
    "arr4=npy.array(lis,dtype=float,ndmin=2)\n",
    "\n",
    "print(arr4,arr4.shape)\n",
    "\n",
    "\n"
   ]
  },
  {
   "cell_type": "code",
   "execution_count": 35,
   "metadata": {},
   "outputs": [
    {
     "name": "stdout",
     "output_type": "stream",
     "text": [
      "[['1' '2' '3' '4' '5' '6' '7' '8' '9']]\n",
      "<class 'int'>\n",
      "<class 'int'>\n",
      "<class 'int'>\n"
     ]
    }
   ],
   "source": [
    "# create a data type and use it in a array\n",
    "import numpy as npy\n",
    "\n",
    "arr=npy.array(range(1,10),ndmin=2,dtype=np.str)\n",
    "print(arr)\n",
    "print(type(arr.nbytes))\n",
    "\n",
    "dt=np.dtype(np.int64)\n",
    "arr1=npy.array(lis,ndmin=2,dtype=dt)\n",
    "print(type(arr1.nbytes))\n",
    "\n",
    "dt=np.int64\n",
    "arr2=npy.array(lis,ndmin=2,dtype=dt)\n",
    "print(type(arr2.nbytes))"
   ]
  },
  {
   "cell_type": "code",
   "execution_count": 9,
   "metadata": {},
   "outputs": [
    {
     "name": "stdout",
     "output_type": "stream",
     "text": [
      "[[[1 2 3 4 5 6 7 8 9]]]\n",
      "[0 1 2 3 4 5 6 7 8 9]\n",
      "[[0 1 2 3 4]\n",
      " [5 6 7 8 9]]\n"
     ]
    }
   ],
   "source": [
    "#practice\n",
    "import numpy as np\n",
    "arr=np.array(range(1,10),ndmin=3,dtype=int)\n",
    "print(arr)\n",
    "arr1=np.arange(10)\n",
    "print(arr1)\n",
    "mat=arr1.reshape(2,5)\n",
    "print(mat)"
   ]
  },
  {
   "cell_type": "code",
   "execution_count": 56,
   "metadata": {},
   "outputs": [
    {
     "name": "stdout",
     "output_type": "stream",
     "text": [
      "matrix1:  \n",
      " [[1 2]\n",
      " [3 4]] 16 (2, 2)\n",
      "matrix2:  \n",
      " [[1 2]\n",
      " [3 4]] 16 (2, 2)\n"
     ]
    }
   ],
   "source": [
    "#convert a list into array and then to a matrix\n",
    "lis=[[1,2],[3,4]]\n",
    "a=np.array(lis,ndmin=2)\n",
    "b=a.reshape(2,2)\n",
    "print(\"matrix1: \",\"\\n\",a,a.nbytes,a.shape)\n",
    "\n",
    "print(\"matrix2: \",\"\\n\",b,b.nbytes,b.shape)\n",
    "\n",
    "\n"
   ]
  },
  {
   "cell_type": "code",
   "execution_count": 59,
   "metadata": {},
   "outputs": [
    {
     "name": "stdout",
     "output_type": "stream",
     "text": [
      "matrix1:  \n",
      " [[1 2 3]\n",
      " [3 4 5]] 24 (2, 3)\n",
      "matrix2:  \n",
      " [[1 2]\n",
      " [3 3]\n",
      " [4 5]] 24 (3, 2)\n"
     ]
    }
   ],
   "source": [
    "lis=[[1,2,3],[3,4,5]]\n",
    "a=np.array(lis,ndmin=2)\n",
    "b=a.reshape(3,2)\n",
    "print(\"matrix1: \",\"\\n\",a,a.nbytes,a.shape)\n",
    "\n",
    "print(\"matrix2: \",\"\\n\",b,b.nbytes,b.shape)\n"
   ]
  },
  {
   "cell_type": "code",
   "execution_count": 71,
   "metadata": {},
   "outputs": [
    {
     "name": "stdout",
     "output_type": "stream",
     "text": [
      "matrix1:  \n",
      " [[1 2 3]\n",
      " [3 4 5]] 24 (2, 3)\n",
      "matrix2:  \n",
      " [[1 2]\n",
      " [3 3]\n",
      " [4 5]] 24 (3, 2)\n"
     ]
    }
   ],
   "source": [
    "lis=[[1,2,3],[3,4,5]]\n",
    "a=np.array(lis,ndmin=2)\n",
    "b=a.reshape(3,2)\n",
    "print(\"matrix1: \",\"\\n\",a,a.nbytes,a.shape)\n",
    "\n",
    "print(\"matrix2: \",\"\\n\",b,b.nbytes,b.shape)\n"
   ]
  },
  {
   "cell_type": "code",
   "execution_count": 84,
   "metadata": {},
   "outputs": [
    {
     "name": "stdout",
     "output_type": "stream",
     "text": [
      "matrix1:\n",
      "  [[[1 2 3]\n",
      "  [3 4 5]\n",
      "  [1 2 3]\n",
      "  [3 4 5]\n",
      "  [1 2 3]\n",
      "  [3 4 5]\n",
      "  [3 4 5]\n",
      "  [3 4 5]]] 96 (1, 8, 3)\n",
      "matrix2:  \n",
      " [[[1 2 3 3]\n",
      "  [4 5 1 2]\n",
      "  [3 3 4 5]]\n",
      "\n",
      " [[1 2 3 3]\n",
      "  [4 5 3 4]\n",
      "  [5 3 4 5]]] 96 (2, 3, 4)\n"
     ]
    }
   ],
   "source": [
    "lis=[[1,2,3],[3,4,5],[1,2,3],[3,4,5],[1,2,3],[3,4,5],[3,4,5],[3,4,5]]\n",
    "a=np.array(lis,ndmin=3)\n",
    "b=a.reshape(2,3,4)\n",
    "print(\"matrix1:\\n \",a,a.nbytes,a.shape)\n",
    "\n",
    "print(\"matrix2: \",\"\\n\",b,b.nbytes,b.shape)\n"
   ]
  },
  {
   "cell_type": "code",
   "execution_count": 10,
   "metadata": {},
   "outputs": [
    {
     "name": "stdout",
     "output_type": "stream",
     "text": [
      "apple\n",
      "banana\n",
      "cherry\n"
     ]
    }
   ],
   "source": [
    "mytuple = (\"apple\", \"banana\", \"cherry\")\n",
    "myit = iter(mytuple)\n",
    "\n",
    "print(next(myit))\n",
    "print(next(myit))\n",
    "print(next(myit))"
   ]
  },
  {
   "cell_type": "code",
   "execution_count": 99,
   "metadata": {},
   "outputs": [
    {
     "name": "stdout",
     "output_type": "stream",
     "text": [
      "[0 1 2 3 4 5 6 7 8]\n",
      "1\n",
      "(9,)\n"
     ]
    },
    {
     "data": {
      "text/plain": [
       "array([0., 1., 2., 3., 4., 5., 6., 7., 8.])"
      ]
     },
     "execution_count": 99,
     "metadata": {},
     "output_type": "execute_result"
    }
   ],
   "source": [
    "sq=np.arange(9)\n",
    "print(sq)\n",
    "print(sq.ndim)\n",
    "print(sq.shape)\n",
    "sq.astype(float)"
   ]
  },
  {
   "cell_type": "code",
   "execution_count": 89,
   "metadata": {},
   "outputs": [
    {
     "data": {
      "text/plain": [
       "array([0., 1., 2., 3., 4., 5., 6., 7., 8.])"
      ]
     },
     "execution_count": 89,
     "metadata": {},
     "output_type": "execute_result"
    }
   ],
   "source": [
    "sq.astype(float)"
   ]
  },
  {
   "cell_type": "markdown",
   "metadata": {},
   "source": [
    "# Generating random arrays "
   ]
  },
  {
   "cell_type": "code",
   "execution_count": 98,
   "metadata": {},
   "outputs": [
    {
     "name": "stdout",
     "output_type": "stream",
     "text": [
      "[1 2 3 4 5 6 7 8 9]\n"
     ]
    },
    {
     "data": {
      "text/plain": [
       "array([1, 3, 5, 7, 9])"
      ]
     },
     "execution_count": 98,
     "metadata": {},
     "output_type": "execute_result"
    }
   ],
   "source": [
    "array=np.arange(1,10)\n",
    "print(array)\n",
    "array=np.arange(1,10,2)\n",
    "array"
   ]
  },
  {
   "cell_type": "code",
   "execution_count": 9,
   "metadata": {},
   "outputs": [
    {
     "name": "stdout",
     "output_type": "stream",
     "text": [
      "[15.         15.14285714 15.28571429 15.42857143 15.57142857 15.71428571\n",
      " 15.85714286 16.        ]\n"
     ]
    },
    {
     "data": {
      "text/plain": [
       "array([15.   , 15.125, 15.25 , 15.375, 15.5  , 15.625, 15.75 , 15.875])"
      ]
     },
     "execution_count": 9,
     "metadata": {},
     "output_type": "execute_result"
    }
   ],
   "source": [
    "array=np.linspace(15,16,num=8)\n",
    "print(array)\n",
    "array=np.linspace(15,16,num=8,endpoint=False)\n",
    "array"
   ]
  },
  {
   "cell_type": "code",
   "execution_count": 125,
   "metadata": {},
   "outputs": [
    {
     "name": "stdout",
     "output_type": "stream",
     "text": [
      "[84.77777778 84.86549708 84.95321637 85.04093567 85.12865497 85.21637427\n",
      " 85.30409357 85.39181287 85.47953216 85.56725146 85.65497076 85.74269006\n",
      " 85.83040936 85.91812865 86.00584795 86.09356725 86.18128655 86.26900585\n",
      " 86.35672515 86.44444444]\n"
     ]
    }
   ],
   "source": [
    "array=np.linspace(95,98,num=20)\n",
    "#convert=np.array((array*(5/9))+32)\n",
    "#convert = np.array(list((map(lambda x:((x*(5/9))+32),array))))\n",
    "\n",
    "res=array*(5/9)+32\n",
    "print(res)\n",
    "#convert"
   ]
  },
  {
   "cell_type": "code",
   "execution_count": 129,
   "metadata": {},
   "outputs": [
    {
     "name": "stdout",
     "output_type": "stream",
     "text": [
      "seq:\n",
      " [ 1.  2.  3.  4.  5.  6.  7.  8.  9. 10. 11. 12. 13. 14. 15. 16. 17. 18.\n",
      " 19. 20. 21. 22. 23. 24.] \n",
      " array1:\n",
      " [[[ 1.  2.  3.  4.  5.  6.  7.  8.  9. 10. 11. 12. 13. 14. 15. 16. 17.\n",
      "   18. 19. 20. 21. 22. 23. 24.]]] \n",
      " matrix:\n",
      " [[[ 1.  2.  3.  4.]\n",
      "  [ 5.  6.  7.  8.]]\n",
      "\n",
      " [[ 9. 10. 11. 12.]\n",
      "  [13. 14. 15. 16.]]\n",
      "\n",
      " [[17. 18. 19. 20.]\n",
      "  [21. 22. 23. 24.]]] \n",
      "\n"
     ]
    }
   ],
   "source": [
    "#difference between array sequence and matrix\n",
    "\n",
    "seq=np.linspace(1,24,num=24)\n",
    "array1=np.array(seq,ndmin=3)\n",
    "matrix=array1.reshape(3,2,4)\n",
    "print(\"seq:\\n\",seq,\"\\n\",\"array1:\\n\",array1,\"\\n\",\"matrix:\\n\",matrix,\"\\n\")\n"
   ]
  },
  {
   "cell_type": "code",
   "execution_count": 133,
   "metadata": {},
   "outputs": [
    {
     "data": {
      "text/plain": [
       "array([[ 0,  1,  2,  3,  4,  5],\n",
       "       [ 6,  7,  8,  9, 10, 11],\n",
       "       [12, 13, 14, 15, 16, 17],\n",
       "       [18, 19, 20, 21, 22, 23]])"
      ]
     },
     "execution_count": 133,
     "metadata": {},
     "output_type": "execute_result"
    }
   ],
   "source": [
    "seq=np.arange(24)\n",
    "mat=seq.reshape(4,6)\n",
    "mat"
   ]
  },
  {
   "cell_type": "code",
   "execution_count": 136,
   "metadata": {},
   "outputs": [
    {
     "name": "stdout",
     "output_type": "stream",
     "text": [
      "[[[ 0  1  2]\n",
      "  [ 3  4  5]\n",
      "  [ 6  7  8]\n",
      "  [ 9 10 11]]\n",
      "\n",
      " [[12 13 14]\n",
      "  [15 16 17]\n",
      "  [18 19 20]\n",
      "  [21 22 23]]] (2, 4, 3)\n"
     ]
    }
   ],
   "source": [
    "seq=np.arange(24)\n",
    "mat=seq.reshape(2,4,3)\n",
    "print(mat,mat.shape)"
   ]
  },
  {
   "cell_type": "code",
   "execution_count": 137,
   "metadata": {},
   "outputs": [
    {
     "name": "stdout",
     "output_type": "stream",
     "text": [
      "[[12 13 14]\n",
      " [15 16 17]\n",
      " [18 19 20]\n",
      " [21 22 23]]\n"
     ]
    }
   ],
   "source": [
    "print(mat[1])"
   ]
  },
  {
   "cell_type": "code",
   "execution_count": 145,
   "metadata": {},
   "outputs": [
    {
     "name": "stdout",
     "output_type": "stream",
     "text": [
      "[[2. 2. 2. 2.]\n",
      " [2. 2. 2. 2.]\n",
      " [2. 2. 2. 2.]\n",
      " [2. 2. 2. 2.]] \n",
      " (4, 4) \n",
      " 2\n"
     ]
    }
   ],
   "source": [
    "a=np.ones((4,4))\n",
    "b=np.ones((4,4))\n",
    "c=a+b\n",
    "print(c,\"\\n\",c.shape,\"\\n\",c.ndim)\n"
   ]
  },
  {
   "cell_type": "code",
   "execution_count": 152,
   "metadata": {},
   "outputs": [
    {
     "name": "stdout",
     "output_type": "stream",
     "text": [
      "[[0 0 0 0]\n",
      " [0 0 0 0]\n",
      " [0 0 0 0]\n",
      " [0 0 0 0]] [[1 1 1 1]\n",
      " [1 1 1 1]\n",
      " [1 1 1 1]\n",
      " [1 1 1 1]] [[1 1 1 1]\n",
      " [1 1 1 1]\n",
      " [1 1 1 1]\n",
      " [1 1 1 1]]\n"
     ]
    }
   ],
   "source": [
    "a=np.zeros((4,4),int)\n",
    "b=np.ones((4,4),int)\n",
    "print(a,b,a+b)\n"
   ]
  },
  {
   "cell_type": "code",
   "execution_count": 158,
   "metadata": {},
   "outputs": [
    {
     "name": "stdout",
     "output_type": "stream",
     "text": [
      "[[[ 0  1  2]\n",
      "  [ 3  4  5]\n",
      "  [ 6  7  8]\n",
      "  [ 9 10 11]\n",
      "  [12 13 14]\n",
      "  [15 16 17]\n",
      "  [18 19 20]\n",
      "  [21 22 23]]]\n"
     ]
    }
   ],
   "source": [
    "seq=np.arange(24)\n",
    "mat=seq.reshape(1,8,3)\n",
    "print(mat)"
   ]
  },
  {
   "cell_type": "code",
   "execution_count": 10,
   "metadata": {},
   "outputs": [
    {
     "name": "stdout",
     "output_type": "stream",
     "text": [
      "[[[0.66465693 0.86142669 0.87015968 0.75643308]\n",
      "  [0.28917979 0.65971924 0.15884606 0.50216498]\n",
      "  [0.75024771 0.07940311 0.88861079 0.78328317]]] [[[0.38990914 0.11253924 0.1260363  0.37726845]\n",
      "  [0.20155381 0.02519934 0.1736306  0.51683082]\n",
      "  [0.49019239 0.03991177 0.78444038 0.53537196]]\n",
      "\n",
      " [[0.3775012  0.93835179 0.95874545 0.36733341]\n",
      "  [0.7649889  0.28576272 0.88026356 0.85351249]\n",
      "  [0.55142669 0.98239322 0.78968668 0.7182015 ]]\n",
      "\n",
      " [[0.70410922 0.93943548 0.1309063  0.90868865]\n",
      "  [0.93873678 0.48289341 0.65611907 0.03528715]\n",
      "  [0.41972101 0.44630801 0.15726966 0.20770319]]]\n"
     ]
    }
   ],
   "source": [
    "x= np.random.random((1,3,4))\n",
    "y= np.random.random((3,3,4))\n",
    "print(x,y)"
   ]
  },
  {
   "cell_type": "code",
   "execution_count": 168,
   "metadata": {},
   "outputs": [
    {
     "data": {
      "text/plain": [
       "array([[[0.44474066, 0.76551431, 0.523264  , 0.20670195, 0.76991022],\n",
       "        [0.91638898, 0.95018653, 0.04436662, 0.92712218, 0.24751445],\n",
       "        [0.88154332, 0.71087642, 0.13046678, 0.6615967 , 0.35661638],\n",
       "        [0.00594319, 0.86147936, 0.89591698, 0.9035984 , 0.00697586],\n",
       "        [0.9702367 , 0.34349855, 0.99633985, 0.67481896, 0.59359606]]])"
      ]
     },
     "execution_count": 168,
     "metadata": {},
     "output_type": "execute_result"
    }
   ],
   "source": [
    "z=np.random.random((1,5,5))\n",
    "z\n",
    "\n"
   ]
  },
  {
   "cell_type": "code",
   "execution_count": 12,
   "metadata": {},
   "outputs": [
    {
     "name": "stdout",
     "output_type": "stream",
     "text": [
      "[3 7 3 4 6 7 6 3 5]\n",
      "[[3 7 3]\n",
      " [4 6 7]\n",
      " [6 3 5]]\n"
     ]
    }
   ],
   "source": [
    "a=np.random.randint(3,10,9)\n",
    "print(a)\n",
    "b=a.reshape(3,3)\n",
    "print(b)"
   ]
  },
  {
   "cell_type": "code",
   "execution_count": 13,
   "metadata": {},
   "outputs": [
    {
     "name": "stdout",
     "output_type": "stream",
     "text": [
      "[[ 67  52 152]\n",
      " [136  81 178]\n",
      " [ 70  70 121]]\n",
      "[[ 67  52 152]\n",
      " [136  81 178]\n",
      " [ 70  70 121]]\n"
     ]
    }
   ],
   "source": [
    "x=np.random.randint(1,100,9).reshape(3,3)\n",
    "y=np.random.randint(1,100,9).reshape(3,3)\n",
    "print(np.add(x,y))\n",
    "print(x+y)"
   ]
  },
  {
   "cell_type": "code",
   "execution_count": 14,
   "metadata": {},
   "outputs": [
    {
     "name": "stdout",
     "output_type": "stream",
     "text": [
      "[[2 3]\n",
      " [4 5]] \n",
      " [[5 6]\n",
      " [7 8]] \n",
      " [[31 36]\n",
      " [55 64]]\n"
     ]
    }
   ],
   "source": [
    "x=np.arange(2,6).reshape(2,2)\n",
    "y=np.arange(5,9).reshape(2,2)\n",
    "print(x,\"\\n\",y,\"\\n\",np.dot(x,y))"
   ]
  },
  {
   "cell_type": "code",
   "execution_count": 15,
   "metadata": {},
   "outputs": [
    {
     "name": "stdout",
     "output_type": "stream",
     "text": [
      "[[0 1]\n",
      " [2 3]\n",
      " [4 5]] \n",
      " [[0 1 2]\n",
      " [3 4 5]]\n",
      "\n",
      "\n",
      "[[ 3  4  5]\n",
      " [ 9 14 19]\n",
      " [15 24 33]]\n",
      "\n",
      "\n",
      "[[ 0  2]\n",
      " [ 4  6]\n",
      " [ 8 10]]\n",
      "\n",
      "\n",
      "[[0 2 4]\n",
      " [1 3 5]]\n"
     ]
    }
   ],
   "source": [
    "x=np.arange(6).reshape(3,2)\n",
    "y=np.arange(6).reshape(2,3)\n",
    "print(x,\"\\n\",y)\n",
    "print(\"\\n\")\n",
    "print(np.dot(x,y))\n",
    "print(\"\\n\")\n",
    "print(np.multiply(x,2))\n",
    "print(\"\\n\")\n",
    "\n",
    "print(np.transpose(x))\n"
   ]
  },
  {
   "cell_type": "code",
   "execution_count": 16,
   "metadata": {},
   "outputs": [
    {
     "name": "stdout",
     "output_type": "stream",
     "text": [
      "min=  3\n",
      "max=  7\n",
      "mean=  4.888888888888889\n",
      "median=  5.0\n",
      "std=  1.5947444549341472\n",
      "var=  2.54320987654321\n",
      "sum=  44\n"
     ]
    }
   ],
   "source": [
    "x=np.arange(15)\n",
    "print(\"min= \",np.min(a))\n",
    "print(\"max= \",np.max(a))\n",
    "print(\"mean= \",a.mean())\n",
    "print(\"median= \",np.median(a))\n",
    "print(\"std= \",np.std(a))\n",
    "print(\"var= \",np.var(a))\n",
    "print(\"sum= \",np.sum(a))\n"
   ]
  },
  {
   "cell_type": "code",
   "execution_count": 17,
   "metadata": {},
   "outputs": [
    {
     "name": "stdout",
     "output_type": "stream",
     "text": [
      "[[0 1]\n",
      " [2 3]\n",
      " [4 5]] \n",
      " [[0 1 2]\n",
      " [3 4 5]]\n",
      "\n",
      "\n",
      "[[ 3  4  5]\n",
      " [ 9 14 19]\n",
      " [15 24 33]]\n",
      "\n",
      "\n",
      "[[ 3  4  5]\n",
      " [ 9 14 19]\n",
      " [15 24 33]]\n"
     ]
    }
   ],
   "source": [
    "x=np.arange(6).reshape(3,2)\n",
    "y=np.arange(6).reshape(2,3)\n",
    "print(x,\"\\n\",y)\n",
    "print(\"\\n\")\n",
    "print(np.dot(x,y))\n",
    "print(\"\\n\")\n",
    "print(np.matmul(x,y))"
   ]
  },
  {
   "cell_type": "code",
   "execution_count": 18,
   "metadata": {},
   "outputs": [],
   "source": [
    "x=np.arange(6).reshape(3,2)\n",
    "y=np.arange(6).reshape(2,3)"
   ]
  },
  {
   "cell_type": "code",
   "execution_count": 233,
   "metadata": {},
   "outputs": [
    {
     "name": "stdout",
     "output_type": "stream",
     "text": [
      "[b'small' b'bhanu' b'bhanu' b'bhanu' b'bhanu']\n"
     ]
    }
   ],
   "source": [
    "student = np.dtype([('name','S30'),('age','i8'),('marks','f8')])\n",
    "a=np.array([('small',23,23),('bhanu',23,23),('bhanu',23,23),('bhanu',23,23),('bhanu',23,23)],dtype=student)\n",
    "print(a['name'])"
   ]
  },
  {
   "cell_type": "code",
   "execution_count": 15,
   "metadata": {},
   "outputs": [
    {
     "name": "stdout",
     "output_type": "stream",
     "text": [
      "[2300. 2390. 2870. 2090.]\n",
      "[b'bhanu' b'shrav' b'venu' b'bhanu']\n"
     ]
    }
   ],
   "source": [
    "dtype1 = np.dtype([('empid','i8'),('name','S30'),('dept','S30'),('sal','f8')])\n",
    "a=np.array([('5676','bhanu','eng',2300),('5678','shrav','soc',2390),('5676','venu','math',2870),('5678','bhanu','uig',2090)],dtype=dtype1)\n",
    "print(a['sal'])\n",
    "print(a['name'])"
   ]
  },
  {
   "cell_type": "code",
   "execution_count": 16,
   "metadata": {},
   "outputs": [
    {
     "name": "stdout",
     "output_type": "stream",
     "text": [
      "x:  \n",
      " [[0 1]\n",
      " [2 3]\n",
      " [4 5]] \n",
      "\n",
      "y:  \n",
      " [[0 1]\n",
      " [2 3]\n",
      " [4 5]] \n",
      "\n",
      "[0 1 2 3 4 5] \n",
      "\n",
      "[[0 1 0 1]\n",
      " [2 3 2 3]\n",
      " [4 5 4 5]] \n",
      "\n",
      "[[0 1]\n",
      " [2 3]\n",
      " [4 5]\n",
      " [0 1]\n",
      " [2 3]\n",
      " [4 5]] \n",
      "\n"
     ]
    }
   ],
   "source": [
    "x=np.arange(6).reshape(3,2)\n",
    "y=np.arange(6).reshape(3,2)\n",
    "print(\"x:  \\n\",x,\"\\n\")\n",
    "print(\"y:  \\n\",y,\"\\n\")\n",
    "print(x.flatten(),\"\\n\")\n",
    "print(np.hstack((x,y)),\"\\n\")\n",
    "print(np.vstack((x,y)),\"\\n\")"
   ]
  },
  {
   "cell_type": "code",
   "execution_count": 18,
   "metadata": {},
   "outputs": [
    {
     "data": {
      "text/plain": [
       "array([[26,  5, 82, 68],\n",
       "       [70, 17, 26, 91],\n",
       "       [35, 34, 74,  2],\n",
       "       [91, 68, 17, 37]])"
      ]
     },
     "execution_count": 18,
     "metadata": {},
     "output_type": "execute_result"
    }
   ],
   "source": [
    "x=np.random.randint(1,100,16).reshape(4,4)\n",
    "x"
   ]
  },
  {
   "cell_type": "code",
   "execution_count": 20,
   "metadata": {},
   "outputs": [
    {
     "name": "stdout",
     "output_type": "stream",
     "text": [
      "A [[26  5]\n",
      " [70 17]] \n",
      "\n",
      "\n",
      " B [[82 68]\n",
      " [26 91]] \n",
      "\n",
      "\n",
      " C [[35 34]\n",
      " [91 68]] \n",
      "\n",
      "\n",
      " D [[74  2]\n",
      " [17 37]]\n"
     ]
    }
   ],
   "source": [
    "x[1:3,1:3]\n",
    "a=x[0:2,0:2]\n",
    "b=x[0:2,2:4]\n",
    "c=x[2:4,0:2]\n",
    "d=x[2:4,2:4]\n",
    "print('A',a,\"\\n\\n\\n\",'B',b,\"\\n\\n\\n\",'C',c,\"\\n\\n\\n\",'D',d)"
   ]
  },
  {
   "cell_type": "code",
   "execution_count": 15,
   "metadata": {},
   "outputs": [
    {
     "name": "stdout",
     "output_type": "stream",
     "text": [
      "median=  5.5\n"
     ]
    }
   ],
   "source": [
    "def median(b):\n",
    "\n",
    "\n",
    "    #b.sort()\n",
    "    l=len(b)\n",
    "    if(l%2==0):\n",
    "        print(\"median= \",(b[(l//2)]+b[(l//2)+1])/2)\n",
    "    else:\n",
    "        print(\"median=n \",b[(l//2)+1])\n",
    "\n",
    "\n",
    "\n",
    "b=[2,3,4,5,6,7,8]\n",
    "median(b)\n",
    "            "
   ]
  },
  {
   "cell_type": "code",
   "execution_count": 10,
   "metadata": {},
   "outputs": [
    {
     "name": "stdout",
     "output_type": "stream",
     "text": [
      "a is : 20\n",
      "b is : 10\n",
      "a is : 20\n",
      "b is : 10\n"
     ]
    }
   ],
   "source": [
    "def swap():\n",
    "    global a\n",
    "    global b\n",
    "    \n",
    "    a,b=10,20\n",
    "    a,b=b,a\n",
    "    print(\"a is :\",a)\n",
    "    print(\"b is :\",b)\n",
    "    \n",
    "swap()\n",
    "print(\"a is :\",a)\n",
    "print(\"b is :\",b)"
   ]
  },
  {
   "cell_type": "code",
   "execution_count": 15,
   "metadata": {},
   "outputs": [
    {
     "name": "stdout",
     "output_type": "stream",
     "text": [
      "chicken=  23 rabbit:  12\n"
     ]
    }
   ],
   "source": [
    "for c in range(1,36):\n",
    "    for r in range(1,35):\n",
    "        if (((2*c)+(r*4)) == 94) and (c+r == 35):\n",
    "            print(\"chicken= \", c,\"rabbit: \",r)\n",
    "        "
   ]
  },
  {
   "cell_type": "code",
   "execution_count": 1,
   "metadata": {},
   "outputs": [],
   "source": [
    "import re"
   ]
  },
  {
   "cell_type": "code",
   "execution_count": 6,
   "metadata": {},
   "outputs": [
    {
     "name": "stdout",
     "output_type": "stream",
     "text": [
      "123.123\n",
      "123\n",
      "123\n"
     ]
    }
   ],
   "source": [
    "regex_pattern = r\"\\.\"\n",
    "print(\"\\n\".join(re.split(regex_pattern, input())))"
   ]
  },
  {
   "cell_type": "code",
   "execution_count": 12,
   "metadata": {},
   "outputs": [
    {
     "data": {
      "text/plain": [
       "[('username', 'hackerrank', 'com'), ('username', 'hackerrank', 'com')]"
      ]
     },
     "execution_count": 12,
     "metadata": {},
     "output_type": "execute_result"
    }
   ],
   "source": [
    "m=re.findall(r'(\\w+)@(\\w+)\\.(\\w+)','username@hackerrank.com bdbduwbd username@hackerrank.com')\n",
    "\n",
    "\n",
    "m       # The entire match \n"
   ]
  },
  {
   "cell_type": "code",
   "execution_count": null,
   "metadata": {},
   "outputs": [],
   "source": [
    "def cma_generatorr(low, high):\n",
    "    while low <= high:\n",
    "       yield low\n",
    "       low += 1\n",
    "\n",
    "in_list = [1,2,3,4]\n",
    "out_list = []\n",
    "for num in cmap_generator(in_list):\n",
    "    out_list.append(num)\n",
    "\n",
    "print(out_list)"
   ]
  },
  {
   "cell_type": "code",
   "execution_count": 20,
   "metadata": {},
   "outputs": [
    {
     "name": "stdout",
     "output_type": "stream",
     "text": [
      "[2, 8, 18, 32]\n"
     ]
    }
   ],
   "source": [
    "func1 = lambda x:x*x\n",
    "func2 = lambda x:x+x\n",
    "arr1 = [1,2,3,4]\n",
    "func3 = map(func2,(map(func1,arr1)))\n",
    "print(list(func3))"
   ]
  },
  {
   "cell_type": "code",
   "execution_count": 32,
   "metadata": {},
   "outputs": [
    {
     "name": "stdout",
     "output_type": "stream",
     "text": [
      "[2, 8, 18, 32]\n"
     ]
    }
   ],
   "source": [
    "func1 = lambda x:x*x\n",
    "func2 = lambda x:x+x\n",
    "funcs = [func1,func2]\n",
    "arr1 = [1,2,3,4]\n",
    "def apply(f, a):\n",
    "    return map(f,a)\n",
    "res = arr1\n",
    "for i in funcs:\n",
    "    res = list(apply(i,res))\n",
    "    \n",
    "print(res)"
   ]
  },
  {
   "cell_type": "code",
   "execution_count": 76,
   "metadata": {},
   "outputs": [],
   "source": [
    "def func123(funcs,arr1):\n",
    "    res = arr1\n",
    "    for i in funcs:\n",
    "        temp_func=map(i,res)\n",
    "        res = list(temp_func)\n",
    "\n",
    "    yield iter(res)"
   ]
  },
  {
   "cell_type": "code",
   "execution_count": 78,
   "metadata": {},
   "outputs": [
    {
     "name": "stdout",
     "output_type": "stream",
     "text": [
      "<list_iterator object at 0x000002AC08AECEB8>\n"
     ]
    }
   ],
   "source": [
    "func1 = lambda x:x*x\n",
    "func2 = lambda x:x+x\n",
    "funcs = [func1,func2]\n",
    "arr1 = [1,2,3,4]\n",
    "for i in func123(funcs,arr1):\n",
    "    print(str(i))\n",
    "    "
   ]
  },
  {
   "cell_type": "code",
   "execution_count": 80,
   "metadata": {},
   "outputs": [
    {
     "data": {
      "text/plain": [
       "1"
      ]
     },
     "execution_count": 80,
     "metadata": {},
     "output_type": "execute_result"
    }
   ],
   "source": [
    "#pool= '80123455678981234567899'\n",
    "pool= '8888885555555555558555'\n",
    "\n",
    "x=len(re.findall(r\"8+\\d{10}\", pool))\n",
    "y=len(re.findall(r\"\\d{10}8\", pool))\n",
    "y"
   ]
  },
  {
   "cell_type": "code",
   "execution_count": 134,
   "metadata": {},
   "outputs": [],
   "source": [
    "#Reading the data\n",
    "import pandas as pd\n",
    "train = pd.read_csv('https://s3.amazonaws.com/istreet-questions-us-east-1/417582/train.csv',header=None)\n",
    "test = pd.read_csv('https://s3.amazonaws.com/istreet-questions-us-east-1/417582/test.csv',header=None)\n",
    "#train data\n",
    "X_train = train.iloc[:,:-1]\n",
    "y_train = train.iloc[:,-1]\n",
    "#test data\n",
    "X_test = test\n",
    "\n",
    "#Linear Regression Model\n",
    "from sklearn import linear_model\n",
    "lm=linear_model.LinearRegression()\n",
    "lm.fit(X_train,y_train)\n",
    "predictions = lm.predict(X_test)\n",
    "\n",
    "\n",
    "#save the predictions\n",
    "import numpy as np\n",
    "np.savetxt('pred.csv', predictions)"
   ]
  },
  {
   "cell_type": "code",
   "execution_count": 133,
   "metadata": {},
   "outputs": [],
   "source": []
  },
  {
   "cell_type": "code",
   "execution_count": 135,
   "metadata": {},
   "outputs": [
    {
     "name": "stdout",
     "output_type": "stream",
     "text": [
      "R square is 0.998\n"
     ]
    }
   ],
   "source": [
    "print('R square is %1.3f' %lm.score(X_train,y_train))"
   ]
  },
  {
   "cell_type": "code",
   "execution_count": 143,
   "metadata": {},
   "outputs": [],
   "source": [
    "corr_matrix = train.corr()\n",
    "count=0\n",
    "for i in range(len(corr_matrix.columns)):\n",
    "    for j in range(i):\n",
    "        if (abs(corr_matrix.iloc[i, j] )<= 0.1):\n",
    "            colname1 = corr_matrix.columns[i] # getting the name of column\n",
    "            colname2 = corr_matrix.index[j] # getting the name of column\n",
    "            if(colname1 == 501):\n",
    "                print(colname1,colname2)\n",
    "                print(corr_matrix.iloc[i, j])\n",
    "            \n",
    "#print(corr_matrix)"
   ]
  },
  {
   "cell_type": "code",
   "execution_count": 141,
   "metadata": {},
   "outputs": [
    {
     "data": {
      "text/plain": [
       "(4000, 501)"
      ]
     },
     "execution_count": 141,
     "metadata": {},
     "output_type": "execute_result"
    }
   ],
   "source": [
    "train.shape"
   ]
  },
  {
   "cell_type": "code",
   "execution_count": 155,
   "metadata": {},
   "outputs": [],
   "source": [
    "from statsmodels.stats.outliers_influence import variance_inflation_factor\n",
    "\n",
    "def calculate_vif(x):\n",
    "    thresh = 5.0\n",
    "    output = pd.DataFrame()\n",
    "    k = x.shape[1]\n",
    "    vif = [variance_inflation_factor(x.values, j) for j in range(x.shape[1])]\n",
    "    for i in range(1,k):\n",
    "        print(\"Iteration no.:\",i)\n",
    "        print(vif)\n",
    "        a = np.argmax(vif)\n",
    "        print(\"Max VIF is for variable no.:\",x.columns[a],a)\n",
    "        if vif[a] <= thresh :\n",
    "            break\n",
    "        if i == 1 :          \n",
    "            output = x.drop(x.columns[a], axis = 1)\n",
    "            vif = [variance_inflation_factor(output.values, j) for j in range(output.shape[1])]\n",
    "        elif i > 1 :\n",
    "            output = output.drop(output.columns[a],axis = 1)\n",
    "            vif = [variance_inflation_factor(output.values, j) for j in range(output.shape[1])]\n",
    "    return(output)"
   ]
  },
  {
   "cell_type": "code",
   "execution_count": 156,
   "metadata": {},
   "outputs": [
    {
     "name": "stdout",
     "output_type": "stream",
     "text": [
      "Iteration no.: 1\n",
      "[1576.7267489680512, 821.9405257097352, 119.90106124501848, 2643.9193340906954, 256.35044481041933, 190.13647893645893, 135.3606316849863, 318.05974456542964, 1088.1394369186617, 1808.7974956417831, 196.1897913079752, 409.1643985599483, 198.3555893939611, 658.4103968048295, 157.78002643399017, 226.1855052654198, 146.70748314481287, 184.6365788958778, 138.9997840646872, 205.9297656276518, 459.5351523948104, 65.45059064710046, 195.76491308721427, 280.16447485963624, 284.6823533386804, 532.9230405633579, 914.1227614151676, 527.4404819887919, 526.6928186734219, 92.24699830855363, 84.52056148060285, 1914.9331715929075, 1649.3532693674192, 493.4204517101413, 182.2446770944557, 156.36147825549492, 138.1921717321095, 47.50135373836922, 169.43237107714887, 891.0155813469725, 214.08652473443257, 902.3886441468501, 2926.549755924887, 521.9801561861224, 661.8760211508268, 101.07484444054857, 2463.233776727364, 182.17537884157167, 4652.183331568561, 3602.904720399041, 177.37347916049077, 1120.5920950766272, 1151.4687946459458, 526.6336504687919, 210.2698873814933, 775.523462300926, 1885.2070770072999, 76.26392281396511, 70.779301754504, 74.09967296351114, 197.49487716529794, 712.7325381554838, 54352512.96208754, 736.5169646333599, 460.8709305388883, 48.3961628502814, 318.9649850341189, 207.5218894480339, 206.00967355719126, 263.13823788530703, 657.1037380835539, 360.16029739806504, 198.68814408365495, 309.975762057575, 510.4751147747689, 317.74707275532586, 242.86465985321024, 1664.6679035876307, 643.4688582948221, 111.96147235622118, 259.956513557939, 250.94807450378295, 979.9053074477198, 236.45971369454702, 1583.8281048287754, 133.2641888581406, 497.28271091026164, 100.16508072262425, 158.7113671441726, 1206.0795292830949, 1173.1357161229841, 108.20595513028879, 499.2152372812273, 170.11994628958777, 2615.3092331494886, 485.383552786241, 507.595419705261, 524.0381164964984, 212.03283791329807, 851.0458665502733, 291.51048927011703, 347.9882526709168, 130.14634210318263, 1104.4058120725258, 581.4910420927223, 152.71057496710694, 130.68553985390497, 929.644512361075, 2312.045849916467, 1299.8322826740223, 101.78009380623386, 737.3662385555319, 123.30541482570592, 150.4935719906919, 373.61318125431865, 181.38164964812898, 351.71875197575383, 850.2407616167222, 447.6972558286644, 179.49933996278426, 539.2195030908775, 126.32533625615399, 2275.6196282914757, 174.0485700512594, 211.08548177949632, 504.3931067275655, 434.8864169708171, 534.6647909772254, 560.7697745415892, 463.9699640424581, 962.4242439322778, 268.66612852796186, 441.6303170100317, 160.78795835187358, 106.34967046663363, 198.5074215275191, 113.18123115515657, 1653.9773463946844, 205.21875714687866, 237.34392187316038, 254.40292925196542, 185.167107374939, 887.6567441662808, 259.3424205442687, 113.55306778952038, 318.83665132267316, 80.83156131243923, 367.4185491854567, 368.6737204000315, 161.43793059112724, 110.83817429470707, 293.63641943275974, 683.7009172110447, 625.5937793041983, 147.1759452267198, 469.4149041680404, 676.8368867467215, 191.65706461145126, 448.7374259360619, 267.8730871035441, 392.0820457335807, 1799.6061337797235, 1032.5823333724982, 183.9032142200735, 292.59716144918895, 1184.217340070143, 260.10794650078003, 3117.517586606272, 71.91021111640765, 42.23867831718597, 85.50163455597931, 645.5381268270069, 95.25591697588749, 529.0539653434881, 499.18873539883043, 157.13058869811516, 473.85648249008204, 354.84187229241275, 825.1794938279916, 58.64008681875282, 608.8986814802962, 424.3912575756564, 879.3180353543232, 112.47613400204987, 725.8350209615593, 1140.4631596861402, 210.22411614518958, 347.0605522759593, 922.5266498935714, 667.5922142020086, 365.08960926928256, 699.4412196370547, 1158.7146890201466, 174.77622285695162, 524.9296742671256, 128.32019059182127, 223.9235678365014, 202.18674548995014, 964.8912569526739, 261.3226216286838, 665.8182512527607, 832.8508020604879, 164.21863624074678, 304.65284518755345, 1615.696066093603, 349.8343583734787, 350.34097316463914, 432.18873816287635, 125.80654956248475, 330.1020481465846, 476.9169353427392, 139.84882332301405, 324.50181464741047, 122.75412700136397, 5412.661812555541, 293.15048281071205, 1492.3172834129764, 389.9653013159645, 179.9882126125002, 520.7256423814468, 2763.6661203404597, 253.42277526483076, 1126.5847314197447, 194.10391450274295, 88.02669936647997, 423.98328434069543, 218.39623508910836, 143.5499930559338, 635.6226346977334, 1116.9713178663624, 475.59064038392245, 3149.368114303279, 328.78542311494465, 238.69585408405078, 774.3370167964923, 569.676198973018, 175.59100611147815, 898.7991122528396, 197.76946281238315, 88.91886573640943, 666.7494460261548, 149.6832581557054, 247.30441684525226, 228.25969209807596, 640.3771681389568, 1330.0800218549039, 588.1844588163106, 815.4888975154141, 485.349099902728, 967.3431293300375, 244.52446448720585, 429.270067821203, 464.5741488734865, 137.50222061978943, 165.5033565435338, 161.6078714679855, 928.2106708926851, 131.0780146113826, 454.8585862430977, 729.8344180944802, 3300.238432080857, 142.22250394272234, 300.8640550753157, 149.56508655478163, 976.7222038838827, 488.57708356754523, 712.7842504782203, 392.43718129960496, 728.3611572553635, 92.95518778258604, 133.83194213946842, 372.3308194957195, 252.99533817184133, 1041.7010045442844, 237.52321682305347, 172.7896974357457, 100.16226780880633, 361.5981801864643, 660.3327354645381, 595.8110544298927, 579.6618588564153, 573.5939815390449, 400.92082995649764, 383.30001556254985, 1346.849905548339, 708.1715881139659, 248.36168856858544, 1269.440847774937, 75.17902053629436, 182.61299463441395, 370.30737775551563, 385.84775725044005, 249.4501740732279, 558.3624745351376, 122.0436108722115, 156.8657152382781, 65.80463194410234, 51.88034413090832, 142.12359796229248, 118.2481890054248, 842.3009726922317, 611.966238439725, 73.30326704308386, 473.3404759811575, 247.1352154939026, 499.12730742373316, 136.7180051502528, 112.16705912984187, 236.24531462919765, 228.704536333845, 165.1451105075359, 716.7119306809146, 242.81407993700358, 202.35059282522823, 1103.595517191148, 591.9334346248849, 142.26746531459358, 918.4231789775123, 616.8520433576062, 355.16445296761975, 167.64538648700977, 99.62432090545691, 374.85870808450613, 223.41535283123415, 199.64211455739002, 915.4710964257087, 565.3076282167935, 688.1390410058667, 983.0535434339167, 180.21389656342063, 486.2352274909689, 281.71260391556024, 327.79571229483884, 569.0853746647309, 153.45171628540928, 1023.4083686557324, 208.55534076578974, 223.46334306288136, 698.9073049091388, 601.3549614364983, 5334.726031698788, 1172.9673245130834, 327.2342152338928, 212.50075659628442, 171.93619394689645, 408.3609215616164, 208.80360325694733, 374.75481200833553, 344.4720870275556, 310.34917046850103, 207.60265018546608, 731.739240428239, 73.77229920655166, 535.2435815163411, 502.5037596156851, 484.78687466951385, 238.2547278232321, 123.37002234372808, 167.3481282454398, 583.8016584835685, 1145.6336470860208, 197.4348435762926, 625.4054916744337, 604.1015846905169, 1295.0918873313428, 640.794628831913, 766.8260244660539, 312.33413709349196, 626.420573022428, 540.3247338549592, 218.93534933333035, 320.49352810513454, 161.9159920261531, 276.2370179631312, 379.92566399520217, 512.8446309271955, 1446.7238827863537, 137.6885859280195, 766.6103804415502, 927.1730677592941, 93.59153008659545, 1088.742017648861, 533.4527006139887, 196.91319913700187, 238.36710322693455, 501.1347853610739, 434.5081420587019, 1243.3200499955044, 789.4674795753806, 297.99107975585355, 432.282446824899, 332.15519209427544, 111.18800168903593, 1323.917417692419, 379.62191607402696, 208.38400337986536, 1873.5087059333757, 289.8766590677219, 388.3413289206437, 237.50033936813676, 742.0376572152994, 133.8130336670001, 566.4982323463689, 320.6696696057258, 1177.514162869217, 845.8873892777937, 537.9100886097776, 418.96205692449206, 891.6228483015153, 196.7991722571076, 727.4853050113112, 939.1769458689421, 1150.7841215970639, 368.8300158306417, 1679.976869970815, 769.4243458012602, 240.4398455012142, 1322.5915621608822, 1028.0865443262062, 341.4960961855221, 1081.173497962304, 235.25011369183267, 857.1269908421658, 154.19882153104726, 206.25874112795847, 239.09537118249685, 2387.2372872302863, 205.80019424995325, 170.55561404227598, 137.31842343810607, 1034.7160459789463, 451.23582816221995, 205.38824808225718, 244.47801821386537, 383.36043726269384, 458.251329618133, 174.7152759667591, 244.23493735918984, 1548.7557254150838, 506.8785768454434, 1214.120393659618, 149.13295885035274, 670.7717270901704, 200.9001860635017, 190.77388072372318, 1489.5290375357786, 115.3045823782591, 1206.210906350325, 367.386318152956, 231.87184144469992, 672.4964501768108, 477.43780182196656, 665.4911249803056, 178.61640423553746, 129.21956724461154, 672.9091279572441, 314.04662248608713, 204.7574193395198, 100.99867566010185, 327.0761280512846, 949.5288602946433, 625.0928030887112, 195.3213855952262, 242.62502486888556, 268.7555941822235, 146.21782764662908, 1270.1604032709686, 506.6549829726094, 1015.5011764442629, 404.75686113822877, 1251.836688263573, 374.6056530280297, 186.42454581984072, 381.44210966378864, 308.7978557308595, 243.10502572794653, 429.3534523515548, 173.083615328125, 365.66260594459624, 341.77615571758895, 105.32514730885357, 391.81531782746015, 2476.6483698765987, 162.3533776472742, 620.073600018806, 264.7808016268519, 666.6796479974486, 970.091363154311, 331.5673771396993, 461.49750596853966, 1078.4432314393664, 337.2108946791464, 1190.3761848238082, 560.0030034038272, 722.9353866865056, 228.9686095784826, 830.9628375605907, 243.54711837056254, 208.89559384822098, 166.90436966804097, 436.79651280807315]\n",
      "Max VIF is for variable no.: 62 62\n"
     ]
    },
    {
     "ename": "KeyboardInterrupt",
     "evalue": "",
     "output_type": "error",
     "traceback": [
      "\u001b[1;31m---------------------------------------------------------------------------\u001b[0m",
      "\u001b[1;31mKeyboardInterrupt\u001b[0m                         Traceback (most recent call last)",
      "\u001b[1;32m<ipython-input-156-d8fe7c895905>\u001b[0m in \u001b[0;36m<module>\u001b[1;34m\u001b[0m\n\u001b[1;32m----> 1\u001b[1;33m \u001b[0mdf_out\u001b[0m \u001b[1;33m=\u001b[0m \u001b[0mcalculate_vif\u001b[0m\u001b[1;33m(\u001b[0m\u001b[0mtrain\u001b[0m\u001b[1;33m)\u001b[0m\u001b[1;33m\u001b[0m\u001b[1;33m\u001b[0m\u001b[0m\n\u001b[0m",
      "\u001b[1;32m<ipython-input-155-6f1c22f662d7>\u001b[0m in \u001b[0;36mcalculate_vif\u001b[1;34m(x)\u001b[0m\n\u001b[0;32m     15\u001b[0m         \u001b[1;32mif\u001b[0m \u001b[0mi\u001b[0m \u001b[1;33m==\u001b[0m \u001b[1;36m1\u001b[0m \u001b[1;33m:\u001b[0m\u001b[1;33m\u001b[0m\u001b[1;33m\u001b[0m\u001b[0m\n\u001b[0;32m     16\u001b[0m             \u001b[0moutput\u001b[0m \u001b[1;33m=\u001b[0m \u001b[0mx\u001b[0m\u001b[1;33m.\u001b[0m\u001b[0mdrop\u001b[0m\u001b[1;33m(\u001b[0m\u001b[0mx\u001b[0m\u001b[1;33m.\u001b[0m\u001b[0mcolumns\u001b[0m\u001b[1;33m[\u001b[0m\u001b[0ma\u001b[0m\u001b[1;33m]\u001b[0m\u001b[1;33m,\u001b[0m \u001b[0maxis\u001b[0m \u001b[1;33m=\u001b[0m \u001b[1;36m1\u001b[0m\u001b[1;33m)\u001b[0m\u001b[1;33m\u001b[0m\u001b[1;33m\u001b[0m\u001b[0m\n\u001b[1;32m---> 17\u001b[1;33m             \u001b[0mvif\u001b[0m \u001b[1;33m=\u001b[0m \u001b[1;33m[\u001b[0m\u001b[0mvariance_inflation_factor\u001b[0m\u001b[1;33m(\u001b[0m\u001b[0moutput\u001b[0m\u001b[1;33m.\u001b[0m\u001b[0mvalues\u001b[0m\u001b[1;33m,\u001b[0m \u001b[0mj\u001b[0m\u001b[1;33m)\u001b[0m \u001b[1;32mfor\u001b[0m \u001b[0mj\u001b[0m \u001b[1;32min\u001b[0m \u001b[0mrange\u001b[0m\u001b[1;33m(\u001b[0m\u001b[0moutput\u001b[0m\u001b[1;33m.\u001b[0m\u001b[0mshape\u001b[0m\u001b[1;33m[\u001b[0m\u001b[1;36m1\u001b[0m\u001b[1;33m]\u001b[0m\u001b[1;33m)\u001b[0m\u001b[1;33m]\u001b[0m\u001b[1;33m\u001b[0m\u001b[1;33m\u001b[0m\u001b[0m\n\u001b[0m\u001b[0;32m     18\u001b[0m         \u001b[1;32melif\u001b[0m \u001b[0mi\u001b[0m \u001b[1;33m>\u001b[0m \u001b[1;36m1\u001b[0m \u001b[1;33m:\u001b[0m\u001b[1;33m\u001b[0m\u001b[1;33m\u001b[0m\u001b[0m\n\u001b[0;32m     19\u001b[0m             \u001b[0moutput\u001b[0m \u001b[1;33m=\u001b[0m \u001b[0moutput\u001b[0m\u001b[1;33m.\u001b[0m\u001b[0mdrop\u001b[0m\u001b[1;33m(\u001b[0m\u001b[0moutput\u001b[0m\u001b[1;33m.\u001b[0m\u001b[0mcolumns\u001b[0m\u001b[1;33m[\u001b[0m\u001b[0ma\u001b[0m\u001b[1;33m]\u001b[0m\u001b[1;33m,\u001b[0m\u001b[0maxis\u001b[0m \u001b[1;33m=\u001b[0m \u001b[1;36m1\u001b[0m\u001b[1;33m)\u001b[0m\u001b[1;33m\u001b[0m\u001b[1;33m\u001b[0m\u001b[0m\n",
      "\u001b[1;32m<ipython-input-155-6f1c22f662d7>\u001b[0m in \u001b[0;36m<listcomp>\u001b[1;34m(.0)\u001b[0m\n\u001b[0;32m     15\u001b[0m         \u001b[1;32mif\u001b[0m \u001b[0mi\u001b[0m \u001b[1;33m==\u001b[0m \u001b[1;36m1\u001b[0m \u001b[1;33m:\u001b[0m\u001b[1;33m\u001b[0m\u001b[1;33m\u001b[0m\u001b[0m\n\u001b[0;32m     16\u001b[0m             \u001b[0moutput\u001b[0m \u001b[1;33m=\u001b[0m \u001b[0mx\u001b[0m\u001b[1;33m.\u001b[0m\u001b[0mdrop\u001b[0m\u001b[1;33m(\u001b[0m\u001b[0mx\u001b[0m\u001b[1;33m.\u001b[0m\u001b[0mcolumns\u001b[0m\u001b[1;33m[\u001b[0m\u001b[0ma\u001b[0m\u001b[1;33m]\u001b[0m\u001b[1;33m,\u001b[0m \u001b[0maxis\u001b[0m \u001b[1;33m=\u001b[0m \u001b[1;36m1\u001b[0m\u001b[1;33m)\u001b[0m\u001b[1;33m\u001b[0m\u001b[1;33m\u001b[0m\u001b[0m\n\u001b[1;32m---> 17\u001b[1;33m             \u001b[0mvif\u001b[0m \u001b[1;33m=\u001b[0m \u001b[1;33m[\u001b[0m\u001b[0mvariance_inflation_factor\u001b[0m\u001b[1;33m(\u001b[0m\u001b[0moutput\u001b[0m\u001b[1;33m.\u001b[0m\u001b[0mvalues\u001b[0m\u001b[1;33m,\u001b[0m \u001b[0mj\u001b[0m\u001b[1;33m)\u001b[0m \u001b[1;32mfor\u001b[0m \u001b[0mj\u001b[0m \u001b[1;32min\u001b[0m \u001b[0mrange\u001b[0m\u001b[1;33m(\u001b[0m\u001b[0moutput\u001b[0m\u001b[1;33m.\u001b[0m\u001b[0mshape\u001b[0m\u001b[1;33m[\u001b[0m\u001b[1;36m1\u001b[0m\u001b[1;33m]\u001b[0m\u001b[1;33m)\u001b[0m\u001b[1;33m]\u001b[0m\u001b[1;33m\u001b[0m\u001b[1;33m\u001b[0m\u001b[0m\n\u001b[0m\u001b[0;32m     18\u001b[0m         \u001b[1;32melif\u001b[0m \u001b[0mi\u001b[0m \u001b[1;33m>\u001b[0m \u001b[1;36m1\u001b[0m \u001b[1;33m:\u001b[0m\u001b[1;33m\u001b[0m\u001b[1;33m\u001b[0m\u001b[0m\n\u001b[0;32m     19\u001b[0m             \u001b[0moutput\u001b[0m \u001b[1;33m=\u001b[0m \u001b[0moutput\u001b[0m\u001b[1;33m.\u001b[0m\u001b[0mdrop\u001b[0m\u001b[1;33m(\u001b[0m\u001b[0moutput\u001b[0m\u001b[1;33m.\u001b[0m\u001b[0mcolumns\u001b[0m\u001b[1;33m[\u001b[0m\u001b[0ma\u001b[0m\u001b[1;33m]\u001b[0m\u001b[1;33m,\u001b[0m\u001b[0maxis\u001b[0m \u001b[1;33m=\u001b[0m \u001b[1;36m1\u001b[0m\u001b[1;33m)\u001b[0m\u001b[1;33m\u001b[0m\u001b[1;33m\u001b[0m\u001b[0m\n",
      "\u001b[1;32m~\\Anaconda3\\lib\\site-packages\\statsmodels\\stats\\outliers_influence.py\u001b[0m in \u001b[0;36mvariance_inflation_factor\u001b[1;34m(exog, exog_idx)\u001b[0m\n\u001b[0;32m    178\u001b[0m     \u001b[0mmask\u001b[0m \u001b[1;33m=\u001b[0m \u001b[0mnp\u001b[0m\u001b[1;33m.\u001b[0m\u001b[0marange\u001b[0m\u001b[1;33m(\u001b[0m\u001b[0mk_vars\u001b[0m\u001b[1;33m)\u001b[0m \u001b[1;33m!=\u001b[0m \u001b[0mexog_idx\u001b[0m\u001b[1;33m\u001b[0m\u001b[1;33m\u001b[0m\u001b[0m\n\u001b[0;32m    179\u001b[0m     \u001b[0mx_noti\u001b[0m \u001b[1;33m=\u001b[0m \u001b[0mexog\u001b[0m\u001b[1;33m[\u001b[0m\u001b[1;33m:\u001b[0m\u001b[1;33m,\u001b[0m \u001b[0mmask\u001b[0m\u001b[1;33m]\u001b[0m\u001b[1;33m\u001b[0m\u001b[1;33m\u001b[0m\u001b[0m\n\u001b[1;32m--> 180\u001b[1;33m     \u001b[0mr_squared_i\u001b[0m \u001b[1;33m=\u001b[0m \u001b[0mOLS\u001b[0m\u001b[1;33m(\u001b[0m\u001b[0mx_i\u001b[0m\u001b[1;33m,\u001b[0m \u001b[0mx_noti\u001b[0m\u001b[1;33m)\u001b[0m\u001b[1;33m.\u001b[0m\u001b[0mfit\u001b[0m\u001b[1;33m(\u001b[0m\u001b[1;33m)\u001b[0m\u001b[1;33m.\u001b[0m\u001b[0mrsquared\u001b[0m\u001b[1;33m\u001b[0m\u001b[1;33m\u001b[0m\u001b[0m\n\u001b[0m\u001b[0;32m    181\u001b[0m     \u001b[0mvif\u001b[0m \u001b[1;33m=\u001b[0m \u001b[1;36m1.\u001b[0m \u001b[1;33m/\u001b[0m \u001b[1;33m(\u001b[0m\u001b[1;36m1.\u001b[0m \u001b[1;33m-\u001b[0m \u001b[0mr_squared_i\u001b[0m\u001b[1;33m)\u001b[0m\u001b[1;33m\u001b[0m\u001b[1;33m\u001b[0m\u001b[0m\n\u001b[0;32m    182\u001b[0m     \u001b[1;32mreturn\u001b[0m \u001b[0mvif\u001b[0m\u001b[1;33m\u001b[0m\u001b[1;33m\u001b[0m\u001b[0m\n",
      "\u001b[1;32m~\\Anaconda3\\lib\\site-packages\\statsmodels\\regression\\linear_model.py\u001b[0m in \u001b[0;36mfit\u001b[1;34m(self, method, cov_type, cov_kwds, use_t, **kwargs)\u001b[0m\n\u001b[0;32m    273\u001b[0m                 \u001b[0mself\u001b[0m\u001b[1;33m.\u001b[0m\u001b[0mpinv_wexog\u001b[0m\u001b[1;33m,\u001b[0m \u001b[0msingular_values\u001b[0m \u001b[1;33m=\u001b[0m \u001b[0mpinv_extended\u001b[0m\u001b[1;33m(\u001b[0m\u001b[0mself\u001b[0m\u001b[1;33m.\u001b[0m\u001b[0mwexog\u001b[0m\u001b[1;33m)\u001b[0m\u001b[1;33m\u001b[0m\u001b[1;33m\u001b[0m\u001b[0m\n\u001b[0;32m    274\u001b[0m                 self.normalized_cov_params = np.dot(\n\u001b[1;32m--> 275\u001b[1;33m                     self.pinv_wexog, np.transpose(self.pinv_wexog))\n\u001b[0m\u001b[0;32m    276\u001b[0m \u001b[1;33m\u001b[0m\u001b[0m\n\u001b[0;32m    277\u001b[0m                 \u001b[1;31m# Cache these singular values for use later.\u001b[0m\u001b[1;33m\u001b[0m\u001b[1;33m\u001b[0m\u001b[1;33m\u001b[0m\u001b[0m\n",
      "\u001b[1;31mKeyboardInterrupt\u001b[0m: "
     ]
    }
   ],
   "source": [
    "df_out = calculate_vif(train)"
   ]
  },
  {
   "cell_type": "code",
   "execution_count": null,
   "metadata": {},
   "outputs": [],
   "source": [
    "df_out.head(5)"
   ]
  },
  {
   "cell_type": "code",
   "execution_count": 149,
   "metadata": {},
   "outputs": [
    {
     "data": {
      "text/plain": [
       "(1000, 500)"
      ]
     },
     "execution_count": 149,
     "metadata": {},
     "output_type": "execute_result"
    }
   ],
   "source": [
    "test.shape"
   ]
  },
  {
   "cell_type": "code",
   "execution_count": 150,
   "metadata": {},
   "outputs": [
    {
     "data": {
      "text/plain": [
       "(4000, 501)"
      ]
     },
     "execution_count": 150,
     "metadata": {},
     "output_type": "execute_result"
    }
   ],
   "source": [
    "train.shape"
   ]
  },
  {
   "cell_type": "code",
   "execution_count": 3,
   "metadata": {},
   "outputs": [],
   "source": [
    "import pandas as pd\n",
    "from sklearn import linear_model\n",
    "train = pd.read_csv('https://s3.amazonaws.com/istreet-questions-us-east-1/417582/train.csv',header=None)\n",
    "test = pd.read_csv('https://s3.amazonaws.com/istreet-questions-us-east-1/417582/test.csv',header=None)\n",
    "\n",
    "X = train.iloc[:,:-1]\n",
    "y = train.iloc[:,-1]\n",
    "\n",
    "lm=linear_model.LinearRegression()\n",
    "model = lm.fit(X,y)\n",
    "predictions = lm.predict(test)\n",
    "\n",
    "pd.DataFrame(predictions).to_csv('pred.csv')"
   ]
  },
  {
   "cell_type": "code",
   "execution_count": 147,
   "metadata": {},
   "outputs": [
    {
     "name": "stdout",
     "output_type": "stream",
     "text": [
      "R square is 0.998\n"
     ]
    }
   ],
   "source": [
    "print('R square is %1.3f' %lm.score(X,y))"
   ]
  },
  {
   "cell_type": "code",
   "execution_count": 153,
   "metadata": {},
   "outputs": [],
   "source": []
  },
  {
   "cell_type": "code",
   "execution_count": 1,
   "metadata": {},
   "outputs": [],
   "source": [
    "#Reading the data\n",
    "import pandas as pd\n",
    "train = pd.read_csv('https://s3.amazonaws.com/istreet-questions-us-east-1/417582/train.csv',header=None)\n",
    "test = pd.read_csv('https://s3.amazonaws.com/istreet-questions-us-east-1/417582/test.csv',header=None)\n",
    "#train data\n",
    "X_train = train.iloc[:,:-1]\n",
    "y_train = train.iloc[:,-1]\n",
    "#test data\n",
    "X_test = test"
   ]
  },
  {
   "cell_type": "code",
   "execution_count": 2,
   "metadata": {},
   "outputs": [],
   "source": [
    "from sklearn.ensemble import RandomForestRegressor\n",
    "rf = RandomForestRegressor(n_estimators = 100, random_state = 42)\n",
    "rf.fit(X_train, y_train)\n",
    "predictions = rf.predict(X_test)"
   ]
  },
  {
   "cell_type": "code",
   "execution_count": 159,
   "metadata": {},
   "outputs": [],
   "source": [
    "predictions = rf.predict(X_test)"
   ]
  },
  {
   "cell_type": "code",
   "execution_count": 7,
   "metadata": {},
   "outputs": [
    {
     "name": "stdout",
     "output_type": "stream",
     "text": [
      "3 (1, 2)\n",
      "4 (1, 3)\n",
      "5 (1, 4)\n",
      "6 (1, 5)\n",
      "5 (2, 3)\n",
      "6 (2, 4)\n",
      "7 (2, 5)\n",
      "7 (3, 4)\n",
      "8 (3, 5)\n",
      "9 (4, 5)\n"
     ]
    }
   ],
   "source": [
    "\n",
    "from itertools import combinations\n",
    "comb = combinations([1,2,3,4,5],2)\n",
    "for i in comb:\n",
    "    print(sum(i),i)"
   ]
  },
  {
   "cell_type": "code",
   "execution_count": 8,
   "metadata": {},
   "outputs": [
    {
     "name": "stdout",
     "output_type": "stream",
     "text": [
      "4\n"
     ]
    },
    {
     "ename": "TypeError",
     "evalue": "int() argument must be a string, a bytes-like object or a number, not 'list'",
     "output_type": "error",
     "traceback": [
      "\u001b[1;31m---------------------------------------------------------------------------\u001b[0m",
      "\u001b[1;31mTypeError\u001b[0m                                 Traceback (most recent call last)",
      "\u001b[1;32m<ipython-input-8-92221d8210c1>\u001b[0m in \u001b[0;36m<module>\u001b[1;34m\u001b[0m\n\u001b[1;32m----> 1\u001b[1;33m \u001b[0mlist\u001b[0m \u001b[1;33m=\u001b[0m \u001b[0mlist\u001b[0m\u001b[1;33m(\u001b[0m\u001b[0mint\u001b[0m\u001b[1;33m(\u001b[0m\u001b[0minput\u001b[0m\u001b[1;33m(\u001b[0m\u001b[1;33m)\u001b[0m\u001b[1;33m.\u001b[0m\u001b[0msplit\u001b[0m\u001b[1;33m(\u001b[0m\u001b[1;33m)\u001b[0m\u001b[1;33m)\u001b[0m\u001b[1;33m)\u001b[0m\u001b[1;33m\u001b[0m\u001b[1;33m\u001b[0m\u001b[0m\n\u001b[0m\u001b[0;32m      2\u001b[0m \u001b[0mm\u001b[0m\u001b[1;33m=\u001b[0m\u001b[0mlist\u001b[0m\u001b[1;33m[\u001b[0m\u001b[1;36m0\u001b[0m\u001b[1;33m]\u001b[0m\u001b[1;33m\u001b[0m\u001b[1;33m\u001b[0m\u001b[0m\n\u001b[0;32m      3\u001b[0m \u001b[0mprint\u001b[0m\u001b[1;33m(\u001b[0m\u001b[0mlist\u001b[0m\u001b[1;33m[\u001b[0m\u001b[0mm\u001b[0m\u001b[1;33m]\u001b[0m\u001b[1;33m)\u001b[0m\u001b[1;33m\u001b[0m\u001b[1;33m\u001b[0m\u001b[0m\n",
      "\u001b[1;31mTypeError\u001b[0m: int() argument must be a string, a bytes-like object or a number, not 'list'"
     ]
    }
   ],
   "source": [
    "list = list(int(input().split()))\n"
   ]
  },
  {
   "cell_type": "code",
   "execution_count": 26,
   "metadata": {},
   "outputs": [
    {
     "name": "stdout",
     "output_type": "stream",
     "text": [
      "2 3 4 5 6 7\n",
      "6\n"
     ]
    }
   ],
   "source": [
    "inp = list(input().split())\n",
    "inp1 = [int(i) for i in inp]\n",
    "m=inp1[0]\n",
    "print(inp1[m*-1])"
   ]
  },
  {
   "cell_type": "code",
   "execution_count": 24,
   "metadata": {},
   "outputs": [
    {
     "data": {
      "text/plain": [
       "5"
      ]
     },
     "execution_count": 24,
     "metadata": {},
     "output_type": "execute_result"
    }
   ],
   "source": [
    "l1 = [2,3,4,5,6,7]\n",
    "l1[3*-1]"
   ]
  },
  {
   "cell_type": "code",
   "execution_count": 2,
   "metadata": {},
   "outputs": [
    {
     "data": {
      "text/plain": [
       "2"
      ]
     },
     "execution_count": 2,
     "metadata": {},
     "output_type": "execute_result"
    }
   ],
   "source": [
    "l1 = [2,3,4,5,6,7,2]\n",
    "l1.count(2)"
   ]
  },
  {
   "cell_type": "code",
   "execution_count": 4,
   "metadata": {},
   "outputs": [
    {
     "data": {
      "text/plain": [
       "array([ 1,  2,  3,  4,  5,  6,  7,  8,  9, 10, 11, 12, 13, 14, 15, 16, 17,\n",
       "       18, 19, 20, 21, 22, 23, 24, 25, 26, 27, 28, 29, 30, 31, 32, 33, 34,\n",
       "       35, 36, 37, 38, 39, 40, 41, 42, 43, 44, 45, 46, 47, 48, 49, 50, 51,\n",
       "       52, 53, 54, 55, 56, 57, 58, 59, 60, 61, 62, 63, 64, 65, 66, 67, 68,\n",
       "       69, 70, 71, 72, 73, 74, 75, 76, 77, 78, 79, 80, 81, 82, 83, 84, 85,\n",
       "       86, 87, 88, 89, 90, 91, 92, 93, 94, 95, 96, 97, 98, 99])"
      ]
     },
     "execution_count": 4,
     "metadata": {},
     "output_type": "execute_result"
    }
   ],
   "source": [
    "import numpy as np\n",
    "np.arange(1,100)"
   ]
  },
  {
   "cell_type": "code",
   "execution_count": null,
   "metadata": {},
   "outputs": [],
   "source": []
  }
 ],
 "metadata": {
  "kernelspec": {
   "display_name": "Python 3",
   "language": "python",
   "name": "python3"
  },
  "language_info": {
   "codemirror_mode": {
    "name": "ipython",
    "version": 3
   },
   "file_extension": ".py",
   "mimetype": "text/x-python",
   "name": "python",
   "nbconvert_exporter": "python",
   "pygments_lexer": "ipython3",
   "version": "3.7.3"
  }
 },
 "nbformat": 4,
 "nbformat_minor": 2
}
